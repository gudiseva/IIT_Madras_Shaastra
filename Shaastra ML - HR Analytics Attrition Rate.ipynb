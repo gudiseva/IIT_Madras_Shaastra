{
  "cells": [
    {
      "cell_type": "markdown",
      "metadata": {
        "id": "RqTMmZPvDET5"
      },
      "source": [
        "# Shaastra 2022\n",
        "\n",
        "# Machine Learning - A project based approach \n",
        "\n",
        "## Prediction of attrition - if a particular employee leave the company or not \n",
        "\n",
        "### 14 January 2022\n",
        "\n",
        "\n",
        "#### Session 2: Classification projects\n",
        "#### Trainers:\n",
        "Abhijit Rathod and Sai Shashank "
      ],
      "id": "RqTMmZPvDET5"
    },
    {
      "cell_type": "markdown",
      "metadata": {
        "id": "dhgASSqKDET7"
      },
      "source": [
        "### Install required modules here "
      ],
      "id": "dhgASSqKDET7"
    },
    {
      "cell_type": "markdown",
      "metadata": {
        "id": "zCtivv0rDET8"
      },
      "source": [
        "####  To install catboost use pip install catboost\n",
        "\n",
        "#### To install xgboost: If you are using anaconda use conda install -c anaconda py-xgboost OR pip install xgboost\n",
        "\n",
        "#### To install pandas Profiling \n",
        "##### 1. pip install pandas-profiling\n",
        "##### 2. pip install https://github.com/pandas-profiling/pandas-profiling/archive/master.zip\n",
        "##### 3. conda install -c conda-forge pandas-profiling\n"
      ],
      "id": "zCtivv0rDET8"
    },
    {
      "cell_type": "code",
      "execution_count": 1,
      "metadata": {
        "id": "dFPBs4e9DET9"
      },
      "outputs": [],
      "source": [
        "# Block reserved for any installations \n",
        "\n",
        "\n"
      ],
      "id": "dFPBs4e9DET9"
    },
    {
      "cell_type": "markdown",
      "metadata": {
        "id": "oNJ_vk0pDET_"
      },
      "source": [
        "## Import Python Modules, and Required Libraries \n",
        "##### Some modules and libraries are not used in this project but are given here for reader's reference (for use in other projects)"
      ],
      "id": "oNJ_vk0pDET_"
    },
    {
      "cell_type": "code",
      "execution_count": 5,
      "metadata": {
        "id": "wKr4k146DET_"
      },
      "outputs": [],
      "source": [
        "#Essential modules \n",
        "import pandas as pd\n",
        "import numpy as np\n",
        "\n",
        "#Visualisation libraries \n",
        "import seaborn as sns\n",
        "import matplotlib.pyplot as plt\n",
        "\n",
        "#Encoding \n",
        "from sklearn.preprocessing import LabelEncoder\n",
        "#import category_encoders as ce \n",
        "\n",
        "#Normalization\n",
        "from sklearn.preprocessing import MinMaxScaler\n",
        "from sklearn.preprocessing import StandardScaler\n",
        "from scipy import stats\n",
        "\n",
        "#Model Building\n",
        "\n",
        "from sklearn import model_selection\n",
        "from sklearn.model_selection import train_test_split,StratifiedKFold\n",
        "\n",
        "##Classifiers \n",
        "\n",
        "# Logistic Regression\n",
        "from sklearn.linear_model import LogisticRegression\n",
        "\n",
        "#Decision tree\n",
        "from sklearn import tree\n",
        "from sklearn.tree import DecisionTreeClassifier\n",
        "\n",
        "#Random Forest\n",
        "from sklearn.ensemble import RandomForestClassifier\n",
        "\n",
        "#Boosting \n",
        "from sklearn.ensemble import AdaBoostClassifier\n",
        "from sklearn.ensemble import GradientBoostingClassifier\n",
        "from xgboost import XGBClassifier\n",
        "#from catboost import CatBoostClassifier\n",
        "from lightgbm import LGBMClassifier\n",
        "\n",
        "#Bagging \n",
        "from sklearn.ensemble import BaggingClassifier\n",
        "from sklearn.datasets import make_classification #for bootstrapping\n",
        "\n",
        "#KFold \n",
        "from sklearn.model_selection import KFold\n",
        "from sklearn.model_selection import cross_val_score\n",
        "from sklearn.model_selection import StratifiedKFold\n",
        "from sklearn.model_selection import cross_validate\n",
        "\n",
        "#Evaluation libraries \n",
        "from sklearn.metrics import recall_score\n",
        "from sklearn.metrics import plot_confusion_matrix, confusion_matrix\n",
        "from sklearn.metrics import classification_report, accuracy_score\n",
        "from sklearn.metrics import roc_auc_score, roc_curve\n",
        "\n",
        "# surpress warnings\n",
        "import warnings\n",
        "warnings.filterwarnings('ignore')\n",
        "\n",
        "# Timer\n",
        "import timeit"
      ],
      "id": "wKr4k146DET_"
    },
    {
      "cell_type": "markdown",
      "metadata": {
        "id": "zE5yA_xNDEUA"
      },
      "source": [
        "## Helper Functions \n",
        "#### These helper functions are not needed as such. They are given just to show off :P. Other build in functions are also available as an alternative. "
      ],
      "id": "zE5yA_xNDEUA"
    },
    {
      "cell_type": "code",
      "execution_count": 6,
      "metadata": {
        "id": "SGI4PpawDEUA"
      },
      "outputs": [],
      "source": [
        "def printColumnTypes(df):\n",
        "    non_num_df = df.select_dtypes(include=['object'])\n",
        "    num_df = df.select_dtypes(exclude=['object'])\n",
        "    '''separates non-numeric and numeric columns'''\n",
        "    print(\"Non-Numeric columns:\")\n",
        "    for col in non_num_df:\n",
        "        print(f\"{col}\")\n",
        "    print(\"\")\n",
        "    print(\"Numeric columns:\")\n",
        "    for col in num_df:\n",
        "        print(f\"{col}\")\n",
        "\n",
        "def missing_cols(df):\n",
        "    '''prints out columns with its amount of missing values with its %'''\n",
        "    total = 0\n",
        "    for col in df.columns:\n",
        "        missing_vals = df[col].isnull().sum()\n",
        "        pct = df[col].isna().mean() * 100\n",
        "        total += missing_vals\n",
        "        if missing_vals != 0:\n",
        "          print('{} => {} [{}%]'.format(col, df[col].isnull().sum(), round(pct, 2)))\n",
        "    \n",
        "    if total == 0:\n",
        "        print(\"no missing values\")"
      ],
      "id": "SGI4PpawDEUA"
    },
    {
      "cell_type": "markdown",
      "metadata": {
        "id": "pZn3nwmbDEUB"
      },
      "source": [
        "# PHASE 1: EXPLORING TRAINING DATA"
      ],
      "id": "pZn3nwmbDEUB"
    },
    {
      "cell_type": "markdown",
      "metadata": {
        "id": "iX69hlg8DEUB"
      },
      "source": [
        "## Upload Data"
      ],
      "id": "iX69hlg8DEUB"
    },
    {
      "cell_type": "code",
      "execution_count": 7,
      "metadata": {
        "id": "ULwk9FNoDEUC",
        "outputId": "488f1df5-5ad4-4893-b6bd-3e937ad9a927",
        "colab": {
          "base_uri": "https://localhost:8080/",
          "height": 662
        }
      },
      "outputs": [
        {
          "output_type": "execute_result",
          "data": {
            "text/html": [
              "\n",
              "  <div id=\"df-2c57c014-6c63-4b30-b3e9-cc4e61d281f3\">\n",
              "    <div class=\"colab-df-container\">\n",
              "      <div>\n",
              "<style scoped>\n",
              "    .dataframe tbody tr th:only-of-type {\n",
              "        vertical-align: middle;\n",
              "    }\n",
              "\n",
              "    .dataframe tbody tr th {\n",
              "        vertical-align: top;\n",
              "    }\n",
              "\n",
              "    .dataframe thead th {\n",
              "        text-align: right;\n",
              "    }\n",
              "</style>\n",
              "<table border=\"1\" class=\"dataframe\">\n",
              "  <thead>\n",
              "    <tr style=\"text-align: right;\">\n",
              "      <th></th>\n",
              "      <th>Age</th>\n",
              "      <th>BusinessTravel</th>\n",
              "      <th>DailyRate</th>\n",
              "      <th>Department</th>\n",
              "      <th>DistanceFromHome</th>\n",
              "      <th>Education</th>\n",
              "      <th>EducationField</th>\n",
              "      <th>EmployeeCount</th>\n",
              "      <th>EmployeeNumber</th>\n",
              "      <th>EnvironmentSatisfaction</th>\n",
              "      <th>Gender</th>\n",
              "      <th>HourlyRate</th>\n",
              "      <th>JobInvolvement</th>\n",
              "      <th>JobLevel</th>\n",
              "      <th>JobRole</th>\n",
              "      <th>JobSatisfaction</th>\n",
              "      <th>MaritalStatus</th>\n",
              "      <th>MonthlyIncome</th>\n",
              "      <th>MonthlyRate</th>\n",
              "      <th>NumCompaniesWorked</th>\n",
              "      <th>Over18</th>\n",
              "      <th>OverTime</th>\n",
              "      <th>PercentSalaryHike</th>\n",
              "      <th>PerformanceRating</th>\n",
              "      <th>RelationshipSatisfaction</th>\n",
              "      <th>StandardHours</th>\n",
              "      <th>StockOptionLevel</th>\n",
              "      <th>TotalWorkingYears</th>\n",
              "      <th>TrainingTimesLastYear</th>\n",
              "      <th>WorkLifeBalance</th>\n",
              "      <th>YearsAtCompany</th>\n",
              "      <th>YearsInCurrentRole</th>\n",
              "      <th>YearsSinceLastPromotion</th>\n",
              "      <th>YearsWithCurrManager</th>\n",
              "      <th>Attrition</th>\n",
              "    </tr>\n",
              "  </thead>\n",
              "  <tbody>\n",
              "    <tr>\n",
              "      <th>0</th>\n",
              "      <td>25</td>\n",
              "      <td>Travel_Rarely</td>\n",
              "      <td>685</td>\n",
              "      <td>Research &amp; Development</td>\n",
              "      <td>1</td>\n",
              "      <td>3</td>\n",
              "      <td>Life Sciences</td>\n",
              "      <td>1</td>\n",
              "      <td>350</td>\n",
              "      <td>1</td>\n",
              "      <td>Female</td>\n",
              "      <td>62</td>\n",
              "      <td>3</td>\n",
              "      <td>2</td>\n",
              "      <td>Manufacturing Director</td>\n",
              "      <td>3</td>\n",
              "      <td>Married</td>\n",
              "      <td>4898</td>\n",
              "      <td>7505</td>\n",
              "      <td>0</td>\n",
              "      <td>Y</td>\n",
              "      <td>No</td>\n",
              "      <td>12</td>\n",
              "      <td>3</td>\n",
              "      <td>4</td>\n",
              "      <td>80</td>\n",
              "      <td>2</td>\n",
              "      <td>5</td>\n",
              "      <td>3</td>\n",
              "      <td>3</td>\n",
              "      <td>4</td>\n",
              "      <td>2</td>\n",
              "      <td>1</td>\n",
              "      <td>2</td>\n",
              "      <td>0</td>\n",
              "    </tr>\n",
              "    <tr>\n",
              "      <th>1</th>\n",
              "      <td>44</td>\n",
              "      <td>Travel_Rarely</td>\n",
              "      <td>1376</td>\n",
              "      <td>Human Resources</td>\n",
              "      <td>1</td>\n",
              "      <td>2</td>\n",
              "      <td>Medical</td>\n",
              "      <td>1</td>\n",
              "      <td>1098</td>\n",
              "      <td>2</td>\n",
              "      <td>Male</td>\n",
              "      <td>91</td>\n",
              "      <td>2</td>\n",
              "      <td>3</td>\n",
              "      <td>Human Resources</td>\n",
              "      <td>1</td>\n",
              "      <td>Married</td>\n",
              "      <td>10482</td>\n",
              "      <td>2326</td>\n",
              "      <td>9</td>\n",
              "      <td>Y</td>\n",
              "      <td>No</td>\n",
              "      <td>14</td>\n",
              "      <td>3</td>\n",
              "      <td>4</td>\n",
              "      <td>80</td>\n",
              "      <td>1</td>\n",
              "      <td>24</td>\n",
              "      <td>1</td>\n",
              "      <td>3</td>\n",
              "      <td>20</td>\n",
              "      <td>6</td>\n",
              "      <td>3</td>\n",
              "      <td>6</td>\n",
              "      <td>1</td>\n",
              "    </tr>\n",
              "    <tr>\n",
              "      <th>2</th>\n",
              "      <td>27</td>\n",
              "      <td>Travel_Rarely</td>\n",
              "      <td>135</td>\n",
              "      <td>Research &amp; Development</td>\n",
              "      <td>17</td>\n",
              "      <td>4</td>\n",
              "      <td>Life Sciences</td>\n",
              "      <td>1</td>\n",
              "      <td>1405</td>\n",
              "      <td>4</td>\n",
              "      <td>Female</td>\n",
              "      <td>51</td>\n",
              "      <td>3</td>\n",
              "      <td>1</td>\n",
              "      <td>Research Scientist</td>\n",
              "      <td>3</td>\n",
              "      <td>Single</td>\n",
              "      <td>2394</td>\n",
              "      <td>25681</td>\n",
              "      <td>1</td>\n",
              "      <td>Y</td>\n",
              "      <td>Yes</td>\n",
              "      <td>13</td>\n",
              "      <td>3</td>\n",
              "      <td>4</td>\n",
              "      <td>80</td>\n",
              "      <td>0</td>\n",
              "      <td>8</td>\n",
              "      <td>2</td>\n",
              "      <td>3</td>\n",
              "      <td>8</td>\n",
              "      <td>2</td>\n",
              "      <td>7</td>\n",
              "      <td>7</td>\n",
              "      <td>1</td>\n",
              "    </tr>\n",
              "    <tr>\n",
              "      <th>3</th>\n",
              "      <td>40</td>\n",
              "      <td>Travel_Frequently</td>\n",
              "      <td>580</td>\n",
              "      <td>Sales</td>\n",
              "      <td>5</td>\n",
              "      <td>4</td>\n",
              "      <td>Life Sciences</td>\n",
              "      <td>1</td>\n",
              "      <td>729</td>\n",
              "      <td>4</td>\n",
              "      <td>Male</td>\n",
              "      <td>48</td>\n",
              "      <td>2</td>\n",
              "      <td>3</td>\n",
              "      <td>Sales Executive</td>\n",
              "      <td>1</td>\n",
              "      <td>Married</td>\n",
              "      <td>10475</td>\n",
              "      <td>23772</td>\n",
              "      <td>5</td>\n",
              "      <td>Y</td>\n",
              "      <td>Yes</td>\n",
              "      <td>21</td>\n",
              "      <td>4</td>\n",
              "      <td>3</td>\n",
              "      <td>80</td>\n",
              "      <td>1</td>\n",
              "      <td>20</td>\n",
              "      <td>2</td>\n",
              "      <td>3</td>\n",
              "      <td>18</td>\n",
              "      <td>13</td>\n",
              "      <td>1</td>\n",
              "      <td>12</td>\n",
              "      <td>0</td>\n",
              "    </tr>\n",
              "    <tr>\n",
              "      <th>4</th>\n",
              "      <td>24</td>\n",
              "      <td>Travel_Rarely</td>\n",
              "      <td>477</td>\n",
              "      <td>Research &amp; Development</td>\n",
              "      <td>24</td>\n",
              "      <td>3</td>\n",
              "      <td>Medical</td>\n",
              "      <td>1</td>\n",
              "      <td>1173</td>\n",
              "      <td>4</td>\n",
              "      <td>Male</td>\n",
              "      <td>49</td>\n",
              "      <td>3</td>\n",
              "      <td>1</td>\n",
              "      <td>Laboratory Technician</td>\n",
              "      <td>2</td>\n",
              "      <td>Single</td>\n",
              "      <td>3597</td>\n",
              "      <td>6409</td>\n",
              "      <td>8</td>\n",
              "      <td>Y</td>\n",
              "      <td>No</td>\n",
              "      <td>22</td>\n",
              "      <td>4</td>\n",
              "      <td>4</td>\n",
              "      <td>80</td>\n",
              "      <td>0</td>\n",
              "      <td>6</td>\n",
              "      <td>2</td>\n",
              "      <td>3</td>\n",
              "      <td>4</td>\n",
              "      <td>3</td>\n",
              "      <td>1</td>\n",
              "      <td>2</td>\n",
              "      <td>0</td>\n",
              "    </tr>\n",
              "    <tr>\n",
              "      <th>...</th>\n",
              "      <td>...</td>\n",
              "      <td>...</td>\n",
              "      <td>...</td>\n",
              "      <td>...</td>\n",
              "      <td>...</td>\n",
              "      <td>...</td>\n",
              "      <td>...</td>\n",
              "      <td>...</td>\n",
              "      <td>...</td>\n",
              "      <td>...</td>\n",
              "      <td>...</td>\n",
              "      <td>...</td>\n",
              "      <td>...</td>\n",
              "      <td>...</td>\n",
              "      <td>...</td>\n",
              "      <td>...</td>\n",
              "      <td>...</td>\n",
              "      <td>...</td>\n",
              "      <td>...</td>\n",
              "      <td>...</td>\n",
              "      <td>...</td>\n",
              "      <td>...</td>\n",
              "      <td>...</td>\n",
              "      <td>...</td>\n",
              "      <td>...</td>\n",
              "      <td>...</td>\n",
              "      <td>...</td>\n",
              "      <td>...</td>\n",
              "      <td>...</td>\n",
              "      <td>...</td>\n",
              "      <td>...</td>\n",
              "      <td>...</td>\n",
              "      <td>...</td>\n",
              "      <td>...</td>\n",
              "      <td>...</td>\n",
              "    </tr>\n",
              "    <tr>\n",
              "      <th>1171</th>\n",
              "      <td>34</td>\n",
              "      <td>Non-Travel</td>\n",
              "      <td>1381</td>\n",
              "      <td>Sales</td>\n",
              "      <td>4</td>\n",
              "      <td>4</td>\n",
              "      <td>Marketing</td>\n",
              "      <td>1</td>\n",
              "      <td>523</td>\n",
              "      <td>3</td>\n",
              "      <td>Female</td>\n",
              "      <td>72</td>\n",
              "      <td>3</td>\n",
              "      <td>2</td>\n",
              "      <td>Sales Executive</td>\n",
              "      <td>3</td>\n",
              "      <td>Married</td>\n",
              "      <td>6538</td>\n",
              "      <td>12740</td>\n",
              "      <td>9</td>\n",
              "      <td>Y</td>\n",
              "      <td>No</td>\n",
              "      <td>15</td>\n",
              "      <td>3</td>\n",
              "      <td>1</td>\n",
              "      <td>80</td>\n",
              "      <td>1</td>\n",
              "      <td>6</td>\n",
              "      <td>3</td>\n",
              "      <td>3</td>\n",
              "      <td>3</td>\n",
              "      <td>2</td>\n",
              "      <td>1</td>\n",
              "      <td>2</td>\n",
              "      <td>0</td>\n",
              "    </tr>\n",
              "    <tr>\n",
              "      <th>1172</th>\n",
              "      <td>19</td>\n",
              "      <td>Travel_Rarely</td>\n",
              "      <td>1181</td>\n",
              "      <td>Research &amp; Development</td>\n",
              "      <td>3</td>\n",
              "      <td>1</td>\n",
              "      <td>Medical</td>\n",
              "      <td>1</td>\n",
              "      <td>201</td>\n",
              "      <td>2</td>\n",
              "      <td>Female</td>\n",
              "      <td>79</td>\n",
              "      <td>3</td>\n",
              "      <td>1</td>\n",
              "      <td>Laboratory Technician</td>\n",
              "      <td>2</td>\n",
              "      <td>Single</td>\n",
              "      <td>1483</td>\n",
              "      <td>16102</td>\n",
              "      <td>1</td>\n",
              "      <td>Y</td>\n",
              "      <td>No</td>\n",
              "      <td>14</td>\n",
              "      <td>3</td>\n",
              "      <td>4</td>\n",
              "      <td>80</td>\n",
              "      <td>0</td>\n",
              "      <td>1</td>\n",
              "      <td>3</td>\n",
              "      <td>3</td>\n",
              "      <td>1</td>\n",
              "      <td>0</td>\n",
              "      <td>0</td>\n",
              "      <td>0</td>\n",
              "      <td>0</td>\n",
              "    </tr>\n",
              "    <tr>\n",
              "      <th>1173</th>\n",
              "      <td>19</td>\n",
              "      <td>Travel_Rarely</td>\n",
              "      <td>645</td>\n",
              "      <td>Research &amp; Development</td>\n",
              "      <td>9</td>\n",
              "      <td>2</td>\n",
              "      <td>Life Sciences</td>\n",
              "      <td>1</td>\n",
              "      <td>1193</td>\n",
              "      <td>3</td>\n",
              "      <td>Male</td>\n",
              "      <td>54</td>\n",
              "      <td>3</td>\n",
              "      <td>1</td>\n",
              "      <td>Research Scientist</td>\n",
              "      <td>1</td>\n",
              "      <td>Single</td>\n",
              "      <td>2552</td>\n",
              "      <td>7172</td>\n",
              "      <td>1</td>\n",
              "      <td>Y</td>\n",
              "      <td>No</td>\n",
              "      <td>25</td>\n",
              "      <td>4</td>\n",
              "      <td>3</td>\n",
              "      <td>80</td>\n",
              "      <td>0</td>\n",
              "      <td>1</td>\n",
              "      <td>4</td>\n",
              "      <td>3</td>\n",
              "      <td>1</td>\n",
              "      <td>1</td>\n",
              "      <td>0</td>\n",
              "      <td>0</td>\n",
              "      <td>0</td>\n",
              "    </tr>\n",
              "    <tr>\n",
              "      <th>1174</th>\n",
              "      <td>31</td>\n",
              "      <td>Travel_Frequently</td>\n",
              "      <td>1327</td>\n",
              "      <td>Research &amp; Development</td>\n",
              "      <td>3</td>\n",
              "      <td>4</td>\n",
              "      <td>Medical</td>\n",
              "      <td>1</td>\n",
              "      <td>337</td>\n",
              "      <td>2</td>\n",
              "      <td>Male</td>\n",
              "      <td>73</td>\n",
              "      <td>3</td>\n",
              "      <td>3</td>\n",
              "      <td>Research Director</td>\n",
              "      <td>3</td>\n",
              "      <td>Divorced</td>\n",
              "      <td>13675</td>\n",
              "      <td>13523</td>\n",
              "      <td>9</td>\n",
              "      <td>Y</td>\n",
              "      <td>No</td>\n",
              "      <td>12</td>\n",
              "      <td>3</td>\n",
              "      <td>1</td>\n",
              "      <td>80</td>\n",
              "      <td>1</td>\n",
              "      <td>9</td>\n",
              "      <td>3</td>\n",
              "      <td>3</td>\n",
              "      <td>2</td>\n",
              "      <td>2</td>\n",
              "      <td>2</td>\n",
              "      <td>2</td>\n",
              "      <td>0</td>\n",
              "    </tr>\n",
              "    <tr>\n",
              "      <th>1175</th>\n",
              "      <td>23</td>\n",
              "      <td>Travel_Rarely</td>\n",
              "      <td>571</td>\n",
              "      <td>Research &amp; Development</td>\n",
              "      <td>12</td>\n",
              "      <td>2</td>\n",
              "      <td>Other</td>\n",
              "      <td>1</td>\n",
              "      <td>1982</td>\n",
              "      <td>4</td>\n",
              "      <td>Male</td>\n",
              "      <td>78</td>\n",
              "      <td>3</td>\n",
              "      <td>1</td>\n",
              "      <td>Laboratory Technician</td>\n",
              "      <td>4</td>\n",
              "      <td>Single</td>\n",
              "      <td>2647</td>\n",
              "      <td>13672</td>\n",
              "      <td>1</td>\n",
              "      <td>Y</td>\n",
              "      <td>No</td>\n",
              "      <td>13</td>\n",
              "      <td>3</td>\n",
              "      <td>3</td>\n",
              "      <td>80</td>\n",
              "      <td>0</td>\n",
              "      <td>5</td>\n",
              "      <td>6</td>\n",
              "      <td>4</td>\n",
              "      <td>5</td>\n",
              "      <td>2</td>\n",
              "      <td>1</td>\n",
              "      <td>4</td>\n",
              "      <td>0</td>\n",
              "    </tr>\n",
              "  </tbody>\n",
              "</table>\n",
              "<p>1176 rows × 35 columns</p>\n",
              "</div>\n",
              "      <button class=\"colab-df-convert\" onclick=\"convertToInteractive('df-2c57c014-6c63-4b30-b3e9-cc4e61d281f3')\"\n",
              "              title=\"Convert this dataframe to an interactive table.\"\n",
              "              style=\"display:none;\">\n",
              "        \n",
              "  <svg xmlns=\"http://www.w3.org/2000/svg\" height=\"24px\"viewBox=\"0 0 24 24\"\n",
              "       width=\"24px\">\n",
              "    <path d=\"M0 0h24v24H0V0z\" fill=\"none\"/>\n",
              "    <path d=\"M18.56 5.44l.94 2.06.94-2.06 2.06-.94-2.06-.94-.94-2.06-.94 2.06-2.06.94zm-11 1L8.5 8.5l.94-2.06 2.06-.94-2.06-.94L8.5 2.5l-.94 2.06-2.06.94zm10 10l.94 2.06.94-2.06 2.06-.94-2.06-.94-.94-2.06-.94 2.06-2.06.94z\"/><path d=\"M17.41 7.96l-1.37-1.37c-.4-.4-.92-.59-1.43-.59-.52 0-1.04.2-1.43.59L10.3 9.45l-7.72 7.72c-.78.78-.78 2.05 0 2.83L4 21.41c.39.39.9.59 1.41.59.51 0 1.02-.2 1.41-.59l7.78-7.78 2.81-2.81c.8-.78.8-2.07 0-2.86zM5.41 20L4 18.59l7.72-7.72 1.47 1.35L5.41 20z\"/>\n",
              "  </svg>\n",
              "      </button>\n",
              "      \n",
              "  <style>\n",
              "    .colab-df-container {\n",
              "      display:flex;\n",
              "      flex-wrap:wrap;\n",
              "      gap: 12px;\n",
              "    }\n",
              "\n",
              "    .colab-df-convert {\n",
              "      background-color: #E8F0FE;\n",
              "      border: none;\n",
              "      border-radius: 50%;\n",
              "      cursor: pointer;\n",
              "      display: none;\n",
              "      fill: #1967D2;\n",
              "      height: 32px;\n",
              "      padding: 0 0 0 0;\n",
              "      width: 32px;\n",
              "    }\n",
              "\n",
              "    .colab-df-convert:hover {\n",
              "      background-color: #E2EBFA;\n",
              "      box-shadow: 0px 1px 2px rgba(60, 64, 67, 0.3), 0px 1px 3px 1px rgba(60, 64, 67, 0.15);\n",
              "      fill: #174EA6;\n",
              "    }\n",
              "\n",
              "    [theme=dark] .colab-df-convert {\n",
              "      background-color: #3B4455;\n",
              "      fill: #D2E3FC;\n",
              "    }\n",
              "\n",
              "    [theme=dark] .colab-df-convert:hover {\n",
              "      background-color: #434B5C;\n",
              "      box-shadow: 0px 1px 3px 1px rgba(0, 0, 0, 0.15);\n",
              "      filter: drop-shadow(0px 1px 2px rgba(0, 0, 0, 0.3));\n",
              "      fill: #FFFFFF;\n",
              "    }\n",
              "  </style>\n",
              "\n",
              "      <script>\n",
              "        const buttonEl =\n",
              "          document.querySelector('#df-2c57c014-6c63-4b30-b3e9-cc4e61d281f3 button.colab-df-convert');\n",
              "        buttonEl.style.display =\n",
              "          google.colab.kernel.accessAllowed ? 'block' : 'none';\n",
              "\n",
              "        async function convertToInteractive(key) {\n",
              "          const element = document.querySelector('#df-2c57c014-6c63-4b30-b3e9-cc4e61d281f3');\n",
              "          const dataTable =\n",
              "            await google.colab.kernel.invokeFunction('convertToInteractive',\n",
              "                                                     [key], {});\n",
              "          if (!dataTable) return;\n",
              "\n",
              "          const docLinkHtml = 'Like what you see? Visit the ' +\n",
              "            '<a target=\"_blank\" href=https://colab.research.google.com/notebooks/data_table.ipynb>data table notebook</a>'\n",
              "            + ' to learn more about interactive tables.';\n",
              "          element.innerHTML = '';\n",
              "          dataTable['output_type'] = 'display_data';\n",
              "          await google.colab.output.renderOutput(dataTable, element);\n",
              "          const docLink = document.createElement('div');\n",
              "          docLink.innerHTML = docLinkHtml;\n",
              "          element.appendChild(docLink);\n",
              "        }\n",
              "      </script>\n",
              "    </div>\n",
              "  </div>\n",
              "  "
            ],
            "text/plain": [
              "      Age     BusinessTravel  ...  YearsWithCurrManager Attrition\n",
              "0      25      Travel_Rarely  ...                     2         0\n",
              "1      44      Travel_Rarely  ...                     6         1\n",
              "2      27      Travel_Rarely  ...                     7         1\n",
              "3      40  Travel_Frequently  ...                    12         0\n",
              "4      24      Travel_Rarely  ...                     2         0\n",
              "...   ...                ...  ...                   ...       ...\n",
              "1171   34         Non-Travel  ...                     2         0\n",
              "1172   19      Travel_Rarely  ...                     0         0\n",
              "1173   19      Travel_Rarely  ...                     0         0\n",
              "1174   31  Travel_Frequently  ...                     2         0\n",
              "1175   23      Travel_Rarely  ...                     4         0\n",
              "\n",
              "[1176 rows x 35 columns]"
            ]
          },
          "metadata": {},
          "execution_count": 7
        }
      ],
      "source": [
        "# df = pd.read_csv(r\"F:\\Shaastra Workshop\\Data Sprint 56 HR Analytics\\Attrition_training_data.csv\")\n",
        "df = pd.read_csv(r\"https://raw.githubusercontent.com/gudiseva/IIT_Madras_Shaastra/main/Attrition_training_data.csv\")\n",
        "df\n",
        "\n",
        "# df = df.sample(frac = 0.1)    ## Remove comment if you want to use this line \n",
        "                                ## If dataset is huge (more than 1,00,000 rows, take sample data for validation purpose. \n",
        "                                ## frac = 0.1 means 10 % data is used)"
      ],
      "id": "ULwk9FNoDEUC"
    },
    {
      "cell_type": "markdown",
      "metadata": {
        "id": "UCxHK63PDEUC"
      },
      "source": [
        "## Data Exploration Before Data Cleaning and Preprocessing "
      ],
      "id": "UCxHK63PDEUC"
    },
    {
      "cell_type": "markdown",
      "metadata": {
        "id": "E-_8GZJnDEUC"
      },
      "source": [
        "##### Caution: It is not recommended to run this block if your laptop has low memory"
      ],
      "id": "E-_8GZJnDEUC"
    },
    {
      "cell_type": "code",
      "execution_count": 9,
      "metadata": {
        "id": "hg0bl9-_DEUC",
        "outputId": "1a2586b1-c9f8-46c5-8f3f-ea057ddf2197",
        "colab": {
          "base_uri": "https://localhost:8080/",
          "height": 362
        }
      },
      "outputs": [
        {
          "output_type": "error",
          "ename": "TypeError",
          "evalue": "ignored",
          "traceback": [
            "\u001b[0;31m---------------------------------------------------------------------------\u001b[0m",
            "\u001b[0;31mTypeError\u001b[0m                                 Traceback (most recent call last)",
            "\u001b[0;32m<ipython-input-9-4082b453c406>\u001b[0m in \u001b[0;36m<module>\u001b[0;34m()\u001b[0m\n\u001b[1;32m      7\u001b[0m \u001b[0;34m\u001b[0m\u001b[0m\n\u001b[1;32m      8\u001b[0m \u001b[0;32mfrom\u001b[0m \u001b[0mpandas_profiling\u001b[0m \u001b[0;32mimport\u001b[0m \u001b[0mProfileReport\u001b[0m\u001b[0;34m\u001b[0m\u001b[0;34m\u001b[0m\u001b[0m\n\u001b[0;32m----> 9\u001b[0;31m \u001b[0mprof\u001b[0m \u001b[0;34m=\u001b[0m \u001b[0mProfileReport\u001b[0m\u001b[0;34m(\u001b[0m\u001b[0mdf\u001b[0m\u001b[0;34m)\u001b[0m\u001b[0;34m\u001b[0m\u001b[0;34m\u001b[0m\u001b[0m\n\u001b[0m\u001b[1;32m     10\u001b[0m \u001b[0mprof\u001b[0m\u001b[0;34m\u001b[0m\u001b[0;34m\u001b[0m\u001b[0m\n",
            "\u001b[0;32m/usr/local/lib/python3.7/dist-packages/pandas_profiling/__init__.py\u001b[0m in \u001b[0;36m__init__\u001b[0;34m(self, df, **kwargs)\u001b[0m\n\u001b[1;32m     64\u001b[0m         \u001b[0msample\u001b[0m \u001b[0;34m=\u001b[0m \u001b[0mkwargs\u001b[0m\u001b[0;34m.\u001b[0m\u001b[0mget\u001b[0m\u001b[0;34m(\u001b[0m\u001b[0;34m'sample'\u001b[0m\u001b[0;34m,\u001b[0m \u001b[0mdf\u001b[0m\u001b[0;34m.\u001b[0m\u001b[0mhead\u001b[0m\u001b[0;34m(\u001b[0m\u001b[0;34m)\u001b[0m\u001b[0;34m)\u001b[0m\u001b[0;34m\u001b[0m\u001b[0;34m\u001b[0m\u001b[0m\n\u001b[1;32m     65\u001b[0m \u001b[0;34m\u001b[0m\u001b[0m\n\u001b[0;32m---> 66\u001b[0;31m         \u001b[0mdescription_set\u001b[0m \u001b[0;34m=\u001b[0m \u001b[0mdescribe\u001b[0m\u001b[0;34m(\u001b[0m\u001b[0mdf\u001b[0m\u001b[0;34m,\u001b[0m \u001b[0;34m**\u001b[0m\u001b[0mkwargs\u001b[0m\u001b[0;34m)\u001b[0m\u001b[0;34m\u001b[0m\u001b[0;34m\u001b[0m\u001b[0m\n\u001b[0m\u001b[1;32m     67\u001b[0m \u001b[0;34m\u001b[0m\u001b[0m\n\u001b[1;32m     68\u001b[0m         self.html = to_html(sample,\n",
            "\u001b[0;32m/usr/local/lib/python3.7/dist-packages/pandas_profiling/describe.py\u001b[0m in \u001b[0;36mdescribe\u001b[0;34m(df, bins, check_correlation, correlation_threshold, correlation_overrides, check_recoded, pool_size, **kwargs)\u001b[0m\n\u001b[1;32m    390\u001b[0m             \u001b[0;32mif\u001b[0m \u001b[0mname\u001b[0m \u001b[0;32mnot\u001b[0m \u001b[0;32min\u001b[0m \u001b[0mnames\u001b[0m\u001b[0;34m:\u001b[0m\u001b[0;34m\u001b[0m\u001b[0;34m\u001b[0m\u001b[0m\n\u001b[1;32m    391\u001b[0m                 \u001b[0mnames\u001b[0m\u001b[0;34m.\u001b[0m\u001b[0mappend\u001b[0m\u001b[0;34m(\u001b[0m\u001b[0mname\u001b[0m\u001b[0;34m)\u001b[0m\u001b[0;34m\u001b[0m\u001b[0;34m\u001b[0m\u001b[0m\n\u001b[0;32m--> 392\u001b[0;31m     \u001b[0mvariable_stats\u001b[0m \u001b[0;34m=\u001b[0m \u001b[0mpd\u001b[0m\u001b[0;34m.\u001b[0m\u001b[0mconcat\u001b[0m\u001b[0;34m(\u001b[0m\u001b[0mldesc\u001b[0m\u001b[0;34m,\u001b[0m \u001b[0mjoin_axes\u001b[0m\u001b[0;34m=\u001b[0m\u001b[0mpd\u001b[0m\u001b[0;34m.\u001b[0m\u001b[0mIndex\u001b[0m\u001b[0;34m(\u001b[0m\u001b[0;34m[\u001b[0m\u001b[0mnames\u001b[0m\u001b[0;34m]\u001b[0m\u001b[0;34m)\u001b[0m\u001b[0;34m,\u001b[0m \u001b[0maxis\u001b[0m\u001b[0;34m=\u001b[0m\u001b[0;36m1\u001b[0m\u001b[0;34m)\u001b[0m\u001b[0;34m\u001b[0m\u001b[0;34m\u001b[0m\u001b[0m\n\u001b[0m\u001b[1;32m    393\u001b[0m     \u001b[0mvariable_stats\u001b[0m\u001b[0;34m.\u001b[0m\u001b[0mcolumns\u001b[0m\u001b[0;34m.\u001b[0m\u001b[0mnames\u001b[0m \u001b[0;34m=\u001b[0m \u001b[0mdf\u001b[0m\u001b[0;34m.\u001b[0m\u001b[0mcolumns\u001b[0m\u001b[0;34m.\u001b[0m\u001b[0mnames\u001b[0m\u001b[0;34m\u001b[0m\u001b[0;34m\u001b[0m\u001b[0m\n\u001b[1;32m    394\u001b[0m \u001b[0;34m\u001b[0m\u001b[0m\n",
            "\u001b[0;31mTypeError\u001b[0m: concat() got an unexpected keyword argument 'join_axes'"
          ]
        }
      ],
      "source": [
        "## Magic code\n",
        "\n",
        "## This gives entire profiling of data with visual representation in the form of an html page.\n",
        "\n",
        "## Note: It is not recommended to run this block, if the laptop is occupied with some other tasks \n",
        "## as it requires a huge amount of memory. \n",
        "\n",
        "from pandas_profiling import ProfileReport\n",
        "prof = ProfileReport(df)\n",
        "prof"
      ],
      "id": "hg0bl9-_DEUC"
    },
    {
      "cell_type": "code",
      "execution_count": 10,
      "metadata": {
        "id": "OYyzggfkDEUD",
        "outputId": "c1b6d063-dd6d-4bcd-b599-fe7c65cdf77e",
        "colab": {
          "base_uri": "https://localhost:8080/",
          "height": 164
        }
      },
      "outputs": [
        {
          "output_type": "error",
          "ename": "NameError",
          "evalue": "ignored",
          "traceback": [
            "\u001b[0;31m---------------------------------------------------------------------------\u001b[0m",
            "\u001b[0;31mNameError\u001b[0m                                 Traceback (most recent call last)",
            "\u001b[0;32m<ipython-input-10-ad3534a9612d>\u001b[0m in \u001b[0;36m<module>\u001b[0;34m()\u001b[0m\n\u001b[0;32m----> 1\u001b[0;31m \u001b[0mprof\u001b[0m\u001b[0;34m\u001b[0m\u001b[0;34m\u001b[0m\u001b[0m\n\u001b[0m",
            "\u001b[0;31mNameError\u001b[0m: name 'prof' is not defined"
          ]
        }
      ],
      "source": [
        "prof"
      ],
      "id": "OYyzggfkDEUD"
    },
    {
      "cell_type": "markdown",
      "metadata": {
        "id": "mWnXdEqPDEUD"
      },
      "source": [
        "## Dimension of the dataset"
      ],
      "id": "mWnXdEqPDEUD"
    },
    {
      "cell_type": "code",
      "execution_count": 11,
      "metadata": {
        "id": "sH3spHU5DEUD",
        "outputId": "1043c882-75a1-46dc-fbd1-f1b9fee75224",
        "colab": {
          "base_uri": "https://localhost:8080/"
        }
      },
      "outputs": [
        {
          "output_type": "stream",
          "name": "stdout",
          "text": [
            "Dimension of dataframe is (1176, 35)\n"
          ]
        }
      ],
      "source": [
        "print('Dimension of dataframe is', df.shape)"
      ],
      "id": "sH3spHU5DEUD"
    },
    {
      "cell_type": "markdown",
      "metadata": {
        "id": "-9j-dtoQDEUE"
      },
      "source": [
        "## Data types of each column"
      ],
      "id": "-9j-dtoQDEUE"
    },
    {
      "cell_type": "code",
      "execution_count": 12,
      "metadata": {
        "id": "VyX6bdXZDEUE",
        "outputId": "647ca7b1-70d7-43b9-b46d-ce1be37ef389",
        "colab": {
          "base_uri": "https://localhost:8080/"
        }
      },
      "outputs": [
        {
          "output_type": "stream",
          "name": "stdout",
          "text": [
            "<class 'pandas.core.frame.DataFrame'>\n",
            "RangeIndex: 1176 entries, 0 to 1175\n",
            "Data columns (total 35 columns):\n",
            " #   Column                    Non-Null Count  Dtype \n",
            "---  ------                    --------------  ----- \n",
            " 0   Age                       1176 non-null   int64 \n",
            " 1   BusinessTravel            1176 non-null   object\n",
            " 2   DailyRate                 1176 non-null   int64 \n",
            " 3   Department                1176 non-null   object\n",
            " 4   DistanceFromHome          1176 non-null   int64 \n",
            " 5   Education                 1176 non-null   int64 \n",
            " 6   EducationField            1176 non-null   object\n",
            " 7   EmployeeCount             1176 non-null   int64 \n",
            " 8   EmployeeNumber            1176 non-null   int64 \n",
            " 9   EnvironmentSatisfaction   1176 non-null   int64 \n",
            " 10  Gender                    1176 non-null   object\n",
            " 11  HourlyRate                1176 non-null   int64 \n",
            " 12  JobInvolvement            1176 non-null   int64 \n",
            " 13  JobLevel                  1176 non-null   int64 \n",
            " 14  JobRole                   1176 non-null   object\n",
            " 15  JobSatisfaction           1176 non-null   int64 \n",
            " 16  MaritalStatus             1176 non-null   object\n",
            " 17  MonthlyIncome             1176 non-null   int64 \n",
            " 18  MonthlyRate               1176 non-null   int64 \n",
            " 19  NumCompaniesWorked        1176 non-null   int64 \n",
            " 20  Over18                    1176 non-null   object\n",
            " 21  OverTime                  1176 non-null   object\n",
            " 22  PercentSalaryHike         1176 non-null   int64 \n",
            " 23  PerformanceRating         1176 non-null   int64 \n",
            " 24  RelationshipSatisfaction  1176 non-null   int64 \n",
            " 25  StandardHours             1176 non-null   int64 \n",
            " 26  StockOptionLevel          1176 non-null   int64 \n",
            " 27  TotalWorkingYears         1176 non-null   int64 \n",
            " 28  TrainingTimesLastYear     1176 non-null   int64 \n",
            " 29  WorkLifeBalance           1176 non-null   int64 \n",
            " 30  YearsAtCompany            1176 non-null   int64 \n",
            " 31  YearsInCurrentRole        1176 non-null   int64 \n",
            " 32  YearsSinceLastPromotion   1176 non-null   int64 \n",
            " 33  YearsWithCurrManager      1176 non-null   int64 \n",
            " 34  Attrition                 1176 non-null   int64 \n",
            "dtypes: int64(27), object(8)\n",
            "memory usage: 321.7+ KB\n"
          ]
        }
      ],
      "source": [
        "## method 1\n",
        "\n",
        "df.info()"
      ],
      "id": "VyX6bdXZDEUE"
    },
    {
      "cell_type": "code",
      "execution_count": 13,
      "metadata": {
        "id": "tyWlN6c0DEUF",
        "outputId": "1dae26d8-7d06-4ee4-ac61-c2fa7456c474",
        "colab": {
          "base_uri": "https://localhost:8080/"
        }
      },
      "outputs": [
        {
          "output_type": "stream",
          "name": "stdout",
          "text": [
            "Non-Numeric columns:\n",
            "BusinessTravel\n",
            "Department\n",
            "EducationField\n",
            "Gender\n",
            "JobRole\n",
            "MaritalStatus\n",
            "Over18\n",
            "OverTime\n",
            "\n",
            "Numeric columns:\n",
            "Age\n",
            "DailyRate\n",
            "DistanceFromHome\n",
            "Education\n",
            "EmployeeCount\n",
            "EmployeeNumber\n",
            "EnvironmentSatisfaction\n",
            "HourlyRate\n",
            "JobInvolvement\n",
            "JobLevel\n",
            "JobSatisfaction\n",
            "MonthlyIncome\n",
            "MonthlyRate\n",
            "NumCompaniesWorked\n",
            "PercentSalaryHike\n",
            "PerformanceRating\n",
            "RelationshipSatisfaction\n",
            "StandardHours\n",
            "StockOptionLevel\n",
            "TotalWorkingYears\n",
            "TrainingTimesLastYear\n",
            "WorkLifeBalance\n",
            "YearsAtCompany\n",
            "YearsInCurrentRole\n",
            "YearsSinceLastPromotion\n",
            "YearsWithCurrManager\n",
            "Attrition\n"
          ]
        }
      ],
      "source": [
        "## Method 2\n",
        "\n",
        "printColumnTypes(df)"
      ],
      "id": "tyWlN6c0DEUF"
    },
    {
      "cell_type": "markdown",
      "metadata": {
        "id": "8Ld21MixDEUF"
      },
      "source": [
        "##### Observation: From the information table above, we can see that\n",
        "##### 1. There are 28 features in the dataset \n",
        "##### 2. Non-Numeric columns:\n",
        "BusinessTravel, Department, EducationField, Gender, JobRole, MaritalStatus, Over18, OverTime"
      ],
      "id": "8Ld21MixDEUF"
    },
    {
      "cell_type": "markdown",
      "metadata": {
        "id": "-oOrHJ72DEUF"
      },
      "source": [
        "## Checking number of unique values in each column "
      ],
      "id": "-oOrHJ72DEUF"
    },
    {
      "cell_type": "code",
      "execution_count": 14,
      "metadata": {
        "scrolled": true,
        "id": "o2jpRyudDEUF",
        "outputId": "3f28c922-6a42-49ac-f945-de6389cb77e2",
        "colab": {
          "base_uri": "https://localhost:8080/"
        }
      },
      "outputs": [
        {
          "output_type": "execute_result",
          "data": {
            "text/plain": [
              "Age                           43\n",
              "BusinessTravel                 3\n",
              "DailyRate                    785\n",
              "Department                     3\n",
              "DistanceFromHome              29\n",
              "Education                      5\n",
              "EducationField                 6\n",
              "EmployeeCount                  1\n",
              "EmployeeNumber              1176\n",
              "EnvironmentSatisfaction        4\n",
              "Gender                         2\n",
              "HourlyRate                    71\n",
              "JobInvolvement                 4\n",
              "JobLevel                       5\n",
              "JobRole                        9\n",
              "JobSatisfaction                4\n",
              "MaritalStatus                  3\n",
              "MonthlyIncome               1090\n",
              "MonthlyRate                 1145\n",
              "NumCompaniesWorked            10\n",
              "Over18                         1\n",
              "OverTime                       2\n",
              "PercentSalaryHike             15\n",
              "PerformanceRating              2\n",
              "RelationshipSatisfaction       4\n",
              "StandardHours                  1\n",
              "StockOptionLevel               4\n",
              "TotalWorkingYears             39\n",
              "TrainingTimesLastYear          7\n",
              "WorkLifeBalance                4\n",
              "YearsAtCompany                35\n",
              "YearsInCurrentRole            19\n",
              "YearsSinceLastPromotion       16\n",
              "YearsWithCurrManager          17\n",
              "Attrition                      2\n",
              "dtype: int64"
            ]
          },
          "metadata": {},
          "execution_count": 14
        }
      ],
      "source": [
        "df.nunique()"
      ],
      "id": "o2jpRyudDEUF"
    },
    {
      "cell_type": "markdown",
      "metadata": {
        "id": "UuvaZdtYDEUG"
      },
      "source": [
        "## Data Cleaning and Preprocessing "
      ],
      "id": "UuvaZdtYDEUG"
    },
    {
      "cell_type": "markdown",
      "metadata": {
        "id": "JSxkONvADEUG"
      },
      "source": [
        "### Check for missing data"
      ],
      "id": "JSxkONvADEUG"
    },
    {
      "cell_type": "code",
      "execution_count": 15,
      "metadata": {
        "id": "q--h55xsDEUG",
        "outputId": "68256fab-a444-46d7-e8d8-0d8a59eb5310",
        "colab": {
          "base_uri": "https://localhost:8080/"
        }
      },
      "outputs": [
        {
          "output_type": "execute_result",
          "data": {
            "text/plain": [
              "Age                         0\n",
              "BusinessTravel              0\n",
              "DailyRate                   0\n",
              "Department                  0\n",
              "DistanceFromHome            0\n",
              "Education                   0\n",
              "EducationField              0\n",
              "EmployeeCount               0\n",
              "EmployeeNumber              0\n",
              "EnvironmentSatisfaction     0\n",
              "Gender                      0\n",
              "HourlyRate                  0\n",
              "JobInvolvement              0\n",
              "JobLevel                    0\n",
              "JobRole                     0\n",
              "JobSatisfaction             0\n",
              "MaritalStatus               0\n",
              "MonthlyIncome               0\n",
              "MonthlyRate                 0\n",
              "NumCompaniesWorked          0\n",
              "Over18                      0\n",
              "OverTime                    0\n",
              "PercentSalaryHike           0\n",
              "PerformanceRating           0\n",
              "RelationshipSatisfaction    0\n",
              "StandardHours               0\n",
              "StockOptionLevel            0\n",
              "TotalWorkingYears           0\n",
              "TrainingTimesLastYear       0\n",
              "WorkLifeBalance             0\n",
              "YearsAtCompany              0\n",
              "YearsInCurrentRole          0\n",
              "YearsSinceLastPromotion     0\n",
              "YearsWithCurrManager        0\n",
              "Attrition                   0\n",
              "dtype: int64"
            ]
          },
          "metadata": {},
          "execution_count": 15
        }
      ],
      "source": [
        "## Method 1\n",
        "\n",
        "df.isnull().sum()"
      ],
      "id": "q--h55xsDEUG"
    },
    {
      "cell_type": "code",
      "execution_count": 16,
      "metadata": {
        "id": "vKQwovSZDEUG",
        "outputId": "f7dc82ad-6050-46bc-dbb3-c98b9b0b4702",
        "colab": {
          "base_uri": "https://localhost:8080/"
        }
      },
      "outputs": [
        {
          "output_type": "stream",
          "name": "stdout",
          "text": [
            "no missing values\n"
          ]
        }
      ],
      "source": [
        "## Method 2 \n",
        "\n",
        "missing_cols(df)      # Gives percentage of missing values"
      ],
      "id": "vKQwovSZDEUG"
    },
    {
      "cell_type": "markdown",
      "metadata": {
        "id": "EmnhodevDEUG"
      },
      "source": [
        "##### Observation: No missing values"
      ],
      "id": "EmnhodevDEUG"
    },
    {
      "cell_type": "markdown",
      "metadata": {
        "id": "4qCVHmzyDEUH"
      },
      "source": [
        "## Dealing with Missing Values \n",
        "\n",
        "### Alternative 1: If percentage of missing values is more than 30%, it is better to drop that column (Not a thumb rule)\n",
        "\n",
        "### Alternative 2: Replace missing values with 'zero'\n",
        "\n",
        "### Alternative 3: Replace missing values with 'mean' of the column \n",
        "\n",
        "### Alternative 4: Replace some missing values with 'mean', some with zeroes\n",
        "\n",
        "### Alternative 5: Use advanced imputers like KNN imputer (Not in the scope of the workshop)"
      ],
      "id": "4qCVHmzyDEUH"
    },
    {
      "cell_type": "markdown",
      "metadata": {
        "id": "6qFnI3f8DEUH"
      },
      "source": [
        "##### Note: axis=1 (or axis='columns') is vertical axis. To take it further, if you use pandas method drop, to remove columns or rows, if you specify axis=1 you will be removing columns. If you specify axis=0 you will be removing rows from dataset."
      ],
      "id": "6qFnI3f8DEUH"
    },
    {
      "cell_type": "code",
      "execution_count": null,
      "metadata": {
        "id": "ja1F5LLXDEUH"
      },
      "outputs": [],
      "source": [
        "## Alternative 1:\n",
        "\n",
        "df = df.drop(['DataFrame Column 1','DataFrame Column 2'], axis = 1)\n",
        "df"
      ],
      "id": "ja1F5LLXDEUH"
    },
    {
      "cell_type": "code",
      "execution_count": null,
      "metadata": {
        "id": "ENWUsCgcDEUH"
      },
      "outputs": [],
      "source": [
        "## Alternative 2:\n",
        "#df = df.fillna(0)\n",
        "\n",
        "df = df.fillna(0)"
      ],
      "id": "ENWUsCgcDEUH"
    },
    {
      "cell_type": "code",
      "execution_count": null,
      "metadata": {
        "id": "OialQKVnDEUH"
      },
      "outputs": [],
      "source": [
        "## Alternative 4: \n",
        "\n",
        "#df['DataFrame Column'] = df['DataFrame Column'].fillna(0)\n",
        "#df['DataFrame Column'] = df['DataFrame Column'].fillna(mean())\n",
        "\n",
        "df[''].fillna(int(df['NumCompaniesWorked'].mean()), inplace=True)     # When inplace = True , the data is modified in place, \n",
        "                                                                                        # which means it will return nothing \n",
        "                                                                                        # and the dataframe is now updated.\n",
        "df\n",
        "\n",
        "df['NumCompaniesWorked'] = df['NumCompaniesWorked'].fillna(0)\n",
        "df"
      ],
      "id": "OialQKVnDEUH"
    },
    {
      "cell_type": "code",
      "execution_count": null,
      "metadata": {
        "id": "wcZv0ChnDEUI"
      },
      "outputs": [],
      "source": [
        "## Alternative 3:\n",
        "#df = df.fillna(mean())\n",
        "\n",
        "df = df.fillna(df.mean())\n",
        "df"
      ],
      "id": "wcZv0ChnDEUI"
    },
    {
      "cell_type": "markdown",
      "metadata": {
        "id": "maVAEuQ-DEUI"
      },
      "source": [
        "## Check if there are missing values "
      ],
      "id": "maVAEuQ-DEUI"
    },
    {
      "cell_type": "code",
      "execution_count": 17,
      "metadata": {
        "id": "gP9g_Mq0DEUI",
        "outputId": "a9a9c980-e540-4b3c-9bea-b039e1e79ece",
        "colab": {
          "base_uri": "https://localhost:8080/"
        }
      },
      "outputs": [
        {
          "output_type": "stream",
          "name": "stdout",
          "text": [
            "no missing values\n"
          ]
        }
      ],
      "source": [
        "## Rechecking\n",
        "missing_cols(df)"
      ],
      "id": "gP9g_Mq0DEUI"
    },
    {
      "cell_type": "markdown",
      "metadata": {
        "id": "s61qs5avDEUI"
      },
      "source": [
        "## Encoding "
      ],
      "id": "s61qs5avDEUI"
    },
    {
      "cell_type": "markdown",
      "metadata": {
        "id": "98ozknejDEUJ"
      },
      "source": [
        "### Get the list of categorical Columns"
      ],
      "id": "98ozknejDEUJ"
    },
    {
      "cell_type": "code",
      "execution_count": 18,
      "metadata": {
        "id": "b_Q_kvOWDEUJ",
        "outputId": "99db5c6b-c24c-43be-eb22-74317d261223",
        "colab": {
          "base_uri": "https://localhost:8080/"
        }
      },
      "outputs": [
        {
          "output_type": "stream",
          "name": "stdout",
          "text": [
            "Index(['BusinessTravel', 'Department', 'EducationField', 'Gender', 'JobRole',\n",
            "       'MaritalStatus', 'Over18', 'OverTime'],\n",
            "      dtype='object')\n"
          ]
        }
      ],
      "source": [
        "objList = df.select_dtypes(include = \"object\").columns\n",
        "print (objList)"
      ],
      "id": "b_Q_kvOWDEUJ"
    },
    {
      "cell_type": "code",
      "execution_count": 19,
      "metadata": {
        "id": "fgr8aLRCDEUJ",
        "outputId": "645ee22a-d9e7-4809-b9c0-65ad5bf05950",
        "colab": {
          "base_uri": "https://localhost:8080/"
        }
      },
      "outputs": [
        {
          "output_type": "stream",
          "name": "stdout",
          "text": [
            "<class 'pandas.core.frame.DataFrame'>\n",
            "RangeIndex: 1176 entries, 0 to 1175\n",
            "Data columns (total 35 columns):\n",
            " #   Column                    Non-Null Count  Dtype\n",
            "---  ------                    --------------  -----\n",
            " 0   Age                       1176 non-null   int64\n",
            " 1   BusinessTravel            1176 non-null   int64\n",
            " 2   DailyRate                 1176 non-null   int64\n",
            " 3   Department                1176 non-null   int64\n",
            " 4   DistanceFromHome          1176 non-null   int64\n",
            " 5   Education                 1176 non-null   int64\n",
            " 6   EducationField            1176 non-null   int64\n",
            " 7   EmployeeCount             1176 non-null   int64\n",
            " 8   EmployeeNumber            1176 non-null   int64\n",
            " 9   EnvironmentSatisfaction   1176 non-null   int64\n",
            " 10  Gender                    1176 non-null   int64\n",
            " 11  HourlyRate                1176 non-null   int64\n",
            " 12  JobInvolvement            1176 non-null   int64\n",
            " 13  JobLevel                  1176 non-null   int64\n",
            " 14  JobRole                   1176 non-null   int64\n",
            " 15  JobSatisfaction           1176 non-null   int64\n",
            " 16  MaritalStatus             1176 non-null   int64\n",
            " 17  MonthlyIncome             1176 non-null   int64\n",
            " 18  MonthlyRate               1176 non-null   int64\n",
            " 19  NumCompaniesWorked        1176 non-null   int64\n",
            " 20  Over18                    1176 non-null   int64\n",
            " 21  OverTime                  1176 non-null   int64\n",
            " 22  PercentSalaryHike         1176 non-null   int64\n",
            " 23  PerformanceRating         1176 non-null   int64\n",
            " 24  RelationshipSatisfaction  1176 non-null   int64\n",
            " 25  StandardHours             1176 non-null   int64\n",
            " 26  StockOptionLevel          1176 non-null   int64\n",
            " 27  TotalWorkingYears         1176 non-null   int64\n",
            " 28  TrainingTimesLastYear     1176 non-null   int64\n",
            " 29  WorkLifeBalance           1176 non-null   int64\n",
            " 30  YearsAtCompany            1176 non-null   int64\n",
            " 31  YearsInCurrentRole        1176 non-null   int64\n",
            " 32  YearsSinceLastPromotion   1176 non-null   int64\n",
            " 33  YearsWithCurrManager      1176 non-null   int64\n",
            " 34  Attrition                 1176 non-null   int64\n",
            "dtypes: int64(35)\n",
            "memory usage: 321.7 KB\n",
            "None\n"
          ]
        }
      ],
      "source": [
        "## Method 1: Label Encoder\n",
        "#Label Encoding for object to numeric conversion\n",
        "\n",
        "le = LabelEncoder()\n",
        "\n",
        "for feat in objList:\n",
        "    df[feat] = le.fit_transform(df[feat].astype(str))\n",
        "\n",
        "print (df.info())"
      ],
      "id": "fgr8aLRCDEUJ"
    },
    {
      "cell_type": "code",
      "execution_count": 20,
      "metadata": {
        "id": "LK1X6sbPDEUK",
        "outputId": "34d63bb2-3b5b-4d48-dfd5-55cb7c01bebf",
        "colab": {
          "base_uri": "https://localhost:8080/",
          "height": 270
        }
      },
      "outputs": [
        {
          "output_type": "execute_result",
          "data": {
            "text/html": [
              "\n",
              "  <div id=\"df-ec83c224-c4dd-48c1-923f-94a988140994\">\n",
              "    <div class=\"colab-df-container\">\n",
              "      <div>\n",
              "<style scoped>\n",
              "    .dataframe tbody tr th:only-of-type {\n",
              "        vertical-align: middle;\n",
              "    }\n",
              "\n",
              "    .dataframe tbody tr th {\n",
              "        vertical-align: top;\n",
              "    }\n",
              "\n",
              "    .dataframe thead th {\n",
              "        text-align: right;\n",
              "    }\n",
              "</style>\n",
              "<table border=\"1\" class=\"dataframe\">\n",
              "  <thead>\n",
              "    <tr style=\"text-align: right;\">\n",
              "      <th></th>\n",
              "      <th>Age</th>\n",
              "      <th>BusinessTravel</th>\n",
              "      <th>DailyRate</th>\n",
              "      <th>Department</th>\n",
              "      <th>DistanceFromHome</th>\n",
              "      <th>Education</th>\n",
              "      <th>EducationField</th>\n",
              "      <th>EmployeeCount</th>\n",
              "      <th>EmployeeNumber</th>\n",
              "      <th>EnvironmentSatisfaction</th>\n",
              "      <th>Gender</th>\n",
              "      <th>HourlyRate</th>\n",
              "      <th>JobInvolvement</th>\n",
              "      <th>JobLevel</th>\n",
              "      <th>JobRole</th>\n",
              "      <th>JobSatisfaction</th>\n",
              "      <th>MaritalStatus</th>\n",
              "      <th>MonthlyIncome</th>\n",
              "      <th>MonthlyRate</th>\n",
              "      <th>NumCompaniesWorked</th>\n",
              "      <th>Over18</th>\n",
              "      <th>OverTime</th>\n",
              "      <th>PercentSalaryHike</th>\n",
              "      <th>PerformanceRating</th>\n",
              "      <th>RelationshipSatisfaction</th>\n",
              "      <th>StandardHours</th>\n",
              "      <th>StockOptionLevel</th>\n",
              "      <th>TotalWorkingYears</th>\n",
              "      <th>TrainingTimesLastYear</th>\n",
              "      <th>WorkLifeBalance</th>\n",
              "      <th>YearsAtCompany</th>\n",
              "      <th>YearsInCurrentRole</th>\n",
              "      <th>YearsSinceLastPromotion</th>\n",
              "      <th>YearsWithCurrManager</th>\n",
              "      <th>Attrition</th>\n",
              "    </tr>\n",
              "  </thead>\n",
              "  <tbody>\n",
              "    <tr>\n",
              "      <th>0</th>\n",
              "      <td>25</td>\n",
              "      <td>2</td>\n",
              "      <td>685</td>\n",
              "      <td>1</td>\n",
              "      <td>1</td>\n",
              "      <td>3</td>\n",
              "      <td>1</td>\n",
              "      <td>1</td>\n",
              "      <td>350</td>\n",
              "      <td>1</td>\n",
              "      <td>0</td>\n",
              "      <td>62</td>\n",
              "      <td>3</td>\n",
              "      <td>2</td>\n",
              "      <td>4</td>\n",
              "      <td>3</td>\n",
              "      <td>1</td>\n",
              "      <td>4898</td>\n",
              "      <td>7505</td>\n",
              "      <td>0</td>\n",
              "      <td>0</td>\n",
              "      <td>0</td>\n",
              "      <td>12</td>\n",
              "      <td>3</td>\n",
              "      <td>4</td>\n",
              "      <td>80</td>\n",
              "      <td>2</td>\n",
              "      <td>5</td>\n",
              "      <td>3</td>\n",
              "      <td>3</td>\n",
              "      <td>4</td>\n",
              "      <td>2</td>\n",
              "      <td>1</td>\n",
              "      <td>2</td>\n",
              "      <td>0</td>\n",
              "    </tr>\n",
              "    <tr>\n",
              "      <th>1</th>\n",
              "      <td>44</td>\n",
              "      <td>2</td>\n",
              "      <td>1376</td>\n",
              "      <td>0</td>\n",
              "      <td>1</td>\n",
              "      <td>2</td>\n",
              "      <td>3</td>\n",
              "      <td>1</td>\n",
              "      <td>1098</td>\n",
              "      <td>2</td>\n",
              "      <td>1</td>\n",
              "      <td>91</td>\n",
              "      <td>2</td>\n",
              "      <td>3</td>\n",
              "      <td>1</td>\n",
              "      <td>1</td>\n",
              "      <td>1</td>\n",
              "      <td>10482</td>\n",
              "      <td>2326</td>\n",
              "      <td>9</td>\n",
              "      <td>0</td>\n",
              "      <td>0</td>\n",
              "      <td>14</td>\n",
              "      <td>3</td>\n",
              "      <td>4</td>\n",
              "      <td>80</td>\n",
              "      <td>1</td>\n",
              "      <td>24</td>\n",
              "      <td>1</td>\n",
              "      <td>3</td>\n",
              "      <td>20</td>\n",
              "      <td>6</td>\n",
              "      <td>3</td>\n",
              "      <td>6</td>\n",
              "      <td>1</td>\n",
              "    </tr>\n",
              "    <tr>\n",
              "      <th>2</th>\n",
              "      <td>27</td>\n",
              "      <td>2</td>\n",
              "      <td>135</td>\n",
              "      <td>1</td>\n",
              "      <td>17</td>\n",
              "      <td>4</td>\n",
              "      <td>1</td>\n",
              "      <td>1</td>\n",
              "      <td>1405</td>\n",
              "      <td>4</td>\n",
              "      <td>0</td>\n",
              "      <td>51</td>\n",
              "      <td>3</td>\n",
              "      <td>1</td>\n",
              "      <td>6</td>\n",
              "      <td>3</td>\n",
              "      <td>2</td>\n",
              "      <td>2394</td>\n",
              "      <td>25681</td>\n",
              "      <td>1</td>\n",
              "      <td>0</td>\n",
              "      <td>1</td>\n",
              "      <td>13</td>\n",
              "      <td>3</td>\n",
              "      <td>4</td>\n",
              "      <td>80</td>\n",
              "      <td>0</td>\n",
              "      <td>8</td>\n",
              "      <td>2</td>\n",
              "      <td>3</td>\n",
              "      <td>8</td>\n",
              "      <td>2</td>\n",
              "      <td>7</td>\n",
              "      <td>7</td>\n",
              "      <td>1</td>\n",
              "    </tr>\n",
              "    <tr>\n",
              "      <th>3</th>\n",
              "      <td>40</td>\n",
              "      <td>1</td>\n",
              "      <td>580</td>\n",
              "      <td>2</td>\n",
              "      <td>5</td>\n",
              "      <td>4</td>\n",
              "      <td>1</td>\n",
              "      <td>1</td>\n",
              "      <td>729</td>\n",
              "      <td>4</td>\n",
              "      <td>1</td>\n",
              "      <td>48</td>\n",
              "      <td>2</td>\n",
              "      <td>3</td>\n",
              "      <td>7</td>\n",
              "      <td>1</td>\n",
              "      <td>1</td>\n",
              "      <td>10475</td>\n",
              "      <td>23772</td>\n",
              "      <td>5</td>\n",
              "      <td>0</td>\n",
              "      <td>1</td>\n",
              "      <td>21</td>\n",
              "      <td>4</td>\n",
              "      <td>3</td>\n",
              "      <td>80</td>\n",
              "      <td>1</td>\n",
              "      <td>20</td>\n",
              "      <td>2</td>\n",
              "      <td>3</td>\n",
              "      <td>18</td>\n",
              "      <td>13</td>\n",
              "      <td>1</td>\n",
              "      <td>12</td>\n",
              "      <td>0</td>\n",
              "    </tr>\n",
              "    <tr>\n",
              "      <th>4</th>\n",
              "      <td>24</td>\n",
              "      <td>2</td>\n",
              "      <td>477</td>\n",
              "      <td>1</td>\n",
              "      <td>24</td>\n",
              "      <td>3</td>\n",
              "      <td>3</td>\n",
              "      <td>1</td>\n",
              "      <td>1173</td>\n",
              "      <td>4</td>\n",
              "      <td>1</td>\n",
              "      <td>49</td>\n",
              "      <td>3</td>\n",
              "      <td>1</td>\n",
              "      <td>2</td>\n",
              "      <td>2</td>\n",
              "      <td>2</td>\n",
              "      <td>3597</td>\n",
              "      <td>6409</td>\n",
              "      <td>8</td>\n",
              "      <td>0</td>\n",
              "      <td>0</td>\n",
              "      <td>22</td>\n",
              "      <td>4</td>\n",
              "      <td>4</td>\n",
              "      <td>80</td>\n",
              "      <td>0</td>\n",
              "      <td>6</td>\n",
              "      <td>2</td>\n",
              "      <td>3</td>\n",
              "      <td>4</td>\n",
              "      <td>3</td>\n",
              "      <td>1</td>\n",
              "      <td>2</td>\n",
              "      <td>0</td>\n",
              "    </tr>\n",
              "  </tbody>\n",
              "</table>\n",
              "</div>\n",
              "      <button class=\"colab-df-convert\" onclick=\"convertToInteractive('df-ec83c224-c4dd-48c1-923f-94a988140994')\"\n",
              "              title=\"Convert this dataframe to an interactive table.\"\n",
              "              style=\"display:none;\">\n",
              "        \n",
              "  <svg xmlns=\"http://www.w3.org/2000/svg\" height=\"24px\"viewBox=\"0 0 24 24\"\n",
              "       width=\"24px\">\n",
              "    <path d=\"M0 0h24v24H0V0z\" fill=\"none\"/>\n",
              "    <path d=\"M18.56 5.44l.94 2.06.94-2.06 2.06-.94-2.06-.94-.94-2.06-.94 2.06-2.06.94zm-11 1L8.5 8.5l.94-2.06 2.06-.94-2.06-.94L8.5 2.5l-.94 2.06-2.06.94zm10 10l.94 2.06.94-2.06 2.06-.94-2.06-.94-.94-2.06-.94 2.06-2.06.94z\"/><path d=\"M17.41 7.96l-1.37-1.37c-.4-.4-.92-.59-1.43-.59-.52 0-1.04.2-1.43.59L10.3 9.45l-7.72 7.72c-.78.78-.78 2.05 0 2.83L4 21.41c.39.39.9.59 1.41.59.51 0 1.02-.2 1.41-.59l7.78-7.78 2.81-2.81c.8-.78.8-2.07 0-2.86zM5.41 20L4 18.59l7.72-7.72 1.47 1.35L5.41 20z\"/>\n",
              "  </svg>\n",
              "      </button>\n",
              "      \n",
              "  <style>\n",
              "    .colab-df-container {\n",
              "      display:flex;\n",
              "      flex-wrap:wrap;\n",
              "      gap: 12px;\n",
              "    }\n",
              "\n",
              "    .colab-df-convert {\n",
              "      background-color: #E8F0FE;\n",
              "      border: none;\n",
              "      border-radius: 50%;\n",
              "      cursor: pointer;\n",
              "      display: none;\n",
              "      fill: #1967D2;\n",
              "      height: 32px;\n",
              "      padding: 0 0 0 0;\n",
              "      width: 32px;\n",
              "    }\n",
              "\n",
              "    .colab-df-convert:hover {\n",
              "      background-color: #E2EBFA;\n",
              "      box-shadow: 0px 1px 2px rgba(60, 64, 67, 0.3), 0px 1px 3px 1px rgba(60, 64, 67, 0.15);\n",
              "      fill: #174EA6;\n",
              "    }\n",
              "\n",
              "    [theme=dark] .colab-df-convert {\n",
              "      background-color: #3B4455;\n",
              "      fill: #D2E3FC;\n",
              "    }\n",
              "\n",
              "    [theme=dark] .colab-df-convert:hover {\n",
              "      background-color: #434B5C;\n",
              "      box-shadow: 0px 1px 3px 1px rgba(0, 0, 0, 0.15);\n",
              "      filter: drop-shadow(0px 1px 2px rgba(0, 0, 0, 0.3));\n",
              "      fill: #FFFFFF;\n",
              "    }\n",
              "  </style>\n",
              "\n",
              "      <script>\n",
              "        const buttonEl =\n",
              "          document.querySelector('#df-ec83c224-c4dd-48c1-923f-94a988140994 button.colab-df-convert');\n",
              "        buttonEl.style.display =\n",
              "          google.colab.kernel.accessAllowed ? 'block' : 'none';\n",
              "\n",
              "        async function convertToInteractive(key) {\n",
              "          const element = document.querySelector('#df-ec83c224-c4dd-48c1-923f-94a988140994');\n",
              "          const dataTable =\n",
              "            await google.colab.kernel.invokeFunction('convertToInteractive',\n",
              "                                                     [key], {});\n",
              "          if (!dataTable) return;\n",
              "\n",
              "          const docLinkHtml = 'Like what you see? Visit the ' +\n",
              "            '<a target=\"_blank\" href=https://colab.research.google.com/notebooks/data_table.ipynb>data table notebook</a>'\n",
              "            + ' to learn more about interactive tables.';\n",
              "          element.innerHTML = '';\n",
              "          dataTable['output_type'] = 'display_data';\n",
              "          await google.colab.output.renderOutput(dataTable, element);\n",
              "          const docLink = document.createElement('div');\n",
              "          docLink.innerHTML = docLinkHtml;\n",
              "          element.appendChild(docLink);\n",
              "        }\n",
              "      </script>\n",
              "    </div>\n",
              "  </div>\n",
              "  "
            ],
            "text/plain": [
              "   Age  BusinessTravel  ...  YearsWithCurrManager  Attrition\n",
              "0   25               2  ...                     2          0\n",
              "1   44               2  ...                     6          1\n",
              "2   27               2  ...                     7          1\n",
              "3   40               1  ...                    12          0\n",
              "4   24               2  ...                     2          0\n",
              "\n",
              "[5 rows x 35 columns]"
            ]
          },
          "metadata": {},
          "execution_count": 20
        }
      ],
      "source": [
        "## Method 2: Find and replace \n",
        "\n",
        "replacement = {\"Column 1\":     {\"element 1\": 1, \"element 2\": 2},\n",
        "                \"Column 2\": {\"element 1\": 1, \"element 2\": 2, \"element\": 3, \"element 4\": 4 }}\n",
        "\n",
        "df = df.replace(replacement)\n",
        "df.head()      ## head() shows first 5 rows "
      ],
      "id": "LK1X6sbPDEUK"
    },
    {
      "cell_type": "markdown",
      "metadata": {
        "id": "ywcDI33aDEUK"
      },
      "source": [
        "##### To know more about categorical encoding visit https://pbpython.com/categorical-encoding.html"
      ],
      "id": "ywcDI33aDEUK"
    },
    {
      "cell_type": "markdown",
      "metadata": {
        "id": "OJJwb_A9DEUK"
      },
      "source": [
        "## Check if all the columns are numeric "
      ],
      "id": "OJJwb_A9DEUK"
    },
    {
      "cell_type": "code",
      "execution_count": 21,
      "metadata": {
        "id": "hSFXwdFbDEUK",
        "outputId": "b11dadc4-5415-401f-c838-016e5a7f2c5c",
        "colab": {
          "base_uri": "https://localhost:8080/"
        }
      },
      "outputs": [
        {
          "output_type": "stream",
          "name": "stdout",
          "text": [
            "<class 'pandas.core.frame.DataFrame'>\n",
            "RangeIndex: 1176 entries, 0 to 1175\n",
            "Data columns (total 35 columns):\n",
            " #   Column                    Non-Null Count  Dtype\n",
            "---  ------                    --------------  -----\n",
            " 0   Age                       1176 non-null   int64\n",
            " 1   BusinessTravel            1176 non-null   int64\n",
            " 2   DailyRate                 1176 non-null   int64\n",
            " 3   Department                1176 non-null   int64\n",
            " 4   DistanceFromHome          1176 non-null   int64\n",
            " 5   Education                 1176 non-null   int64\n",
            " 6   EducationField            1176 non-null   int64\n",
            " 7   EmployeeCount             1176 non-null   int64\n",
            " 8   EmployeeNumber            1176 non-null   int64\n",
            " 9   EnvironmentSatisfaction   1176 non-null   int64\n",
            " 10  Gender                    1176 non-null   int64\n",
            " 11  HourlyRate                1176 non-null   int64\n",
            " 12  JobInvolvement            1176 non-null   int64\n",
            " 13  JobLevel                  1176 non-null   int64\n",
            " 14  JobRole                   1176 non-null   int64\n",
            " 15  JobSatisfaction           1176 non-null   int64\n",
            " 16  MaritalStatus             1176 non-null   int64\n",
            " 17  MonthlyIncome             1176 non-null   int64\n",
            " 18  MonthlyRate               1176 non-null   int64\n",
            " 19  NumCompaniesWorked        1176 non-null   int64\n",
            " 20  Over18                    1176 non-null   int64\n",
            " 21  OverTime                  1176 non-null   int64\n",
            " 22  PercentSalaryHike         1176 non-null   int64\n",
            " 23  PerformanceRating         1176 non-null   int64\n",
            " 24  RelationshipSatisfaction  1176 non-null   int64\n",
            " 25  StandardHours             1176 non-null   int64\n",
            " 26  StockOptionLevel          1176 non-null   int64\n",
            " 27  TotalWorkingYears         1176 non-null   int64\n",
            " 28  TrainingTimesLastYear     1176 non-null   int64\n",
            " 29  WorkLifeBalance           1176 non-null   int64\n",
            " 30  YearsAtCompany            1176 non-null   int64\n",
            " 31  YearsInCurrentRole        1176 non-null   int64\n",
            " 32  YearsSinceLastPromotion   1176 non-null   int64\n",
            " 33  YearsWithCurrManager      1176 non-null   int64\n",
            " 34  Attrition                 1176 non-null   int64\n",
            "dtypes: int64(35)\n",
            "memory usage: 321.7 KB\n"
          ]
        }
      ],
      "source": [
        "df.info()"
      ],
      "id": "hSFXwdFbDEUK"
    },
    {
      "cell_type": "markdown",
      "metadata": {
        "id": "hEsMEDMLDEUK"
      },
      "source": [
        "## Outliers Detection and Removal (Optional)"
      ],
      "id": "hEsMEDMLDEUK"
    },
    {
      "cell_type": "code",
      "execution_count": null,
      "metadata": {
        "id": "d3zQUgcvDEUL"
      },
      "outputs": [],
      "source": [
        "## Z-score method is used to detect and remove outliers \n",
        "\n",
        "z = np.abs(stats.zscore(df))\n",
        "print(z)"
      ],
      "id": "d3zQUgcvDEUL"
    },
    {
      "cell_type": "code",
      "execution_count": null,
      "metadata": {
        "id": "Nq3P8tneDEUL"
      },
      "outputs": [],
      "source": [
        "## It gives indices of the rows with z-score greater than 3 i.e. rows with outliers \n",
        "\n",
        "threshold = 3\n",
        "print(np.where(z > 3))"
      ],
      "id": "Nq3P8tneDEUL"
    },
    {
      "cell_type": "code",
      "execution_count": null,
      "metadata": {
        "id": "n2-EBgKqDEUL"
      },
      "outputs": [],
      "source": [
        "clean_df = df[(z < 3).all(axis=1)]\n",
        "clean_df"
      ],
      "id": "n2-EBgKqDEUL"
    },
    {
      "cell_type": "code",
      "execution_count": null,
      "metadata": {
        "id": "VuNOBKHhDEUL"
      },
      "outputs": [],
      "source": [
        "print('Dimension of dataframe after cleaning is', clean_df.shape)"
      ],
      "id": "VuNOBKHhDEUL"
    },
    {
      "cell_type": "markdown",
      "metadata": {
        "id": "negtbcFsDEUL"
      },
      "source": [
        "## Exploratory Data Analysis After Cleaning and Preprocessing - Visualization "
      ],
      "id": "negtbcFsDEUL"
    },
    {
      "cell_type": "markdown",
      "metadata": {
        "id": "zNq0aGxKDEUM"
      },
      "source": [
        "### Data Description "
      ],
      "id": "zNq0aGxKDEUM"
    },
    {
      "cell_type": "code",
      "execution_count": 22,
      "metadata": {
        "id": "Sh0ROJoODEUM",
        "outputId": "acc6b6b2-cda3-4b57-9857-12efa6263c5c",
        "colab": {
          "base_uri": "https://localhost:8080/",
          "height": 364
        }
      },
      "outputs": [
        {
          "output_type": "execute_result",
          "data": {
            "text/html": [
              "\n",
              "  <div id=\"df-d1d93d53-3df5-474a-a193-ca718b803348\">\n",
              "    <div class=\"colab-df-container\">\n",
              "      <div>\n",
              "<style scoped>\n",
              "    .dataframe tbody tr th:only-of-type {\n",
              "        vertical-align: middle;\n",
              "    }\n",
              "\n",
              "    .dataframe tbody tr th {\n",
              "        vertical-align: top;\n",
              "    }\n",
              "\n",
              "    .dataframe thead th {\n",
              "        text-align: right;\n",
              "    }\n",
              "</style>\n",
              "<table border=\"1\" class=\"dataframe\">\n",
              "  <thead>\n",
              "    <tr style=\"text-align: right;\">\n",
              "      <th></th>\n",
              "      <th>Age</th>\n",
              "      <th>BusinessTravel</th>\n",
              "      <th>DailyRate</th>\n",
              "      <th>Department</th>\n",
              "      <th>DistanceFromHome</th>\n",
              "      <th>Education</th>\n",
              "      <th>EducationField</th>\n",
              "      <th>EmployeeCount</th>\n",
              "      <th>EmployeeNumber</th>\n",
              "      <th>EnvironmentSatisfaction</th>\n",
              "      <th>Gender</th>\n",
              "      <th>HourlyRate</th>\n",
              "      <th>JobInvolvement</th>\n",
              "      <th>JobLevel</th>\n",
              "      <th>JobRole</th>\n",
              "      <th>JobSatisfaction</th>\n",
              "      <th>MaritalStatus</th>\n",
              "      <th>MonthlyIncome</th>\n",
              "      <th>MonthlyRate</th>\n",
              "      <th>NumCompaniesWorked</th>\n",
              "      <th>Over18</th>\n",
              "      <th>OverTime</th>\n",
              "      <th>PercentSalaryHike</th>\n",
              "      <th>PerformanceRating</th>\n",
              "      <th>RelationshipSatisfaction</th>\n",
              "      <th>StandardHours</th>\n",
              "      <th>StockOptionLevel</th>\n",
              "      <th>TotalWorkingYears</th>\n",
              "      <th>TrainingTimesLastYear</th>\n",
              "      <th>WorkLifeBalance</th>\n",
              "      <th>YearsAtCompany</th>\n",
              "      <th>YearsInCurrentRole</th>\n",
              "      <th>YearsSinceLastPromotion</th>\n",
              "      <th>YearsWithCurrManager</th>\n",
              "      <th>Attrition</th>\n",
              "    </tr>\n",
              "  </thead>\n",
              "  <tbody>\n",
              "    <tr>\n",
              "      <th>count</th>\n",
              "      <td>1176.000000</td>\n",
              "      <td>1176.000000</td>\n",
              "      <td>1176.000000</td>\n",
              "      <td>1176.000000</td>\n",
              "      <td>1176.000000</td>\n",
              "      <td>1176.000000</td>\n",
              "      <td>1176.000000</td>\n",
              "      <td>1176.0</td>\n",
              "      <td>1176.000000</td>\n",
              "      <td>1176.000000</td>\n",
              "      <td>1176.000000</td>\n",
              "      <td>1176.000000</td>\n",
              "      <td>1176.000000</td>\n",
              "      <td>1176.000000</td>\n",
              "      <td>1176.000000</td>\n",
              "      <td>1176.000000</td>\n",
              "      <td>1176.000000</td>\n",
              "      <td>1176.000000</td>\n",
              "      <td>1176.000000</td>\n",
              "      <td>1176.000000</td>\n",
              "      <td>1176.0</td>\n",
              "      <td>1176.000000</td>\n",
              "      <td>1176.000000</td>\n",
              "      <td>1176.000000</td>\n",
              "      <td>1176.000000</td>\n",
              "      <td>1176.0</td>\n",
              "      <td>1176.000000</td>\n",
              "      <td>1176.000000</td>\n",
              "      <td>1176.000000</td>\n",
              "      <td>1176.000000</td>\n",
              "      <td>1176.000000</td>\n",
              "      <td>1176.000000</td>\n",
              "      <td>1176.000000</td>\n",
              "      <td>1176.000000</td>\n",
              "      <td>1176.000000</td>\n",
              "    </tr>\n",
              "    <tr>\n",
              "      <th>mean</th>\n",
              "      <td>36.964286</td>\n",
              "      <td>1.597789</td>\n",
              "      <td>801.496599</td>\n",
              "      <td>1.261905</td>\n",
              "      <td>9.097789</td>\n",
              "      <td>2.917517</td>\n",
              "      <td>2.262755</td>\n",
              "      <td>1.0</td>\n",
              "      <td>1038.992347</td>\n",
              "      <td>2.728741</td>\n",
              "      <td>0.598639</td>\n",
              "      <td>65.398810</td>\n",
              "      <td>2.725340</td>\n",
              "      <td>2.071429</td>\n",
              "      <td>4.441327</td>\n",
              "      <td>2.739796</td>\n",
              "      <td>1.101190</td>\n",
              "      <td>6562.642007</td>\n",
              "      <td>14241.102891</td>\n",
              "      <td>2.698980</td>\n",
              "      <td>0.0</td>\n",
              "      <td>0.274660</td>\n",
              "      <td>15.190476</td>\n",
              "      <td>3.150510</td>\n",
              "      <td>2.702381</td>\n",
              "      <td>80.0</td>\n",
              "      <td>0.789966</td>\n",
              "      <td>11.309524</td>\n",
              "      <td>2.793367</td>\n",
              "      <td>2.762755</td>\n",
              "      <td>6.978741</td>\n",
              "      <td>4.187075</td>\n",
              "      <td>2.259354</td>\n",
              "      <td>4.090986</td>\n",
              "      <td>0.161565</td>\n",
              "    </tr>\n",
              "    <tr>\n",
              "      <th>std</th>\n",
              "      <td>9.148817</td>\n",
              "      <td>0.673356</td>\n",
              "      <td>400.618020</td>\n",
              "      <td>0.531023</td>\n",
              "      <td>8.002540</td>\n",
              "      <td>1.022720</td>\n",
              "      <td>1.323377</td>\n",
              "      <td>0.0</td>\n",
              "      <td>599.144223</td>\n",
              "      <td>1.096404</td>\n",
              "      <td>0.490382</td>\n",
              "      <td>20.289856</td>\n",
              "      <td>0.708781</td>\n",
              "      <td>1.118510</td>\n",
              "      <td>2.454687</td>\n",
              "      <td>1.109486</td>\n",
              "      <td>0.731631</td>\n",
              "      <td>4780.847303</td>\n",
              "      <td>7153.901829</td>\n",
              "      <td>2.504369</td>\n",
              "      <td>0.0</td>\n",
              "      <td>0.446533</td>\n",
              "      <td>3.626303</td>\n",
              "      <td>0.357723</td>\n",
              "      <td>1.086017</td>\n",
              "      <td>0.0</td>\n",
              "      <td>0.851093</td>\n",
              "      <td>7.864238</td>\n",
              "      <td>1.298375</td>\n",
              "      <td>0.709095</td>\n",
              "      <td>6.066053</td>\n",
              "      <td>3.571142</td>\n",
              "      <td>3.321099</td>\n",
              "      <td>3.533579</td>\n",
              "      <td>0.368208</td>\n",
              "    </tr>\n",
              "    <tr>\n",
              "      <th>min</th>\n",
              "      <td>18.000000</td>\n",
              "      <td>0.000000</td>\n",
              "      <td>102.000000</td>\n",
              "      <td>0.000000</td>\n",
              "      <td>1.000000</td>\n",
              "      <td>1.000000</td>\n",
              "      <td>0.000000</td>\n",
              "      <td>1.0</td>\n",
              "      <td>1.000000</td>\n",
              "      <td>1.000000</td>\n",
              "      <td>0.000000</td>\n",
              "      <td>30.000000</td>\n",
              "      <td>1.000000</td>\n",
              "      <td>1.000000</td>\n",
              "      <td>0.000000</td>\n",
              "      <td>1.000000</td>\n",
              "      <td>0.000000</td>\n",
              "      <td>1009.000000</td>\n",
              "      <td>2094.000000</td>\n",
              "      <td>0.000000</td>\n",
              "      <td>0.0</td>\n",
              "      <td>0.000000</td>\n",
              "      <td>11.000000</td>\n",
              "      <td>3.000000</td>\n",
              "      <td>1.000000</td>\n",
              "      <td>80.0</td>\n",
              "      <td>0.000000</td>\n",
              "      <td>0.000000</td>\n",
              "      <td>0.000000</td>\n",
              "      <td>1.000000</td>\n",
              "      <td>0.000000</td>\n",
              "      <td>0.000000</td>\n",
              "      <td>0.000000</td>\n",
              "      <td>0.000000</td>\n",
              "      <td>0.000000</td>\n",
              "    </tr>\n",
              "    <tr>\n",
              "      <th>25%</th>\n",
              "      <td>30.000000</td>\n",
              "      <td>1.000000</td>\n",
              "      <td>468.250000</td>\n",
              "      <td>1.000000</td>\n",
              "      <td>2.000000</td>\n",
              "      <td>2.000000</td>\n",
              "      <td>1.000000</td>\n",
              "      <td>1.0</td>\n",
              "      <td>500.750000</td>\n",
              "      <td>2.000000</td>\n",
              "      <td>0.000000</td>\n",
              "      <td>48.000000</td>\n",
              "      <td>2.000000</td>\n",
              "      <td>1.000000</td>\n",
              "      <td>2.000000</td>\n",
              "      <td>2.000000</td>\n",
              "      <td>1.000000</td>\n",
              "      <td>2870.000000</td>\n",
              "      <td>7849.500000</td>\n",
              "      <td>1.000000</td>\n",
              "      <td>0.0</td>\n",
              "      <td>0.000000</td>\n",
              "      <td>12.000000</td>\n",
              "      <td>3.000000</td>\n",
              "      <td>2.000000</td>\n",
              "      <td>80.0</td>\n",
              "      <td>0.000000</td>\n",
              "      <td>6.000000</td>\n",
              "      <td>2.000000</td>\n",
              "      <td>2.000000</td>\n",
              "      <td>3.000000</td>\n",
              "      <td>2.000000</td>\n",
              "      <td>0.000000</td>\n",
              "      <td>2.000000</td>\n",
              "      <td>0.000000</td>\n",
              "    </tr>\n",
              "    <tr>\n",
              "      <th>50%</th>\n",
              "      <td>36.000000</td>\n",
              "      <td>2.000000</td>\n",
              "      <td>801.500000</td>\n",
              "      <td>1.000000</td>\n",
              "      <td>7.000000</td>\n",
              "      <td>3.000000</td>\n",
              "      <td>2.000000</td>\n",
              "      <td>1.0</td>\n",
              "      <td>1040.500000</td>\n",
              "      <td>3.000000</td>\n",
              "      <td>1.000000</td>\n",
              "      <td>65.000000</td>\n",
              "      <td>3.000000</td>\n",
              "      <td>2.000000</td>\n",
              "      <td>5.000000</td>\n",
              "      <td>3.000000</td>\n",
              "      <td>1.000000</td>\n",
              "      <td>4968.000000</td>\n",
              "      <td>14174.000000</td>\n",
              "      <td>2.000000</td>\n",
              "      <td>0.0</td>\n",
              "      <td>0.000000</td>\n",
              "      <td>14.000000</td>\n",
              "      <td>3.000000</td>\n",
              "      <td>3.000000</td>\n",
              "      <td>80.0</td>\n",
              "      <td>1.000000</td>\n",
              "      <td>10.000000</td>\n",
              "      <td>3.000000</td>\n",
              "      <td>3.000000</td>\n",
              "      <td>5.000000</td>\n",
              "      <td>3.000000</td>\n",
              "      <td>1.000000</td>\n",
              "      <td>3.000000</td>\n",
              "      <td>0.000000</td>\n",
              "    </tr>\n",
              "    <tr>\n",
              "      <th>75%</th>\n",
              "      <td>43.000000</td>\n",
              "      <td>2.000000</td>\n",
              "      <td>1157.250000</td>\n",
              "      <td>2.000000</td>\n",
              "      <td>14.000000</td>\n",
              "      <td>4.000000</td>\n",
              "      <td>3.000000</td>\n",
              "      <td>1.0</td>\n",
              "      <td>1574.500000</td>\n",
              "      <td>4.000000</td>\n",
              "      <td>1.000000</td>\n",
              "      <td>83.000000</td>\n",
              "      <td>3.000000</td>\n",
              "      <td>3.000000</td>\n",
              "      <td>7.000000</td>\n",
              "      <td>4.000000</td>\n",
              "      <td>2.000000</td>\n",
              "      <td>8500.000000</td>\n",
              "      <td>20344.500000</td>\n",
              "      <td>4.000000</td>\n",
              "      <td>0.0</td>\n",
              "      <td>1.000000</td>\n",
              "      <td>18.000000</td>\n",
              "      <td>3.000000</td>\n",
              "      <td>4.000000</td>\n",
              "      <td>80.0</td>\n",
              "      <td>1.000000</td>\n",
              "      <td>15.000000</td>\n",
              "      <td>3.000000</td>\n",
              "      <td>3.000000</td>\n",
              "      <td>9.000000</td>\n",
              "      <td>7.000000</td>\n",
              "      <td>3.000000</td>\n",
              "      <td>7.000000</td>\n",
              "      <td>0.000000</td>\n",
              "    </tr>\n",
              "    <tr>\n",
              "      <th>max</th>\n",
              "      <td>60.000000</td>\n",
              "      <td>2.000000</td>\n",
              "      <td>1499.000000</td>\n",
              "      <td>2.000000</td>\n",
              "      <td>29.000000</td>\n",
              "      <td>5.000000</td>\n",
              "      <td>5.000000</td>\n",
              "      <td>1.0</td>\n",
              "      <td>2065.000000</td>\n",
              "      <td>4.000000</td>\n",
              "      <td>1.000000</td>\n",
              "      <td>100.000000</td>\n",
              "      <td>4.000000</td>\n",
              "      <td>5.000000</td>\n",
              "      <td>8.000000</td>\n",
              "      <td>4.000000</td>\n",
              "      <td>2.000000</td>\n",
              "      <td>19973.000000</td>\n",
              "      <td>26999.000000</td>\n",
              "      <td>9.000000</td>\n",
              "      <td>0.0</td>\n",
              "      <td>1.000000</td>\n",
              "      <td>25.000000</td>\n",
              "      <td>4.000000</td>\n",
              "      <td>4.000000</td>\n",
              "      <td>80.0</td>\n",
              "      <td>3.000000</td>\n",
              "      <td>40.000000</td>\n",
              "      <td>6.000000</td>\n",
              "      <td>4.000000</td>\n",
              "      <td>40.000000</td>\n",
              "      <td>18.000000</td>\n",
              "      <td>15.000000</td>\n",
              "      <td>17.000000</td>\n",
              "      <td>1.000000</td>\n",
              "    </tr>\n",
              "  </tbody>\n",
              "</table>\n",
              "</div>\n",
              "      <button class=\"colab-df-convert\" onclick=\"convertToInteractive('df-d1d93d53-3df5-474a-a193-ca718b803348')\"\n",
              "              title=\"Convert this dataframe to an interactive table.\"\n",
              "              style=\"display:none;\">\n",
              "        \n",
              "  <svg xmlns=\"http://www.w3.org/2000/svg\" height=\"24px\"viewBox=\"0 0 24 24\"\n",
              "       width=\"24px\">\n",
              "    <path d=\"M0 0h24v24H0V0z\" fill=\"none\"/>\n",
              "    <path d=\"M18.56 5.44l.94 2.06.94-2.06 2.06-.94-2.06-.94-.94-2.06-.94 2.06-2.06.94zm-11 1L8.5 8.5l.94-2.06 2.06-.94-2.06-.94L8.5 2.5l-.94 2.06-2.06.94zm10 10l.94 2.06.94-2.06 2.06-.94-2.06-.94-.94-2.06-.94 2.06-2.06.94z\"/><path d=\"M17.41 7.96l-1.37-1.37c-.4-.4-.92-.59-1.43-.59-.52 0-1.04.2-1.43.59L10.3 9.45l-7.72 7.72c-.78.78-.78 2.05 0 2.83L4 21.41c.39.39.9.59 1.41.59.51 0 1.02-.2 1.41-.59l7.78-7.78 2.81-2.81c.8-.78.8-2.07 0-2.86zM5.41 20L4 18.59l7.72-7.72 1.47 1.35L5.41 20z\"/>\n",
              "  </svg>\n",
              "      </button>\n",
              "      \n",
              "  <style>\n",
              "    .colab-df-container {\n",
              "      display:flex;\n",
              "      flex-wrap:wrap;\n",
              "      gap: 12px;\n",
              "    }\n",
              "\n",
              "    .colab-df-convert {\n",
              "      background-color: #E8F0FE;\n",
              "      border: none;\n",
              "      border-radius: 50%;\n",
              "      cursor: pointer;\n",
              "      display: none;\n",
              "      fill: #1967D2;\n",
              "      height: 32px;\n",
              "      padding: 0 0 0 0;\n",
              "      width: 32px;\n",
              "    }\n",
              "\n",
              "    .colab-df-convert:hover {\n",
              "      background-color: #E2EBFA;\n",
              "      box-shadow: 0px 1px 2px rgba(60, 64, 67, 0.3), 0px 1px 3px 1px rgba(60, 64, 67, 0.15);\n",
              "      fill: #174EA6;\n",
              "    }\n",
              "\n",
              "    [theme=dark] .colab-df-convert {\n",
              "      background-color: #3B4455;\n",
              "      fill: #D2E3FC;\n",
              "    }\n",
              "\n",
              "    [theme=dark] .colab-df-convert:hover {\n",
              "      background-color: #434B5C;\n",
              "      box-shadow: 0px 1px 3px 1px rgba(0, 0, 0, 0.15);\n",
              "      filter: drop-shadow(0px 1px 2px rgba(0, 0, 0, 0.3));\n",
              "      fill: #FFFFFF;\n",
              "    }\n",
              "  </style>\n",
              "\n",
              "      <script>\n",
              "        const buttonEl =\n",
              "          document.querySelector('#df-d1d93d53-3df5-474a-a193-ca718b803348 button.colab-df-convert');\n",
              "        buttonEl.style.display =\n",
              "          google.colab.kernel.accessAllowed ? 'block' : 'none';\n",
              "\n",
              "        async function convertToInteractive(key) {\n",
              "          const element = document.querySelector('#df-d1d93d53-3df5-474a-a193-ca718b803348');\n",
              "          const dataTable =\n",
              "            await google.colab.kernel.invokeFunction('convertToInteractive',\n",
              "                                                     [key], {});\n",
              "          if (!dataTable) return;\n",
              "\n",
              "          const docLinkHtml = 'Like what you see? Visit the ' +\n",
              "            '<a target=\"_blank\" href=https://colab.research.google.com/notebooks/data_table.ipynb>data table notebook</a>'\n",
              "            + ' to learn more about interactive tables.';\n",
              "          element.innerHTML = '';\n",
              "          dataTable['output_type'] = 'display_data';\n",
              "          await google.colab.output.renderOutput(dataTable, element);\n",
              "          const docLink = document.createElement('div');\n",
              "          docLink.innerHTML = docLinkHtml;\n",
              "          element.appendChild(docLink);\n",
              "        }\n",
              "      </script>\n",
              "    </div>\n",
              "  </div>\n",
              "  "
            ],
            "text/plain": [
              "               Age  BusinessTravel  ...  YearsWithCurrManager    Attrition\n",
              "count  1176.000000     1176.000000  ...           1176.000000  1176.000000\n",
              "mean     36.964286        1.597789  ...              4.090986     0.161565\n",
              "std       9.148817        0.673356  ...              3.533579     0.368208\n",
              "min      18.000000        0.000000  ...              0.000000     0.000000\n",
              "25%      30.000000        1.000000  ...              2.000000     0.000000\n",
              "50%      36.000000        2.000000  ...              3.000000     0.000000\n",
              "75%      43.000000        2.000000  ...              7.000000     0.000000\n",
              "max      60.000000        2.000000  ...             17.000000     1.000000\n",
              "\n",
              "[8 rows x 35 columns]"
            ]
          },
          "metadata": {},
          "execution_count": 22
        }
      ],
      "source": [
        "df.describe()  ## Gives count, mean, std, min, max, and quartile values for each variable "
      ],
      "id": "Sh0ROJoODEUM"
    },
    {
      "cell_type": "markdown",
      "metadata": {
        "id": "TtzcAeV9DEUM"
      },
      "source": [
        "## Class Distribution"
      ],
      "id": "TtzcAeV9DEUM"
    },
    {
      "cell_type": "code",
      "execution_count": 23,
      "metadata": {
        "id": "F61PBf2vDEUM",
        "outputId": "78a1a574-3f2a-4a9c-99f6-2d8ccc692a50",
        "colab": {
          "base_uri": "https://localhost:8080/"
        }
      },
      "outputs": [
        {
          "output_type": "execute_result",
          "data": {
            "text/plain": [
              "0    986\n",
              "1    190\n",
              "Name: Attrition, dtype: int64"
            ]
          },
          "metadata": {},
          "execution_count": 23
        }
      ],
      "source": [
        "df['Attrition'].value_counts()"
      ],
      "id": "F61PBf2vDEUM"
    },
    {
      "cell_type": "code",
      "execution_count": 24,
      "metadata": {
        "id": "RWyMnV7GDEUM"
      },
      "outputs": [],
      "source": [
        "sns.countplot(x = 'Attrition', data = df, palette=\"Set1\");"
      ],
      "id": "RWyMnV7GDEUM"
    },
    {
      "cell_type": "markdown",
      "metadata": {
        "id": "tx19PYpWDEUM"
      },
      "source": [
        "###### Observation: Data is imbalanced as proportion of employees staying with the company is extremely higher than employees planning to leave the company. "
      ],
      "id": "tx19PYpWDEUM"
    },
    {
      "cell_type": "markdown",
      "metadata": {
        "id": "uAsoodvKDEUN"
      },
      "source": [
        "### Histograms "
      ],
      "id": "uAsoodvKDEUN"
    },
    {
      "cell_type": "code",
      "execution_count": 25,
      "metadata": {
        "id": "ozDbcr9fDEUN"
      },
      "outputs": [],
      "source": [
        "fig, axs = plt.subplots(1, 2, figsize=(10, 5))\n",
        "\n",
        "sns.histplot(df, x = 'BusinessTravel', discrete = True, ax = axs[0]);\n",
        "sns.histplot(df, x = 'Gender', discrete = True, ax = axs[1]);"
      ],
      "id": "ozDbcr9fDEUN"
    },
    {
      "cell_type": "code",
      "execution_count": 27,
      "metadata": {
        "id": "WhVZDr2WDEUN",
        "outputId": "1cd6a5ee-de74-4f37-bc03-a9409775f212",
        "colab": {
          "base_uri": "https://localhost:8080/"
        }
      },
      "outputs": [
        {
          "output_type": "execute_result",
          "data": {
            "text/plain": [
              "2    828\n",
              "1    223\n",
              "0    125\n",
              "Name: BusinessTravel, dtype: int64"
            ]
          },
          "metadata": {},
          "execution_count": 27
        }
      ],
      "source": [
        "df['BusinessTravel'].value_counts()"
      ],
      "id": "WhVZDr2WDEUN"
    },
    {
      "cell_type": "markdown",
      "metadata": {
        "id": "RyZ7B2poDEUN"
      },
      "source": [
        "##### Frequently: \n",
        "##### Rarely: \n",
        "##### : \n",
        "\n",
        "##### Observation:  "
      ],
      "id": "RyZ7B2poDEUN"
    },
    {
      "cell_type": "code",
      "execution_count": 28,
      "metadata": {
        "id": "bw5lTHMVDEUN",
        "outputId": "88e0500b-8f4c-4238-fd65-9b3f52ca18ec",
        "colab": {
          "base_uri": "https://localhost:8080/"
        }
      },
      "outputs": [
        {
          "output_type": "execute_result",
          "data": {
            "text/plain": [
              "1    704\n",
              "0    472\n",
              "Name: Gender, dtype: int64"
            ]
          },
          "metadata": {},
          "execution_count": 28
        }
      ],
      "source": [
        "df['Gender'].value_counts()"
      ],
      "id": "bw5lTHMVDEUN"
    },
    {
      "cell_type": "markdown",
      "metadata": {
        "id": "pUCr2VYFDEUN"
      },
      "source": [
        "##### Male employees: \n",
        "##### Female employees: \n",
        "\n",
        "##### Observation: Proportion of male employees is significantly higher than female employees. "
      ],
      "id": "pUCr2VYFDEUN"
    },
    {
      "cell_type": "code",
      "execution_count": 29,
      "metadata": {
        "id": "Vf5YyZ2sDEUO"
      },
      "outputs": [],
      "source": [
        "fig, axs = plt.subplots(1,2, figsize=(10, 5))\n",
        "\n",
        "sns.histplot(x = 'Age', data = df, discrete = True, ax = axs[0]);\n",
        "sns.histplot(x = 'YearsAtCompany', data = df, discrete = True, ax = axs[1]);"
      ],
      "id": "Vf5YyZ2sDEUO"
    },
    {
      "cell_type": "code",
      "execution_count": 30,
      "metadata": {
        "id": "Ou8j_6baDEUO"
      },
      "outputs": [],
      "source": [
        "fig, axs = plt.subplots(1,2, figsize=(10, 5))\n",
        "\n",
        "sns.histplot(x = 'Education', data = df, discrete = True, ax = axs[0]);\n",
        "sns.histplot(x = 'EducationField', data = df, discrete = True, ax = axs[1]);"
      ],
      "id": "Ou8j_6baDEUO"
    },
    {
      "cell_type": "markdown",
      "metadata": {
        "id": "7GvckxD-DEUO"
      },
      "source": [
        "## Would you like to try?"
      ],
      "id": "7GvckxD-DEUO"
    },
    {
      "cell_type": "code",
      "execution_count": 31,
      "metadata": {
        "id": "X8CjCcsjDEUO",
        "outputId": "801c3ab0-60da-46e6-a639-c7400d4b73e0",
        "colab": {
          "base_uri": "https://localhost:8080/",
          "height": 362
        }
      },
      "outputs": [
        {
          "output_type": "error",
          "ename": "ValueError",
          "evalue": "ignored",
          "traceback": [
            "\u001b[0;31m---------------------------------------------------------------------------\u001b[0m",
            "\u001b[0;31mValueError\u001b[0m                                Traceback (most recent call last)",
            "\u001b[0;32m<ipython-input-31-c0599eb37068>\u001b[0m in \u001b[0;36m<module>\u001b[0;34m()\u001b[0m\n\u001b[1;32m      1\u001b[0m \u001b[0mfig\u001b[0m\u001b[0;34m,\u001b[0m \u001b[0maxs\u001b[0m \u001b[0;34m=\u001b[0m \u001b[0mplt\u001b[0m\u001b[0;34m.\u001b[0m\u001b[0msubplots\u001b[0m\u001b[0;34m(\u001b[0m\u001b[0;36m1\u001b[0m\u001b[0;34m,\u001b[0m\u001b[0;36m2\u001b[0m\u001b[0;34m,\u001b[0m \u001b[0mfigsize\u001b[0m\u001b[0;34m=\u001b[0m\u001b[0;34m(\u001b[0m\u001b[0;36m10\u001b[0m\u001b[0;34m,\u001b[0m \u001b[0;36m5\u001b[0m\u001b[0;34m)\u001b[0m\u001b[0;34m)\u001b[0m\u001b[0;34m\u001b[0m\u001b[0;34m\u001b[0m\u001b[0m\n\u001b[1;32m      2\u001b[0m \u001b[0;34m\u001b[0m\u001b[0m\n\u001b[0;32m----> 3\u001b[0;31m \u001b[0msns\u001b[0m\u001b[0;34m.\u001b[0m\u001b[0mhistplot\u001b[0m\u001b[0;34m(\u001b[0m\u001b[0mx\u001b[0m \u001b[0;34m=\u001b[0m \u001b[0;34m'_______'\u001b[0m\u001b[0;34m,\u001b[0m \u001b[0mdata\u001b[0m \u001b[0;34m=\u001b[0m \u001b[0mdf\u001b[0m\u001b[0;34m,\u001b[0m \u001b[0mdiscrete\u001b[0m \u001b[0;34m=\u001b[0m \u001b[0;32mTrue\u001b[0m\u001b[0;34m,\u001b[0m \u001b[0max\u001b[0m \u001b[0;34m=\u001b[0m \u001b[0maxs\u001b[0m\u001b[0;34m[\u001b[0m\u001b[0;36m0\u001b[0m\u001b[0;34m]\u001b[0m\u001b[0;34m)\u001b[0m\u001b[0;34m;\u001b[0m\u001b[0;34m\u001b[0m\u001b[0;34m\u001b[0m\u001b[0m\n\u001b[0m\u001b[1;32m      4\u001b[0m \u001b[0msns\u001b[0m\u001b[0;34m.\u001b[0m\u001b[0mhistplot\u001b[0m\u001b[0;34m(\u001b[0m\u001b[0mx\u001b[0m \u001b[0;34m=\u001b[0m \u001b[0;34m'_______'\u001b[0m\u001b[0;34m,\u001b[0m \u001b[0mdata\u001b[0m \u001b[0;34m=\u001b[0m \u001b[0mdf\u001b[0m\u001b[0;34m,\u001b[0m \u001b[0mdiscrete\u001b[0m \u001b[0;34m=\u001b[0m \u001b[0;32mTrue\u001b[0m\u001b[0;34m,\u001b[0m \u001b[0max\u001b[0m \u001b[0;34m=\u001b[0m \u001b[0maxs\u001b[0m\u001b[0;34m[\u001b[0m\u001b[0;36m1\u001b[0m\u001b[0;34m]\u001b[0m\u001b[0;34m)\u001b[0m\u001b[0;34m;\u001b[0m\u001b[0;34m\u001b[0m\u001b[0;34m\u001b[0m\u001b[0m\n",
            "\u001b[0;32m/usr/local/lib/python3.7/dist-packages/seaborn/distributions.py\u001b[0m in \u001b[0;36mhistplot\u001b[0;34m(data, x, y, hue, weights, stat, bins, binwidth, binrange, discrete, cumulative, common_bins, common_norm, multiple, element, fill, shrink, kde, kde_kws, line_kws, thresh, pthresh, pmax, cbar, cbar_ax, cbar_kws, palette, hue_order, hue_norm, color, log_scale, legend, ax, **kwargs)\u001b[0m\n\u001b[1;32m   1430\u001b[0m     p = _DistributionPlotter(\n\u001b[1;32m   1431\u001b[0m         \u001b[0mdata\u001b[0m\u001b[0;34m=\u001b[0m\u001b[0mdata\u001b[0m\u001b[0;34m,\u001b[0m\u001b[0;34m\u001b[0m\u001b[0;34m\u001b[0m\u001b[0m\n\u001b[0;32m-> 1432\u001b[0;31m         \u001b[0mvariables\u001b[0m\u001b[0;34m=\u001b[0m\u001b[0m_DistributionPlotter\u001b[0m\u001b[0;34m.\u001b[0m\u001b[0mget_semantics\u001b[0m\u001b[0;34m(\u001b[0m\u001b[0mlocals\u001b[0m\u001b[0;34m(\u001b[0m\u001b[0;34m)\u001b[0m\u001b[0;34m)\u001b[0m\u001b[0;34m\u001b[0m\u001b[0;34m\u001b[0m\u001b[0m\n\u001b[0m\u001b[1;32m   1433\u001b[0m     )\n\u001b[1;32m   1434\u001b[0m \u001b[0;34m\u001b[0m\u001b[0m\n",
            "\u001b[0;32m/usr/local/lib/python3.7/dist-packages/seaborn/distributions.py\u001b[0m in \u001b[0;36m__init__\u001b[0;34m(self, data, variables)\u001b[0m\n\u001b[1;32m    109\u001b[0m     ):\n\u001b[1;32m    110\u001b[0m \u001b[0;34m\u001b[0m\u001b[0m\n\u001b[0;32m--> 111\u001b[0;31m         \u001b[0msuper\u001b[0m\u001b[0;34m(\u001b[0m\u001b[0;34m)\u001b[0m\u001b[0;34m.\u001b[0m\u001b[0m__init__\u001b[0m\u001b[0;34m(\u001b[0m\u001b[0mdata\u001b[0m\u001b[0;34m=\u001b[0m\u001b[0mdata\u001b[0m\u001b[0;34m,\u001b[0m \u001b[0mvariables\u001b[0m\u001b[0;34m=\u001b[0m\u001b[0mvariables\u001b[0m\u001b[0;34m)\u001b[0m\u001b[0;34m\u001b[0m\u001b[0;34m\u001b[0m\u001b[0m\n\u001b[0m\u001b[1;32m    112\u001b[0m \u001b[0;34m\u001b[0m\u001b[0m\n\u001b[1;32m    113\u001b[0m     \u001b[0;34m@\u001b[0m\u001b[0mproperty\u001b[0m\u001b[0;34m\u001b[0m\u001b[0;34m\u001b[0m\u001b[0m\n",
            "\u001b[0;32m/usr/local/lib/python3.7/dist-packages/seaborn/_core.py\u001b[0m in \u001b[0;36m__init__\u001b[0;34m(self, data, variables)\u001b[0m\n\u001b[1;32m    603\u001b[0m     \u001b[0;32mdef\u001b[0m \u001b[0m__init__\u001b[0m\u001b[0;34m(\u001b[0m\u001b[0mself\u001b[0m\u001b[0;34m,\u001b[0m \u001b[0mdata\u001b[0m\u001b[0;34m=\u001b[0m\u001b[0;32mNone\u001b[0m\u001b[0;34m,\u001b[0m \u001b[0mvariables\u001b[0m\u001b[0;34m=\u001b[0m\u001b[0;34m{\u001b[0m\u001b[0;34m}\u001b[0m\u001b[0;34m)\u001b[0m\u001b[0;34m:\u001b[0m\u001b[0;34m\u001b[0m\u001b[0;34m\u001b[0m\u001b[0m\n\u001b[1;32m    604\u001b[0m \u001b[0;34m\u001b[0m\u001b[0m\n\u001b[0;32m--> 605\u001b[0;31m         \u001b[0mself\u001b[0m\u001b[0;34m.\u001b[0m\u001b[0massign_variables\u001b[0m\u001b[0;34m(\u001b[0m\u001b[0mdata\u001b[0m\u001b[0;34m,\u001b[0m \u001b[0mvariables\u001b[0m\u001b[0;34m)\u001b[0m\u001b[0;34m\u001b[0m\u001b[0;34m\u001b[0m\u001b[0m\n\u001b[0m\u001b[1;32m    606\u001b[0m \u001b[0;34m\u001b[0m\u001b[0m\n\u001b[1;32m    607\u001b[0m         \u001b[0;32mfor\u001b[0m \u001b[0mvar\u001b[0m\u001b[0;34m,\u001b[0m \u001b[0mcls\u001b[0m \u001b[0;32min\u001b[0m \u001b[0mself\u001b[0m\u001b[0;34m.\u001b[0m\u001b[0m_semantic_mappings\u001b[0m\u001b[0;34m.\u001b[0m\u001b[0mitems\u001b[0m\u001b[0;34m(\u001b[0m\u001b[0;34m)\u001b[0m\u001b[0;34m:\u001b[0m\u001b[0;34m\u001b[0m\u001b[0;34m\u001b[0m\u001b[0m\n",
            "\u001b[0;32m/usr/local/lib/python3.7/dist-packages/seaborn/_core.py\u001b[0m in \u001b[0;36massign_variables\u001b[0;34m(self, data, variables)\u001b[0m\n\u001b[1;32m    667\u001b[0m             \u001b[0mself\u001b[0m\u001b[0;34m.\u001b[0m\u001b[0minput_format\u001b[0m \u001b[0;34m=\u001b[0m \u001b[0;34m\"long\"\u001b[0m\u001b[0;34m\u001b[0m\u001b[0;34m\u001b[0m\u001b[0m\n\u001b[1;32m    668\u001b[0m             plot_data, variables = self._assign_variables_longform(\n\u001b[0;32m--> 669\u001b[0;31m                 \u001b[0mdata\u001b[0m\u001b[0;34m,\u001b[0m \u001b[0;34m**\u001b[0m\u001b[0mvariables\u001b[0m\u001b[0;34m,\u001b[0m\u001b[0;34m\u001b[0m\u001b[0;34m\u001b[0m\u001b[0m\n\u001b[0m\u001b[1;32m    670\u001b[0m             )\n\u001b[1;32m    671\u001b[0m \u001b[0;34m\u001b[0m\u001b[0m\n",
            "\u001b[0;32m/usr/local/lib/python3.7/dist-packages/seaborn/_core.py\u001b[0m in \u001b[0;36m_assign_variables_longform\u001b[0;34m(self, data, **kwargs)\u001b[0m\n\u001b[1;32m    901\u001b[0m \u001b[0;34m\u001b[0m\u001b[0m\n\u001b[1;32m    902\u001b[0m                 \u001b[0merr\u001b[0m \u001b[0;34m=\u001b[0m \u001b[0;34mf\"Could not interpret value `{val}` for parameter `{key}`\"\u001b[0m\u001b[0;34m\u001b[0m\u001b[0;34m\u001b[0m\u001b[0m\n\u001b[0;32m--> 903\u001b[0;31m                 \u001b[0;32mraise\u001b[0m \u001b[0mValueError\u001b[0m\u001b[0;34m(\u001b[0m\u001b[0merr\u001b[0m\u001b[0;34m)\u001b[0m\u001b[0;34m\u001b[0m\u001b[0;34m\u001b[0m\u001b[0m\n\u001b[0m\u001b[1;32m    904\u001b[0m \u001b[0;34m\u001b[0m\u001b[0m\n\u001b[1;32m    905\u001b[0m             \u001b[0;32melse\u001b[0m\u001b[0;34m:\u001b[0m\u001b[0;34m\u001b[0m\u001b[0;34m\u001b[0m\u001b[0m\n",
            "\u001b[0;31mValueError\u001b[0m: Could not interpret value `_______` for parameter `x`"
          ]
        }
      ],
      "source": [
        "fig, axs = plt.subplots(1,2, figsize=(10, 5))\n",
        "\n",
        "sns.histplot(x = '_______', data = df, discrete = True, ax = axs[0]);\n",
        "sns.histplot(x = '_______', data = df, discrete = True, ax = axs[1]);"
      ],
      "id": "X8CjCcsjDEUO"
    },
    {
      "cell_type": "code",
      "execution_count": 32,
      "metadata": {
        "id": "jHraLOhDDEUO"
      },
      "outputs": [],
      "source": [
        "# Consider EnvironmentSatisfaction, JobSatisfaction, WorkLifeBalance,JobInvolvement\n",
        "\n",
        "fig, axs = plt.subplots(2,2, figsize=(16, 10))\n",
        "\n",
        "#sns.histplot(x = 'Education', data = df, discrete = True, ax = axs[0][0]);\n",
        "#sns.histplot(x = 'EducationField', data = df, discrete = True, ax = axs[0][1]);\n",
        "#sns.histplot(x = 'EducationField', data = df, discrete = True, ax = axs[1][0]);\n",
        "#sns.histplot(x = 'EducationField', data = df, discrete = True, ax = axs[1][1]);"
      ],
      "id": "jHraLOhDDEUO"
    },
    {
      "cell_type": "markdown",
      "metadata": {
        "id": "ZVCdg2tHDEUT"
      },
      "source": [
        "## Box Plots    \n",
        "#### To identify outliers "
      ],
      "id": "ZVCdg2tHDEUT"
    },
    {
      "cell_type": "code",
      "execution_count": 33,
      "metadata": {
        "id": "zFCb6c0IDEUT"
      },
      "outputs": [],
      "source": [
        "sns.set_theme(style=\"whitegrid\")\n",
        "ax = sns.boxplot(x=df[\"Age\"])"
      ],
      "id": "zFCb6c0IDEUT"
    },
    {
      "cell_type": "markdown",
      "metadata": {
        "id": "8Jrvl3AtDEUT"
      },
      "source": [
        "## Feature Selection \n",
        "\n",
        "### Feature Selection is the process where you automatically or manually select those features which contribute most to your prediction variable or output in which you are interested in.\n",
        "### Having irrelevant features in your data can decrease the accuracy of the models and make your model learn based on irrelevant features.\n",
        "\n",
        "### To know more visit: https://towardsdatascience.com/feature-selection-techniques-in-machine-learning-with-python-f24e7da3f36e\n"
      ],
      "id": "8Jrvl3AtDEUT"
    },
    {
      "cell_type": "markdown",
      "metadata": {
        "id": "a-FntYXVDEUT"
      },
      "source": [
        "### Method 1: Correlation Matrix "
      ],
      "id": "a-FntYXVDEUT"
    },
    {
      "cell_type": "code",
      "execution_count": 34,
      "metadata": {
        "id": "n0yEUmfLDEUU"
      },
      "outputs": [],
      "source": [
        "plt.figure(figsize = (12,12))\n",
        "corrmat = df.corr()\n",
        "ax = sns.heatmap(corrmat, vmax=1, square=True);"
      ],
      "id": "n0yEUmfLDEUU"
    },
    {
      "cell_type": "code",
      "execution_count": 35,
      "metadata": {
        "id": "xoDsCmDtDEUU"
      },
      "outputs": [],
      "source": [
        "numeric_feature_cols = [x for x in df.columns if x not in ['Attrition']]\n",
        "#cat_feature_cols = []\n",
        "target_col = ['Attrition']"
      ],
      "id": "xoDsCmDtDEUU"
    },
    {
      "cell_type": "code",
      "execution_count": 36,
      "metadata": {
        "id": "1g_bv6_RDEUU",
        "outputId": "6beeb50d-c9c5-41b0-b860-8a1e8c945ca2",
        "colab": {
          "base_uri": "https://localhost:8080/",
          "height": 1000
        }
      },
      "outputs": [
        {
          "output_type": "execute_result",
          "data": {
            "text/html": [
              "\n",
              "  <div id=\"df-cb5e2e35-c1a4-4c28-bb12-2ea0cae8d0de\">\n",
              "    <div class=\"colab-df-container\">\n",
              "      <div>\n",
              "<style scoped>\n",
              "    .dataframe tbody tr th:only-of-type {\n",
              "        vertical-align: middle;\n",
              "    }\n",
              "\n",
              "    .dataframe tbody tr th {\n",
              "        vertical-align: top;\n",
              "    }\n",
              "\n",
              "    .dataframe thead th {\n",
              "        text-align: right;\n",
              "    }\n",
              "</style>\n",
              "<table border=\"1\" class=\"dataframe\">\n",
              "  <thead>\n",
              "    <tr style=\"text-align: right;\">\n",
              "      <th></th>\n",
              "      <th>feature</th>\n",
              "      <th>correlation</th>\n",
              "      <th>correlation_p_value</th>\n",
              "    </tr>\n",
              "  </thead>\n",
              "  <tbody>\n",
              "    <tr>\n",
              "      <th>17</th>\n",
              "      <td>MonthlyIncome</td>\n",
              "      <td>-0.207388</td>\n",
              "      <td>6.840333e-13</td>\n",
              "    </tr>\n",
              "    <tr>\n",
              "      <th>13</th>\n",
              "      <td>JobLevel</td>\n",
              "      <td>-0.190423</td>\n",
              "      <td>4.593898e-11</td>\n",
              "    </tr>\n",
              "    <tr>\n",
              "      <th>30</th>\n",
              "      <td>YearsAtCompany</td>\n",
              "      <td>-0.185196</td>\n",
              "      <td>1.558087e-10</td>\n",
              "    </tr>\n",
              "    <tr>\n",
              "      <th>27</th>\n",
              "      <td>TotalWorkingYears</td>\n",
              "      <td>-0.185160</td>\n",
              "      <td>1.571115e-10</td>\n",
              "    </tr>\n",
              "    <tr>\n",
              "      <th>31</th>\n",
              "      <td>YearsInCurrentRole</td>\n",
              "      <td>-0.176783</td>\n",
              "      <td>1.033996e-09</td>\n",
              "    </tr>\n",
              "    <tr>\n",
              "      <th>33</th>\n",
              "      <td>YearsWithCurrManager</td>\n",
              "      <td>-0.173101</td>\n",
              "      <td>2.301248e-09</td>\n",
              "    </tr>\n",
              "    <tr>\n",
              "      <th>0</th>\n",
              "      <td>Age</td>\n",
              "      <td>-0.160897</td>\n",
              "      <td>2.890453e-08</td>\n",
              "    </tr>\n",
              "    <tr>\n",
              "      <th>26</th>\n",
              "      <td>StockOptionLevel</td>\n",
              "      <td>-0.157777</td>\n",
              "      <td>5.358786e-08</td>\n",
              "    </tr>\n",
              "    <tr>\n",
              "      <th>9</th>\n",
              "      <td>EnvironmentSatisfaction</td>\n",
              "      <td>-0.114840</td>\n",
              "      <td>7.911927e-05</td>\n",
              "    </tr>\n",
              "    <tr>\n",
              "      <th>12</th>\n",
              "      <td>JobInvolvement</td>\n",
              "      <td>-0.105137</td>\n",
              "      <td>3.042876e-04</td>\n",
              "    </tr>\n",
              "    <tr>\n",
              "      <th>15</th>\n",
              "      <td>JobSatisfaction</td>\n",
              "      <td>-0.092837</td>\n",
              "      <td>1.436845e-03</td>\n",
              "    </tr>\n",
              "    <tr>\n",
              "      <th>2</th>\n",
              "      <td>DailyRate</td>\n",
              "      <td>-0.068529</td>\n",
              "      <td>1.875670e-02</td>\n",
              "    </tr>\n",
              "    <tr>\n",
              "      <th>24</th>\n",
              "      <td>RelationshipSatisfaction</td>\n",
              "      <td>-0.057992</td>\n",
              "      <td>4.678286e-02</td>\n",
              "    </tr>\n",
              "    <tr>\n",
              "      <th>29</th>\n",
              "      <td>WorkLifeBalance</td>\n",
              "      <td>-0.055653</td>\n",
              "      <td>5.639619e-02</td>\n",
              "    </tr>\n",
              "    <tr>\n",
              "      <th>28</th>\n",
              "      <td>TrainingTimesLastYear</td>\n",
              "      <td>-0.052980</td>\n",
              "      <td>6.934144e-02</td>\n",
              "    </tr>\n",
              "    <tr>\n",
              "      <th>32</th>\n",
              "      <td>YearsSinceLastPromotion</td>\n",
              "      <td>-0.048264</td>\n",
              "      <td>9.806278e-02</td>\n",
              "    </tr>\n",
              "    <tr>\n",
              "      <th>22</th>\n",
              "      <td>PercentSalaryHike</td>\n",
              "      <td>-0.038902</td>\n",
              "      <td>1.824801e-01</td>\n",
              "    </tr>\n",
              "    <tr>\n",
              "      <th>23</th>\n",
              "      <td>PerformanceRating</td>\n",
              "      <td>-0.029702</td>\n",
              "      <td>3.088105e-01</td>\n",
              "    </tr>\n",
              "    <tr>\n",
              "      <th>11</th>\n",
              "      <td>HourlyRate</td>\n",
              "      <td>-0.026763</td>\n",
              "      <td>3.591634e-01</td>\n",
              "    </tr>\n",
              "    <tr>\n",
              "      <th>1</th>\n",
              "      <td>BusinessTravel</td>\n",
              "      <td>-0.021100</td>\n",
              "      <td>4.697477e-01</td>\n",
              "    </tr>\n",
              "    <tr>\n",
              "      <th>5</th>\n",
              "      <td>Education</td>\n",
              "      <td>-0.013795</td>\n",
              "      <td>6.365146e-01</td>\n",
              "    </tr>\n",
              "    <tr>\n",
              "      <th>8</th>\n",
              "      <td>EmployeeNumber</td>\n",
              "      <td>0.004778</td>\n",
              "      <td>8.699968e-01</td>\n",
              "    </tr>\n",
              "    <tr>\n",
              "      <th>18</th>\n",
              "      <td>MonthlyRate</td>\n",
              "      <td>0.022285</td>\n",
              "      <td>4.451656e-01</td>\n",
              "    </tr>\n",
              "    <tr>\n",
              "      <th>6</th>\n",
              "      <td>EducationField</td>\n",
              "      <td>0.035454</td>\n",
              "      <td>2.243982e-01</td>\n",
              "    </tr>\n",
              "    <tr>\n",
              "      <th>10</th>\n",
              "      <td>Gender</td>\n",
              "      <td>0.038926</td>\n",
              "      <td>1.822175e-01</td>\n",
              "    </tr>\n",
              "    <tr>\n",
              "      <th>19</th>\n",
              "      <td>NumCompaniesWorked</td>\n",
              "      <td>0.053061</td>\n",
              "      <td>6.891844e-02</td>\n",
              "    </tr>\n",
              "    <tr>\n",
              "      <th>3</th>\n",
              "      <td>Department</td>\n",
              "      <td>0.058072</td>\n",
              "      <td>4.647965e-02</td>\n",
              "    </tr>\n",
              "    <tr>\n",
              "      <th>4</th>\n",
              "      <td>DistanceFromHome</td>\n",
              "      <td>0.061815</td>\n",
              "      <td>3.403968e-02</td>\n",
              "    </tr>\n",
              "    <tr>\n",
              "      <th>14</th>\n",
              "      <td>JobRole</td>\n",
              "      <td>0.066978</td>\n",
              "      <td>2.161918e-02</td>\n",
              "    </tr>\n",
              "    <tr>\n",
              "      <th>16</th>\n",
              "      <td>MaritalStatus</td>\n",
              "      <td>0.140686</td>\n",
              "      <td>1.275757e-06</td>\n",
              "    </tr>\n",
              "    <tr>\n",
              "      <th>21</th>\n",
              "      <td>OverTime</td>\n",
              "      <td>0.252677</td>\n",
              "      <td>1.380710e-18</td>\n",
              "    </tr>\n",
              "    <tr>\n",
              "      <th>7</th>\n",
              "      <td>EmployeeCount</td>\n",
              "      <td>NaN</td>\n",
              "      <td>NaN</td>\n",
              "    </tr>\n",
              "    <tr>\n",
              "      <th>20</th>\n",
              "      <td>Over18</td>\n",
              "      <td>NaN</td>\n",
              "      <td>NaN</td>\n",
              "    </tr>\n",
              "    <tr>\n",
              "      <th>25</th>\n",
              "      <td>StandardHours</td>\n",
              "      <td>NaN</td>\n",
              "      <td>NaN</td>\n",
              "    </tr>\n",
              "  </tbody>\n",
              "</table>\n",
              "</div>\n",
              "      <button class=\"colab-df-convert\" onclick=\"convertToInteractive('df-cb5e2e35-c1a4-4c28-bb12-2ea0cae8d0de')\"\n",
              "              title=\"Convert this dataframe to an interactive table.\"\n",
              "              style=\"display:none;\">\n",
              "        \n",
              "  <svg xmlns=\"http://www.w3.org/2000/svg\" height=\"24px\"viewBox=\"0 0 24 24\"\n",
              "       width=\"24px\">\n",
              "    <path d=\"M0 0h24v24H0V0z\" fill=\"none\"/>\n",
              "    <path d=\"M18.56 5.44l.94 2.06.94-2.06 2.06-.94-2.06-.94-.94-2.06-.94 2.06-2.06.94zm-11 1L8.5 8.5l.94-2.06 2.06-.94-2.06-.94L8.5 2.5l-.94 2.06-2.06.94zm10 10l.94 2.06.94-2.06 2.06-.94-2.06-.94-.94-2.06-.94 2.06-2.06.94z\"/><path d=\"M17.41 7.96l-1.37-1.37c-.4-.4-.92-.59-1.43-.59-.52 0-1.04.2-1.43.59L10.3 9.45l-7.72 7.72c-.78.78-.78 2.05 0 2.83L4 21.41c.39.39.9.59 1.41.59.51 0 1.02-.2 1.41-.59l7.78-7.78 2.81-2.81c.8-.78.8-2.07 0-2.86zM5.41 20L4 18.59l7.72-7.72 1.47 1.35L5.41 20z\"/>\n",
              "  </svg>\n",
              "      </button>\n",
              "      \n",
              "  <style>\n",
              "    .colab-df-container {\n",
              "      display:flex;\n",
              "      flex-wrap:wrap;\n",
              "      gap: 12px;\n",
              "    }\n",
              "\n",
              "    .colab-df-convert {\n",
              "      background-color: #E8F0FE;\n",
              "      border: none;\n",
              "      border-radius: 50%;\n",
              "      cursor: pointer;\n",
              "      display: none;\n",
              "      fill: #1967D2;\n",
              "      height: 32px;\n",
              "      padding: 0 0 0 0;\n",
              "      width: 32px;\n",
              "    }\n",
              "\n",
              "    .colab-df-convert:hover {\n",
              "      background-color: #E2EBFA;\n",
              "      box-shadow: 0px 1px 2px rgba(60, 64, 67, 0.3), 0px 1px 3px 1px rgba(60, 64, 67, 0.15);\n",
              "      fill: #174EA6;\n",
              "    }\n",
              "\n",
              "    [theme=dark] .colab-df-convert {\n",
              "      background-color: #3B4455;\n",
              "      fill: #D2E3FC;\n",
              "    }\n",
              "\n",
              "    [theme=dark] .colab-df-convert:hover {\n",
              "      background-color: #434B5C;\n",
              "      box-shadow: 0px 1px 3px 1px rgba(0, 0, 0, 0.15);\n",
              "      filter: drop-shadow(0px 1px 2px rgba(0, 0, 0, 0.3));\n",
              "      fill: #FFFFFF;\n",
              "    }\n",
              "  </style>\n",
              "\n",
              "      <script>\n",
              "        const buttonEl =\n",
              "          document.querySelector('#df-cb5e2e35-c1a4-4c28-bb12-2ea0cae8d0de button.colab-df-convert');\n",
              "        buttonEl.style.display =\n",
              "          google.colab.kernel.accessAllowed ? 'block' : 'none';\n",
              "\n",
              "        async function convertToInteractive(key) {\n",
              "          const element = document.querySelector('#df-cb5e2e35-c1a4-4c28-bb12-2ea0cae8d0de');\n",
              "          const dataTable =\n",
              "            await google.colab.kernel.invokeFunction('convertToInteractive',\n",
              "                                                     [key], {});\n",
              "          if (!dataTable) return;\n",
              "\n",
              "          const docLinkHtml = 'Like what you see? Visit the ' +\n",
              "            '<a target=\"_blank\" href=https://colab.research.google.com/notebooks/data_table.ipynb>data table notebook</a>'\n",
              "            + ' to learn more about interactive tables.';\n",
              "          element.innerHTML = '';\n",
              "          dataTable['output_type'] = 'display_data';\n",
              "          await google.colab.output.renderOutput(dataTable, element);\n",
              "          const docLink = document.createElement('div');\n",
              "          docLink.innerHTML = docLinkHtml;\n",
              "          element.appendChild(docLink);\n",
              "        }\n",
              "      </script>\n",
              "    </div>\n",
              "  </div>\n",
              "  "
            ],
            "text/plain": [
              "                     feature  correlation  correlation_p_value\n",
              "17             MonthlyIncome    -0.207388         6.840333e-13\n",
              "13                  JobLevel    -0.190423         4.593898e-11\n",
              "30            YearsAtCompany    -0.185196         1.558087e-10\n",
              "27         TotalWorkingYears    -0.185160         1.571115e-10\n",
              "31        YearsInCurrentRole    -0.176783         1.033996e-09\n",
              "33      YearsWithCurrManager    -0.173101         2.301248e-09\n",
              "0                        Age    -0.160897         2.890453e-08\n",
              "26          StockOptionLevel    -0.157777         5.358786e-08\n",
              "9    EnvironmentSatisfaction    -0.114840         7.911927e-05\n",
              "12            JobInvolvement    -0.105137         3.042876e-04\n",
              "15           JobSatisfaction    -0.092837         1.436845e-03\n",
              "2                  DailyRate    -0.068529         1.875670e-02\n",
              "24  RelationshipSatisfaction    -0.057992         4.678286e-02\n",
              "29           WorkLifeBalance    -0.055653         5.639619e-02\n",
              "28     TrainingTimesLastYear    -0.052980         6.934144e-02\n",
              "32   YearsSinceLastPromotion    -0.048264         9.806278e-02\n",
              "22         PercentSalaryHike    -0.038902         1.824801e-01\n",
              "23         PerformanceRating    -0.029702         3.088105e-01\n",
              "11                HourlyRate    -0.026763         3.591634e-01\n",
              "1             BusinessTravel    -0.021100         4.697477e-01\n",
              "5                  Education    -0.013795         6.365146e-01\n",
              "8             EmployeeNumber     0.004778         8.699968e-01\n",
              "18               MonthlyRate     0.022285         4.451656e-01\n",
              "6             EducationField     0.035454         2.243982e-01\n",
              "10                    Gender     0.038926         1.822175e-01\n",
              "19        NumCompaniesWorked     0.053061         6.891844e-02\n",
              "3                 Department     0.058072         4.647965e-02\n",
              "4           DistanceFromHome     0.061815         3.403968e-02\n",
              "14                   JobRole     0.066978         2.161918e-02\n",
              "16             MaritalStatus     0.140686         1.275757e-06\n",
              "21                  OverTime     0.252677         1.380710e-18\n",
              "7              EmployeeCount          NaN                  NaN\n",
              "20                    Over18          NaN                  NaN\n",
              "25             StandardHours          NaN                  NaN"
            ]
          },
          "metadata": {},
          "execution_count": 36
        }
      ],
      "source": [
        "import scipy.stats \n",
        "\n",
        "corrs = []\n",
        "for col in numeric_feature_cols:\n",
        "    corr = scipy.stats.spearmanr(df['Attrition'], df[col])\n",
        "    corrs.append({\n",
        "        'feature': col,\n",
        "        'correlation': corr[0],\n",
        "        'correlation_p_value': corr[1]\n",
        "    })\n",
        "    \n",
        "pd.DataFrame(corrs).sort_values('correlation')"
      ],
      "id": "1g_bv6_RDEUU"
    },
    {
      "cell_type": "markdown",
      "metadata": {
        "id": "fHzhy6LQDEUU"
      },
      "source": [
        "##### Features are arranged in the ascending order of correlation with the Attrition. Monthly income has the highest correlation with 'age_group'. Higher the correlation (positive or negative) with target variable, more the importance of the feature. This method is not very reliable as there is a possibity of interaction between variables. "
      ],
      "id": "fHzhy6LQDEUU"
    },
    {
      "cell_type": "markdown",
      "metadata": {
        "id": "HCXXE9vpDEUU"
      },
      "source": [
        "## Data preparation for Modelling "
      ],
      "id": "HCXXE9vpDEUU"
    },
    {
      "cell_type": "markdown",
      "metadata": {
        "id": "RhNmJfH1DEUU"
      },
      "source": [
        "### X and Y division"
      ],
      "id": "RhNmJfH1DEUU"
    },
    {
      "cell_type": "markdown",
      "metadata": {
        "id": "kkSPAuWVDEUU"
      },
      "source": [
        "#### Drop irrelevant columns here. We generally drop columns \n",
        "##### 1. With unique id; In this case, EmployeeID. \n",
        "##### 2. With more than 30% missing values \n",
        "##### 3. More than 70-80% unique values \n",
        "##### 4. Only 1 unique value. Example: StandardHours\n",
        "##### 5. Very low correlation with target variable "
      ],
      "id": "kkSPAuWVDEUU"
    },
    {
      "cell_type": "code",
      "execution_count": 37,
      "metadata": {
        "id": "zxyUbw1aDEUV"
      },
      "outputs": [],
      "source": [
        "X = df.drop(['Attrition'], axis=1)     \n",
        "\n",
        "y = df['Attrition']"
      ],
      "id": "zxyUbw1aDEUV"
    },
    {
      "cell_type": "code",
      "execution_count": 38,
      "metadata": {
        "id": "SyZxHZDiDEUV",
        "outputId": "eb10b7b0-ad35-4f8c-f6b1-b6575f753913",
        "colab": {
          "base_uri": "https://localhost:8080/",
          "height": 488
        }
      },
      "outputs": [
        {
          "output_type": "execute_result",
          "data": {
            "text/html": [
              "\n",
              "  <div id=\"df-0b90dace-dc49-4897-93f4-706f3bd54b54\">\n",
              "    <div class=\"colab-df-container\">\n",
              "      <div>\n",
              "<style scoped>\n",
              "    .dataframe tbody tr th:only-of-type {\n",
              "        vertical-align: middle;\n",
              "    }\n",
              "\n",
              "    .dataframe tbody tr th {\n",
              "        vertical-align: top;\n",
              "    }\n",
              "\n",
              "    .dataframe thead th {\n",
              "        text-align: right;\n",
              "    }\n",
              "</style>\n",
              "<table border=\"1\" class=\"dataframe\">\n",
              "  <thead>\n",
              "    <tr style=\"text-align: right;\">\n",
              "      <th></th>\n",
              "      <th>Age</th>\n",
              "      <th>BusinessTravel</th>\n",
              "      <th>DailyRate</th>\n",
              "      <th>Department</th>\n",
              "      <th>DistanceFromHome</th>\n",
              "      <th>Education</th>\n",
              "      <th>EducationField</th>\n",
              "      <th>EmployeeCount</th>\n",
              "      <th>EmployeeNumber</th>\n",
              "      <th>EnvironmentSatisfaction</th>\n",
              "      <th>Gender</th>\n",
              "      <th>HourlyRate</th>\n",
              "      <th>JobInvolvement</th>\n",
              "      <th>JobLevel</th>\n",
              "      <th>JobRole</th>\n",
              "      <th>JobSatisfaction</th>\n",
              "      <th>MaritalStatus</th>\n",
              "      <th>MonthlyIncome</th>\n",
              "      <th>MonthlyRate</th>\n",
              "      <th>NumCompaniesWorked</th>\n",
              "      <th>Over18</th>\n",
              "      <th>OverTime</th>\n",
              "      <th>PercentSalaryHike</th>\n",
              "      <th>PerformanceRating</th>\n",
              "      <th>RelationshipSatisfaction</th>\n",
              "      <th>StandardHours</th>\n",
              "      <th>StockOptionLevel</th>\n",
              "      <th>TotalWorkingYears</th>\n",
              "      <th>TrainingTimesLastYear</th>\n",
              "      <th>WorkLifeBalance</th>\n",
              "      <th>YearsAtCompany</th>\n",
              "      <th>YearsInCurrentRole</th>\n",
              "      <th>YearsSinceLastPromotion</th>\n",
              "      <th>YearsWithCurrManager</th>\n",
              "    </tr>\n",
              "  </thead>\n",
              "  <tbody>\n",
              "    <tr>\n",
              "      <th>0</th>\n",
              "      <td>25</td>\n",
              "      <td>2</td>\n",
              "      <td>685</td>\n",
              "      <td>1</td>\n",
              "      <td>1</td>\n",
              "      <td>3</td>\n",
              "      <td>1</td>\n",
              "      <td>1</td>\n",
              "      <td>350</td>\n",
              "      <td>1</td>\n",
              "      <td>0</td>\n",
              "      <td>62</td>\n",
              "      <td>3</td>\n",
              "      <td>2</td>\n",
              "      <td>4</td>\n",
              "      <td>3</td>\n",
              "      <td>1</td>\n",
              "      <td>4898</td>\n",
              "      <td>7505</td>\n",
              "      <td>0</td>\n",
              "      <td>0</td>\n",
              "      <td>0</td>\n",
              "      <td>12</td>\n",
              "      <td>3</td>\n",
              "      <td>4</td>\n",
              "      <td>80</td>\n",
              "      <td>2</td>\n",
              "      <td>5</td>\n",
              "      <td>3</td>\n",
              "      <td>3</td>\n",
              "      <td>4</td>\n",
              "      <td>2</td>\n",
              "      <td>1</td>\n",
              "      <td>2</td>\n",
              "    </tr>\n",
              "    <tr>\n",
              "      <th>1</th>\n",
              "      <td>44</td>\n",
              "      <td>2</td>\n",
              "      <td>1376</td>\n",
              "      <td>0</td>\n",
              "      <td>1</td>\n",
              "      <td>2</td>\n",
              "      <td>3</td>\n",
              "      <td>1</td>\n",
              "      <td>1098</td>\n",
              "      <td>2</td>\n",
              "      <td>1</td>\n",
              "      <td>91</td>\n",
              "      <td>2</td>\n",
              "      <td>3</td>\n",
              "      <td>1</td>\n",
              "      <td>1</td>\n",
              "      <td>1</td>\n",
              "      <td>10482</td>\n",
              "      <td>2326</td>\n",
              "      <td>9</td>\n",
              "      <td>0</td>\n",
              "      <td>0</td>\n",
              "      <td>14</td>\n",
              "      <td>3</td>\n",
              "      <td>4</td>\n",
              "      <td>80</td>\n",
              "      <td>1</td>\n",
              "      <td>24</td>\n",
              "      <td>1</td>\n",
              "      <td>3</td>\n",
              "      <td>20</td>\n",
              "      <td>6</td>\n",
              "      <td>3</td>\n",
              "      <td>6</td>\n",
              "    </tr>\n",
              "    <tr>\n",
              "      <th>2</th>\n",
              "      <td>27</td>\n",
              "      <td>2</td>\n",
              "      <td>135</td>\n",
              "      <td>1</td>\n",
              "      <td>17</td>\n",
              "      <td>4</td>\n",
              "      <td>1</td>\n",
              "      <td>1</td>\n",
              "      <td>1405</td>\n",
              "      <td>4</td>\n",
              "      <td>0</td>\n",
              "      <td>51</td>\n",
              "      <td>3</td>\n",
              "      <td>1</td>\n",
              "      <td>6</td>\n",
              "      <td>3</td>\n",
              "      <td>2</td>\n",
              "      <td>2394</td>\n",
              "      <td>25681</td>\n",
              "      <td>1</td>\n",
              "      <td>0</td>\n",
              "      <td>1</td>\n",
              "      <td>13</td>\n",
              "      <td>3</td>\n",
              "      <td>4</td>\n",
              "      <td>80</td>\n",
              "      <td>0</td>\n",
              "      <td>8</td>\n",
              "      <td>2</td>\n",
              "      <td>3</td>\n",
              "      <td>8</td>\n",
              "      <td>2</td>\n",
              "      <td>7</td>\n",
              "      <td>7</td>\n",
              "    </tr>\n",
              "    <tr>\n",
              "      <th>3</th>\n",
              "      <td>40</td>\n",
              "      <td>1</td>\n",
              "      <td>580</td>\n",
              "      <td>2</td>\n",
              "      <td>5</td>\n",
              "      <td>4</td>\n",
              "      <td>1</td>\n",
              "      <td>1</td>\n",
              "      <td>729</td>\n",
              "      <td>4</td>\n",
              "      <td>1</td>\n",
              "      <td>48</td>\n",
              "      <td>2</td>\n",
              "      <td>3</td>\n",
              "      <td>7</td>\n",
              "      <td>1</td>\n",
              "      <td>1</td>\n",
              "      <td>10475</td>\n",
              "      <td>23772</td>\n",
              "      <td>5</td>\n",
              "      <td>0</td>\n",
              "      <td>1</td>\n",
              "      <td>21</td>\n",
              "      <td>4</td>\n",
              "      <td>3</td>\n",
              "      <td>80</td>\n",
              "      <td>1</td>\n",
              "      <td>20</td>\n",
              "      <td>2</td>\n",
              "      <td>3</td>\n",
              "      <td>18</td>\n",
              "      <td>13</td>\n",
              "      <td>1</td>\n",
              "      <td>12</td>\n",
              "    </tr>\n",
              "    <tr>\n",
              "      <th>4</th>\n",
              "      <td>24</td>\n",
              "      <td>2</td>\n",
              "      <td>477</td>\n",
              "      <td>1</td>\n",
              "      <td>24</td>\n",
              "      <td>3</td>\n",
              "      <td>3</td>\n",
              "      <td>1</td>\n",
              "      <td>1173</td>\n",
              "      <td>4</td>\n",
              "      <td>1</td>\n",
              "      <td>49</td>\n",
              "      <td>3</td>\n",
              "      <td>1</td>\n",
              "      <td>2</td>\n",
              "      <td>2</td>\n",
              "      <td>2</td>\n",
              "      <td>3597</td>\n",
              "      <td>6409</td>\n",
              "      <td>8</td>\n",
              "      <td>0</td>\n",
              "      <td>0</td>\n",
              "      <td>22</td>\n",
              "      <td>4</td>\n",
              "      <td>4</td>\n",
              "      <td>80</td>\n",
              "      <td>0</td>\n",
              "      <td>6</td>\n",
              "      <td>2</td>\n",
              "      <td>3</td>\n",
              "      <td>4</td>\n",
              "      <td>3</td>\n",
              "      <td>1</td>\n",
              "      <td>2</td>\n",
              "    </tr>\n",
              "    <tr>\n",
              "      <th>...</th>\n",
              "      <td>...</td>\n",
              "      <td>...</td>\n",
              "      <td>...</td>\n",
              "      <td>...</td>\n",
              "      <td>...</td>\n",
              "      <td>...</td>\n",
              "      <td>...</td>\n",
              "      <td>...</td>\n",
              "      <td>...</td>\n",
              "      <td>...</td>\n",
              "      <td>...</td>\n",
              "      <td>...</td>\n",
              "      <td>...</td>\n",
              "      <td>...</td>\n",
              "      <td>...</td>\n",
              "      <td>...</td>\n",
              "      <td>...</td>\n",
              "      <td>...</td>\n",
              "      <td>...</td>\n",
              "      <td>...</td>\n",
              "      <td>...</td>\n",
              "      <td>...</td>\n",
              "      <td>...</td>\n",
              "      <td>...</td>\n",
              "      <td>...</td>\n",
              "      <td>...</td>\n",
              "      <td>...</td>\n",
              "      <td>...</td>\n",
              "      <td>...</td>\n",
              "      <td>...</td>\n",
              "      <td>...</td>\n",
              "      <td>...</td>\n",
              "      <td>...</td>\n",
              "      <td>...</td>\n",
              "    </tr>\n",
              "    <tr>\n",
              "      <th>1171</th>\n",
              "      <td>34</td>\n",
              "      <td>0</td>\n",
              "      <td>1381</td>\n",
              "      <td>2</td>\n",
              "      <td>4</td>\n",
              "      <td>4</td>\n",
              "      <td>2</td>\n",
              "      <td>1</td>\n",
              "      <td>523</td>\n",
              "      <td>3</td>\n",
              "      <td>0</td>\n",
              "      <td>72</td>\n",
              "      <td>3</td>\n",
              "      <td>2</td>\n",
              "      <td>7</td>\n",
              "      <td>3</td>\n",
              "      <td>1</td>\n",
              "      <td>6538</td>\n",
              "      <td>12740</td>\n",
              "      <td>9</td>\n",
              "      <td>0</td>\n",
              "      <td>0</td>\n",
              "      <td>15</td>\n",
              "      <td>3</td>\n",
              "      <td>1</td>\n",
              "      <td>80</td>\n",
              "      <td>1</td>\n",
              "      <td>6</td>\n",
              "      <td>3</td>\n",
              "      <td>3</td>\n",
              "      <td>3</td>\n",
              "      <td>2</td>\n",
              "      <td>1</td>\n",
              "      <td>2</td>\n",
              "    </tr>\n",
              "    <tr>\n",
              "      <th>1172</th>\n",
              "      <td>19</td>\n",
              "      <td>2</td>\n",
              "      <td>1181</td>\n",
              "      <td>1</td>\n",
              "      <td>3</td>\n",
              "      <td>1</td>\n",
              "      <td>3</td>\n",
              "      <td>1</td>\n",
              "      <td>201</td>\n",
              "      <td>2</td>\n",
              "      <td>0</td>\n",
              "      <td>79</td>\n",
              "      <td>3</td>\n",
              "      <td>1</td>\n",
              "      <td>2</td>\n",
              "      <td>2</td>\n",
              "      <td>2</td>\n",
              "      <td>1483</td>\n",
              "      <td>16102</td>\n",
              "      <td>1</td>\n",
              "      <td>0</td>\n",
              "      <td>0</td>\n",
              "      <td>14</td>\n",
              "      <td>3</td>\n",
              "      <td>4</td>\n",
              "      <td>80</td>\n",
              "      <td>0</td>\n",
              "      <td>1</td>\n",
              "      <td>3</td>\n",
              "      <td>3</td>\n",
              "      <td>1</td>\n",
              "      <td>0</td>\n",
              "      <td>0</td>\n",
              "      <td>0</td>\n",
              "    </tr>\n",
              "    <tr>\n",
              "      <th>1173</th>\n",
              "      <td>19</td>\n",
              "      <td>2</td>\n",
              "      <td>645</td>\n",
              "      <td>1</td>\n",
              "      <td>9</td>\n",
              "      <td>2</td>\n",
              "      <td>1</td>\n",
              "      <td>1</td>\n",
              "      <td>1193</td>\n",
              "      <td>3</td>\n",
              "      <td>1</td>\n",
              "      <td>54</td>\n",
              "      <td>3</td>\n",
              "      <td>1</td>\n",
              "      <td>6</td>\n",
              "      <td>1</td>\n",
              "      <td>2</td>\n",
              "      <td>2552</td>\n",
              "      <td>7172</td>\n",
              "      <td>1</td>\n",
              "      <td>0</td>\n",
              "      <td>0</td>\n",
              "      <td>25</td>\n",
              "      <td>4</td>\n",
              "      <td>3</td>\n",
              "      <td>80</td>\n",
              "      <td>0</td>\n",
              "      <td>1</td>\n",
              "      <td>4</td>\n",
              "      <td>3</td>\n",
              "      <td>1</td>\n",
              "      <td>1</td>\n",
              "      <td>0</td>\n",
              "      <td>0</td>\n",
              "    </tr>\n",
              "    <tr>\n",
              "      <th>1174</th>\n",
              "      <td>31</td>\n",
              "      <td>1</td>\n",
              "      <td>1327</td>\n",
              "      <td>1</td>\n",
              "      <td>3</td>\n",
              "      <td>4</td>\n",
              "      <td>3</td>\n",
              "      <td>1</td>\n",
              "      <td>337</td>\n",
              "      <td>2</td>\n",
              "      <td>1</td>\n",
              "      <td>73</td>\n",
              "      <td>3</td>\n",
              "      <td>3</td>\n",
              "      <td>5</td>\n",
              "      <td>3</td>\n",
              "      <td>0</td>\n",
              "      <td>13675</td>\n",
              "      <td>13523</td>\n",
              "      <td>9</td>\n",
              "      <td>0</td>\n",
              "      <td>0</td>\n",
              "      <td>12</td>\n",
              "      <td>3</td>\n",
              "      <td>1</td>\n",
              "      <td>80</td>\n",
              "      <td>1</td>\n",
              "      <td>9</td>\n",
              "      <td>3</td>\n",
              "      <td>3</td>\n",
              "      <td>2</td>\n",
              "      <td>2</td>\n",
              "      <td>2</td>\n",
              "      <td>2</td>\n",
              "    </tr>\n",
              "    <tr>\n",
              "      <th>1175</th>\n",
              "      <td>23</td>\n",
              "      <td>2</td>\n",
              "      <td>571</td>\n",
              "      <td>1</td>\n",
              "      <td>12</td>\n",
              "      <td>2</td>\n",
              "      <td>4</td>\n",
              "      <td>1</td>\n",
              "      <td>1982</td>\n",
              "      <td>4</td>\n",
              "      <td>1</td>\n",
              "      <td>78</td>\n",
              "      <td>3</td>\n",
              "      <td>1</td>\n",
              "      <td>2</td>\n",
              "      <td>4</td>\n",
              "      <td>2</td>\n",
              "      <td>2647</td>\n",
              "      <td>13672</td>\n",
              "      <td>1</td>\n",
              "      <td>0</td>\n",
              "      <td>0</td>\n",
              "      <td>13</td>\n",
              "      <td>3</td>\n",
              "      <td>3</td>\n",
              "      <td>80</td>\n",
              "      <td>0</td>\n",
              "      <td>5</td>\n",
              "      <td>6</td>\n",
              "      <td>4</td>\n",
              "      <td>5</td>\n",
              "      <td>2</td>\n",
              "      <td>1</td>\n",
              "      <td>4</td>\n",
              "    </tr>\n",
              "  </tbody>\n",
              "</table>\n",
              "<p>1176 rows × 34 columns</p>\n",
              "</div>\n",
              "      <button class=\"colab-df-convert\" onclick=\"convertToInteractive('df-0b90dace-dc49-4897-93f4-706f3bd54b54')\"\n",
              "              title=\"Convert this dataframe to an interactive table.\"\n",
              "              style=\"display:none;\">\n",
              "        \n",
              "  <svg xmlns=\"http://www.w3.org/2000/svg\" height=\"24px\"viewBox=\"0 0 24 24\"\n",
              "       width=\"24px\">\n",
              "    <path d=\"M0 0h24v24H0V0z\" fill=\"none\"/>\n",
              "    <path d=\"M18.56 5.44l.94 2.06.94-2.06 2.06-.94-2.06-.94-.94-2.06-.94 2.06-2.06.94zm-11 1L8.5 8.5l.94-2.06 2.06-.94-2.06-.94L8.5 2.5l-.94 2.06-2.06.94zm10 10l.94 2.06.94-2.06 2.06-.94-2.06-.94-.94-2.06-.94 2.06-2.06.94z\"/><path d=\"M17.41 7.96l-1.37-1.37c-.4-.4-.92-.59-1.43-.59-.52 0-1.04.2-1.43.59L10.3 9.45l-7.72 7.72c-.78.78-.78 2.05 0 2.83L4 21.41c.39.39.9.59 1.41.59.51 0 1.02-.2 1.41-.59l7.78-7.78 2.81-2.81c.8-.78.8-2.07 0-2.86zM5.41 20L4 18.59l7.72-7.72 1.47 1.35L5.41 20z\"/>\n",
              "  </svg>\n",
              "      </button>\n",
              "      \n",
              "  <style>\n",
              "    .colab-df-container {\n",
              "      display:flex;\n",
              "      flex-wrap:wrap;\n",
              "      gap: 12px;\n",
              "    }\n",
              "\n",
              "    .colab-df-convert {\n",
              "      background-color: #E8F0FE;\n",
              "      border: none;\n",
              "      border-radius: 50%;\n",
              "      cursor: pointer;\n",
              "      display: none;\n",
              "      fill: #1967D2;\n",
              "      height: 32px;\n",
              "      padding: 0 0 0 0;\n",
              "      width: 32px;\n",
              "    }\n",
              "\n",
              "    .colab-df-convert:hover {\n",
              "      background-color: #E2EBFA;\n",
              "      box-shadow: 0px 1px 2px rgba(60, 64, 67, 0.3), 0px 1px 3px 1px rgba(60, 64, 67, 0.15);\n",
              "      fill: #174EA6;\n",
              "    }\n",
              "\n",
              "    [theme=dark] .colab-df-convert {\n",
              "      background-color: #3B4455;\n",
              "      fill: #D2E3FC;\n",
              "    }\n",
              "\n",
              "    [theme=dark] .colab-df-convert:hover {\n",
              "      background-color: #434B5C;\n",
              "      box-shadow: 0px 1px 3px 1px rgba(0, 0, 0, 0.15);\n",
              "      filter: drop-shadow(0px 1px 2px rgba(0, 0, 0, 0.3));\n",
              "      fill: #FFFFFF;\n",
              "    }\n",
              "  </style>\n",
              "\n",
              "      <script>\n",
              "        const buttonEl =\n",
              "          document.querySelector('#df-0b90dace-dc49-4897-93f4-706f3bd54b54 button.colab-df-convert');\n",
              "        buttonEl.style.display =\n",
              "          google.colab.kernel.accessAllowed ? 'block' : 'none';\n",
              "\n",
              "        async function convertToInteractive(key) {\n",
              "          const element = document.querySelector('#df-0b90dace-dc49-4897-93f4-706f3bd54b54');\n",
              "          const dataTable =\n",
              "            await google.colab.kernel.invokeFunction('convertToInteractive',\n",
              "                                                     [key], {});\n",
              "          if (!dataTable) return;\n",
              "\n",
              "          const docLinkHtml = 'Like what you see? Visit the ' +\n",
              "            '<a target=\"_blank\" href=https://colab.research.google.com/notebooks/data_table.ipynb>data table notebook</a>'\n",
              "            + ' to learn more about interactive tables.';\n",
              "          element.innerHTML = '';\n",
              "          dataTable['output_type'] = 'display_data';\n",
              "          await google.colab.output.renderOutput(dataTable, element);\n",
              "          const docLink = document.createElement('div');\n",
              "          docLink.innerHTML = docLinkHtml;\n",
              "          element.appendChild(docLink);\n",
              "        }\n",
              "      </script>\n",
              "    </div>\n",
              "  </div>\n",
              "  "
            ],
            "text/plain": [
              "      Age  BusinessTravel  ...  YearsSinceLastPromotion  YearsWithCurrManager\n",
              "0      25               2  ...                        1                     2\n",
              "1      44               2  ...                        3                     6\n",
              "2      27               2  ...                        7                     7\n",
              "3      40               1  ...                        1                    12\n",
              "4      24               2  ...                        1                     2\n",
              "...   ...             ...  ...                      ...                   ...\n",
              "1171   34               0  ...                        1                     2\n",
              "1172   19               2  ...                        0                     0\n",
              "1173   19               2  ...                        0                     0\n",
              "1174   31               1  ...                        2                     2\n",
              "1175   23               2  ...                        1                     4\n",
              "\n",
              "[1176 rows x 34 columns]"
            ]
          },
          "metadata": {},
          "execution_count": 38
        }
      ],
      "source": [
        "X"
      ],
      "id": "SyZxHZDiDEUV"
    },
    {
      "cell_type": "code",
      "execution_count": 39,
      "metadata": {
        "id": "-LaZZrPJDEUV",
        "outputId": "7b5660fa-dd65-4c04-861f-c74a1c857c2c",
        "colab": {
          "base_uri": "https://localhost:8080/"
        }
      },
      "outputs": [
        {
          "output_type": "execute_result",
          "data": {
            "text/plain": [
              "0       0\n",
              "1       1\n",
              "2       1\n",
              "3       0\n",
              "4       0\n",
              "       ..\n",
              "1171    0\n",
              "1172    0\n",
              "1173    0\n",
              "1174    0\n",
              "1175    0\n",
              "Name: Attrition, Length: 1176, dtype: int64"
            ]
          },
          "metadata": {},
          "execution_count": 39
        }
      ],
      "source": [
        "y"
      ],
      "id": "-LaZZrPJDEUV"
    },
    {
      "cell_type": "markdown",
      "metadata": {
        "id": "iunpy-ICDEUV"
      },
      "source": [
        "### Data Normalization (Optional)"
      ],
      "id": "iunpy-ICDEUV"
    },
    {
      "cell_type": "code",
      "execution_count": 40,
      "metadata": {
        "id": "qaFXxQWIDEUV",
        "outputId": "908c2b5e-f32a-4ce8-c5dc-1db87ca5c2c5",
        "colab": {
          "base_uri": "https://localhost:8080/",
          "height": 488
        }
      },
      "outputs": [
        {
          "output_type": "execute_result",
          "data": {
            "text/html": [
              "\n",
              "  <div id=\"df-67396001-9260-467d-b7ff-7f32059f3da3\">\n",
              "    <div class=\"colab-df-container\">\n",
              "      <div>\n",
              "<style scoped>\n",
              "    .dataframe tbody tr th:only-of-type {\n",
              "        vertical-align: middle;\n",
              "    }\n",
              "\n",
              "    .dataframe tbody tr th {\n",
              "        vertical-align: top;\n",
              "    }\n",
              "\n",
              "    .dataframe thead th {\n",
              "        text-align: right;\n",
              "    }\n",
              "</style>\n",
              "<table border=\"1\" class=\"dataframe\">\n",
              "  <thead>\n",
              "    <tr style=\"text-align: right;\">\n",
              "      <th></th>\n",
              "      <th>Age</th>\n",
              "      <th>BusinessTravel</th>\n",
              "      <th>DailyRate</th>\n",
              "      <th>Department</th>\n",
              "      <th>DistanceFromHome</th>\n",
              "      <th>Education</th>\n",
              "      <th>EducationField</th>\n",
              "      <th>EmployeeCount</th>\n",
              "      <th>EmployeeNumber</th>\n",
              "      <th>EnvironmentSatisfaction</th>\n",
              "      <th>Gender</th>\n",
              "      <th>HourlyRate</th>\n",
              "      <th>JobInvolvement</th>\n",
              "      <th>JobLevel</th>\n",
              "      <th>JobRole</th>\n",
              "      <th>JobSatisfaction</th>\n",
              "      <th>MaritalStatus</th>\n",
              "      <th>MonthlyIncome</th>\n",
              "      <th>MonthlyRate</th>\n",
              "      <th>NumCompaniesWorked</th>\n",
              "      <th>Over18</th>\n",
              "      <th>OverTime</th>\n",
              "      <th>PercentSalaryHike</th>\n",
              "      <th>PerformanceRating</th>\n",
              "      <th>RelationshipSatisfaction</th>\n",
              "      <th>StandardHours</th>\n",
              "      <th>StockOptionLevel</th>\n",
              "      <th>TotalWorkingYears</th>\n",
              "      <th>TrainingTimesLastYear</th>\n",
              "      <th>WorkLifeBalance</th>\n",
              "      <th>YearsAtCompany</th>\n",
              "      <th>YearsInCurrentRole</th>\n",
              "      <th>YearsSinceLastPromotion</th>\n",
              "      <th>YearsWithCurrManager</th>\n",
              "    </tr>\n",
              "  </thead>\n",
              "  <tbody>\n",
              "    <tr>\n",
              "      <th>0</th>\n",
              "      <td>0.000926</td>\n",
              "      <td>0.000074</td>\n",
              "      <td>0.025371</td>\n",
              "      <td>0.000037</td>\n",
              "      <td>0.000037</td>\n",
              "      <td>0.000111</td>\n",
              "      <td>0.000037</td>\n",
              "      <td>0.000037</td>\n",
              "      <td>0.012963</td>\n",
              "      <td>0.000037</td>\n",
              "      <td>0.000000</td>\n",
              "      <td>0.002296</td>\n",
              "      <td>0.000111</td>\n",
              "      <td>0.000074</td>\n",
              "      <td>0.000148</td>\n",
              "      <td>0.000111</td>\n",
              "      <td>0.000037</td>\n",
              "      <td>0.181414</td>\n",
              "      <td>0.277973</td>\n",
              "      <td>0.000000</td>\n",
              "      <td>0.0</td>\n",
              "      <td>0.000000</td>\n",
              "      <td>0.000444</td>\n",
              "      <td>0.000111</td>\n",
              "      <td>0.000148</td>\n",
              "      <td>0.002963</td>\n",
              "      <td>0.000074</td>\n",
              "      <td>0.000185</td>\n",
              "      <td>0.000111</td>\n",
              "      <td>0.000111</td>\n",
              "      <td>0.000148</td>\n",
              "      <td>0.000074</td>\n",
              "      <td>0.000037</td>\n",
              "      <td>0.000074</td>\n",
              "    </tr>\n",
              "    <tr>\n",
              "      <th>1</th>\n",
              "      <td>0.001630</td>\n",
              "      <td>0.000074</td>\n",
              "      <td>0.050965</td>\n",
              "      <td>0.000000</td>\n",
              "      <td>0.000037</td>\n",
              "      <td>0.000074</td>\n",
              "      <td>0.000111</td>\n",
              "      <td>0.000037</td>\n",
              "      <td>0.040668</td>\n",
              "      <td>0.000074</td>\n",
              "      <td>0.000037</td>\n",
              "      <td>0.003370</td>\n",
              "      <td>0.000074</td>\n",
              "      <td>0.000111</td>\n",
              "      <td>0.000037</td>\n",
              "      <td>0.000037</td>\n",
              "      <td>0.000037</td>\n",
              "      <td>0.388237</td>\n",
              "      <td>0.086151</td>\n",
              "      <td>0.000333</td>\n",
              "      <td>0.0</td>\n",
              "      <td>0.000000</td>\n",
              "      <td>0.000519</td>\n",
              "      <td>0.000111</td>\n",
              "      <td>0.000148</td>\n",
              "      <td>0.002963</td>\n",
              "      <td>0.000037</td>\n",
              "      <td>0.000889</td>\n",
              "      <td>0.000037</td>\n",
              "      <td>0.000111</td>\n",
              "      <td>0.000741</td>\n",
              "      <td>0.000222</td>\n",
              "      <td>0.000111</td>\n",
              "      <td>0.000222</td>\n",
              "    </tr>\n",
              "    <tr>\n",
              "      <th>2</th>\n",
              "      <td>0.001000</td>\n",
              "      <td>0.000074</td>\n",
              "      <td>0.005000</td>\n",
              "      <td>0.000037</td>\n",
              "      <td>0.000630</td>\n",
              "      <td>0.000148</td>\n",
              "      <td>0.000037</td>\n",
              "      <td>0.000037</td>\n",
              "      <td>0.052039</td>\n",
              "      <td>0.000148</td>\n",
              "      <td>0.000000</td>\n",
              "      <td>0.001889</td>\n",
              "      <td>0.000111</td>\n",
              "      <td>0.000037</td>\n",
              "      <td>0.000222</td>\n",
              "      <td>0.000111</td>\n",
              "      <td>0.000074</td>\n",
              "      <td>0.088670</td>\n",
              "      <td>0.951183</td>\n",
              "      <td>0.000037</td>\n",
              "      <td>0.0</td>\n",
              "      <td>0.000037</td>\n",
              "      <td>0.000481</td>\n",
              "      <td>0.000111</td>\n",
              "      <td>0.000148</td>\n",
              "      <td>0.002963</td>\n",
              "      <td>0.000000</td>\n",
              "      <td>0.000296</td>\n",
              "      <td>0.000074</td>\n",
              "      <td>0.000111</td>\n",
              "      <td>0.000296</td>\n",
              "      <td>0.000074</td>\n",
              "      <td>0.000259</td>\n",
              "      <td>0.000259</td>\n",
              "    </tr>\n",
              "    <tr>\n",
              "      <th>3</th>\n",
              "      <td>0.001482</td>\n",
              "      <td>0.000037</td>\n",
              "      <td>0.021482</td>\n",
              "      <td>0.000074</td>\n",
              "      <td>0.000185</td>\n",
              "      <td>0.000148</td>\n",
              "      <td>0.000037</td>\n",
              "      <td>0.000037</td>\n",
              "      <td>0.027001</td>\n",
              "      <td>0.000148</td>\n",
              "      <td>0.000037</td>\n",
              "      <td>0.001778</td>\n",
              "      <td>0.000074</td>\n",
              "      <td>0.000111</td>\n",
              "      <td>0.000259</td>\n",
              "      <td>0.000037</td>\n",
              "      <td>0.000037</td>\n",
              "      <td>0.387977</td>\n",
              "      <td>0.880477</td>\n",
              "      <td>0.000185</td>\n",
              "      <td>0.0</td>\n",
              "      <td>0.000037</td>\n",
              "      <td>0.000778</td>\n",
              "      <td>0.000148</td>\n",
              "      <td>0.000111</td>\n",
              "      <td>0.002963</td>\n",
              "      <td>0.000037</td>\n",
              "      <td>0.000741</td>\n",
              "      <td>0.000074</td>\n",
              "      <td>0.000111</td>\n",
              "      <td>0.000667</td>\n",
              "      <td>0.000481</td>\n",
              "      <td>0.000037</td>\n",
              "      <td>0.000444</td>\n",
              "    </tr>\n",
              "    <tr>\n",
              "      <th>4</th>\n",
              "      <td>0.000889</td>\n",
              "      <td>0.000074</td>\n",
              "      <td>0.017667</td>\n",
              "      <td>0.000037</td>\n",
              "      <td>0.000889</td>\n",
              "      <td>0.000111</td>\n",
              "      <td>0.000111</td>\n",
              "      <td>0.000037</td>\n",
              "      <td>0.043446</td>\n",
              "      <td>0.000148</td>\n",
              "      <td>0.000037</td>\n",
              "      <td>0.001815</td>\n",
              "      <td>0.000111</td>\n",
              "      <td>0.000037</td>\n",
              "      <td>0.000074</td>\n",
              "      <td>0.000074</td>\n",
              "      <td>0.000074</td>\n",
              "      <td>0.133227</td>\n",
              "      <td>0.237379</td>\n",
              "      <td>0.000296</td>\n",
              "      <td>0.0</td>\n",
              "      <td>0.000000</td>\n",
              "      <td>0.000815</td>\n",
              "      <td>0.000148</td>\n",
              "      <td>0.000148</td>\n",
              "      <td>0.002963</td>\n",
              "      <td>0.000000</td>\n",
              "      <td>0.000222</td>\n",
              "      <td>0.000074</td>\n",
              "      <td>0.000111</td>\n",
              "      <td>0.000148</td>\n",
              "      <td>0.000111</td>\n",
              "      <td>0.000037</td>\n",
              "      <td>0.000074</td>\n",
              "    </tr>\n",
              "    <tr>\n",
              "      <th>...</th>\n",
              "      <td>...</td>\n",
              "      <td>...</td>\n",
              "      <td>...</td>\n",
              "      <td>...</td>\n",
              "      <td>...</td>\n",
              "      <td>...</td>\n",
              "      <td>...</td>\n",
              "      <td>...</td>\n",
              "      <td>...</td>\n",
              "      <td>...</td>\n",
              "      <td>...</td>\n",
              "      <td>...</td>\n",
              "      <td>...</td>\n",
              "      <td>...</td>\n",
              "      <td>...</td>\n",
              "      <td>...</td>\n",
              "      <td>...</td>\n",
              "      <td>...</td>\n",
              "      <td>...</td>\n",
              "      <td>...</td>\n",
              "      <td>...</td>\n",
              "      <td>...</td>\n",
              "      <td>...</td>\n",
              "      <td>...</td>\n",
              "      <td>...</td>\n",
              "      <td>...</td>\n",
              "      <td>...</td>\n",
              "      <td>...</td>\n",
              "      <td>...</td>\n",
              "      <td>...</td>\n",
              "      <td>...</td>\n",
              "      <td>...</td>\n",
              "      <td>...</td>\n",
              "      <td>...</td>\n",
              "    </tr>\n",
              "    <tr>\n",
              "      <th>1171</th>\n",
              "      <td>0.001259</td>\n",
              "      <td>0.000000</td>\n",
              "      <td>0.051150</td>\n",
              "      <td>0.000074</td>\n",
              "      <td>0.000148</td>\n",
              "      <td>0.000148</td>\n",
              "      <td>0.000074</td>\n",
              "      <td>0.000037</td>\n",
              "      <td>0.019371</td>\n",
              "      <td>0.000111</td>\n",
              "      <td>0.000000</td>\n",
              "      <td>0.002667</td>\n",
              "      <td>0.000111</td>\n",
              "      <td>0.000074</td>\n",
              "      <td>0.000259</td>\n",
              "      <td>0.000111</td>\n",
              "      <td>0.000037</td>\n",
              "      <td>0.242157</td>\n",
              "      <td>0.471869</td>\n",
              "      <td>0.000333</td>\n",
              "      <td>0.0</td>\n",
              "      <td>0.000000</td>\n",
              "      <td>0.000556</td>\n",
              "      <td>0.000111</td>\n",
              "      <td>0.000037</td>\n",
              "      <td>0.002963</td>\n",
              "      <td>0.000037</td>\n",
              "      <td>0.000222</td>\n",
              "      <td>0.000111</td>\n",
              "      <td>0.000111</td>\n",
              "      <td>0.000111</td>\n",
              "      <td>0.000074</td>\n",
              "      <td>0.000037</td>\n",
              "      <td>0.000074</td>\n",
              "    </tr>\n",
              "    <tr>\n",
              "      <th>1172</th>\n",
              "      <td>0.000704</td>\n",
              "      <td>0.000074</td>\n",
              "      <td>0.043742</td>\n",
              "      <td>0.000037</td>\n",
              "      <td>0.000111</td>\n",
              "      <td>0.000037</td>\n",
              "      <td>0.000111</td>\n",
              "      <td>0.000037</td>\n",
              "      <td>0.007445</td>\n",
              "      <td>0.000074</td>\n",
              "      <td>0.000000</td>\n",
              "      <td>0.002926</td>\n",
              "      <td>0.000111</td>\n",
              "      <td>0.000037</td>\n",
              "      <td>0.000074</td>\n",
              "      <td>0.000074</td>\n",
              "      <td>0.000074</td>\n",
              "      <td>0.054928</td>\n",
              "      <td>0.596392</td>\n",
              "      <td>0.000037</td>\n",
              "      <td>0.0</td>\n",
              "      <td>0.000000</td>\n",
              "      <td>0.000519</td>\n",
              "      <td>0.000111</td>\n",
              "      <td>0.000148</td>\n",
              "      <td>0.002963</td>\n",
              "      <td>0.000000</td>\n",
              "      <td>0.000037</td>\n",
              "      <td>0.000111</td>\n",
              "      <td>0.000111</td>\n",
              "      <td>0.000037</td>\n",
              "      <td>0.000000</td>\n",
              "      <td>0.000000</td>\n",
              "      <td>0.000000</td>\n",
              "    </tr>\n",
              "    <tr>\n",
              "      <th>1173</th>\n",
              "      <td>0.000704</td>\n",
              "      <td>0.000074</td>\n",
              "      <td>0.023890</td>\n",
              "      <td>0.000037</td>\n",
              "      <td>0.000333</td>\n",
              "      <td>0.000074</td>\n",
              "      <td>0.000037</td>\n",
              "      <td>0.000037</td>\n",
              "      <td>0.044187</td>\n",
              "      <td>0.000111</td>\n",
              "      <td>0.000037</td>\n",
              "      <td>0.002000</td>\n",
              "      <td>0.000111</td>\n",
              "      <td>0.000037</td>\n",
              "      <td>0.000222</td>\n",
              "      <td>0.000037</td>\n",
              "      <td>0.000074</td>\n",
              "      <td>0.094522</td>\n",
              "      <td>0.265639</td>\n",
              "      <td>0.000037</td>\n",
              "      <td>0.0</td>\n",
              "      <td>0.000000</td>\n",
              "      <td>0.000926</td>\n",
              "      <td>0.000148</td>\n",
              "      <td>0.000111</td>\n",
              "      <td>0.002963</td>\n",
              "      <td>0.000000</td>\n",
              "      <td>0.000037</td>\n",
              "      <td>0.000148</td>\n",
              "      <td>0.000111</td>\n",
              "      <td>0.000037</td>\n",
              "      <td>0.000037</td>\n",
              "      <td>0.000000</td>\n",
              "      <td>0.000000</td>\n",
              "    </tr>\n",
              "    <tr>\n",
              "      <th>1174</th>\n",
              "      <td>0.001148</td>\n",
              "      <td>0.000037</td>\n",
              "      <td>0.049150</td>\n",
              "      <td>0.000037</td>\n",
              "      <td>0.000111</td>\n",
              "      <td>0.000148</td>\n",
              "      <td>0.000111</td>\n",
              "      <td>0.000037</td>\n",
              "      <td>0.012482</td>\n",
              "      <td>0.000074</td>\n",
              "      <td>0.000037</td>\n",
              "      <td>0.002704</td>\n",
              "      <td>0.000111</td>\n",
              "      <td>0.000111</td>\n",
              "      <td>0.000185</td>\n",
              "      <td>0.000111</td>\n",
              "      <td>0.000000</td>\n",
              "      <td>0.506500</td>\n",
              "      <td>0.500870</td>\n",
              "      <td>0.000333</td>\n",
              "      <td>0.0</td>\n",
              "      <td>0.000000</td>\n",
              "      <td>0.000444</td>\n",
              "      <td>0.000111</td>\n",
              "      <td>0.000037</td>\n",
              "      <td>0.002963</td>\n",
              "      <td>0.000037</td>\n",
              "      <td>0.000333</td>\n",
              "      <td>0.000111</td>\n",
              "      <td>0.000111</td>\n",
              "      <td>0.000074</td>\n",
              "      <td>0.000074</td>\n",
              "      <td>0.000074</td>\n",
              "      <td>0.000074</td>\n",
              "    </tr>\n",
              "    <tr>\n",
              "      <th>1175</th>\n",
              "      <td>0.000852</td>\n",
              "      <td>0.000074</td>\n",
              "      <td>0.021149</td>\n",
              "      <td>0.000037</td>\n",
              "      <td>0.000444</td>\n",
              "      <td>0.000074</td>\n",
              "      <td>0.000148</td>\n",
              "      <td>0.000037</td>\n",
              "      <td>0.073410</td>\n",
              "      <td>0.000148</td>\n",
              "      <td>0.000037</td>\n",
              "      <td>0.002889</td>\n",
              "      <td>0.000111</td>\n",
              "      <td>0.000037</td>\n",
              "      <td>0.000074</td>\n",
              "      <td>0.000148</td>\n",
              "      <td>0.000074</td>\n",
              "      <td>0.098041</td>\n",
              "      <td>0.506389</td>\n",
              "      <td>0.000037</td>\n",
              "      <td>0.0</td>\n",
              "      <td>0.000000</td>\n",
              "      <td>0.000481</td>\n",
              "      <td>0.000111</td>\n",
              "      <td>0.000111</td>\n",
              "      <td>0.002963</td>\n",
              "      <td>0.000000</td>\n",
              "      <td>0.000185</td>\n",
              "      <td>0.000222</td>\n",
              "      <td>0.000148</td>\n",
              "      <td>0.000185</td>\n",
              "      <td>0.000074</td>\n",
              "      <td>0.000037</td>\n",
              "      <td>0.000148</td>\n",
              "    </tr>\n",
              "  </tbody>\n",
              "</table>\n",
              "<p>1176 rows × 34 columns</p>\n",
              "</div>\n",
              "      <button class=\"colab-df-convert\" onclick=\"convertToInteractive('df-67396001-9260-467d-b7ff-7f32059f3da3')\"\n",
              "              title=\"Convert this dataframe to an interactive table.\"\n",
              "              style=\"display:none;\">\n",
              "        \n",
              "  <svg xmlns=\"http://www.w3.org/2000/svg\" height=\"24px\"viewBox=\"0 0 24 24\"\n",
              "       width=\"24px\">\n",
              "    <path d=\"M0 0h24v24H0V0z\" fill=\"none\"/>\n",
              "    <path d=\"M18.56 5.44l.94 2.06.94-2.06 2.06-.94-2.06-.94-.94-2.06-.94 2.06-2.06.94zm-11 1L8.5 8.5l.94-2.06 2.06-.94-2.06-.94L8.5 2.5l-.94 2.06-2.06.94zm10 10l.94 2.06.94-2.06 2.06-.94-2.06-.94-.94-2.06-.94 2.06-2.06.94z\"/><path d=\"M17.41 7.96l-1.37-1.37c-.4-.4-.92-.59-1.43-.59-.52 0-1.04.2-1.43.59L10.3 9.45l-7.72 7.72c-.78.78-.78 2.05 0 2.83L4 21.41c.39.39.9.59 1.41.59.51 0 1.02-.2 1.41-.59l7.78-7.78 2.81-2.81c.8-.78.8-2.07 0-2.86zM5.41 20L4 18.59l7.72-7.72 1.47 1.35L5.41 20z\"/>\n",
              "  </svg>\n",
              "      </button>\n",
              "      \n",
              "  <style>\n",
              "    .colab-df-container {\n",
              "      display:flex;\n",
              "      flex-wrap:wrap;\n",
              "      gap: 12px;\n",
              "    }\n",
              "\n",
              "    .colab-df-convert {\n",
              "      background-color: #E8F0FE;\n",
              "      border: none;\n",
              "      border-radius: 50%;\n",
              "      cursor: pointer;\n",
              "      display: none;\n",
              "      fill: #1967D2;\n",
              "      height: 32px;\n",
              "      padding: 0 0 0 0;\n",
              "      width: 32px;\n",
              "    }\n",
              "\n",
              "    .colab-df-convert:hover {\n",
              "      background-color: #E2EBFA;\n",
              "      box-shadow: 0px 1px 2px rgba(60, 64, 67, 0.3), 0px 1px 3px 1px rgba(60, 64, 67, 0.15);\n",
              "      fill: #174EA6;\n",
              "    }\n",
              "\n",
              "    [theme=dark] .colab-df-convert {\n",
              "      background-color: #3B4455;\n",
              "      fill: #D2E3FC;\n",
              "    }\n",
              "\n",
              "    [theme=dark] .colab-df-convert:hover {\n",
              "      background-color: #434B5C;\n",
              "      box-shadow: 0px 1px 3px 1px rgba(0, 0, 0, 0.15);\n",
              "      filter: drop-shadow(0px 1px 2px rgba(0, 0, 0, 0.3));\n",
              "      fill: #FFFFFF;\n",
              "    }\n",
              "  </style>\n",
              "\n",
              "      <script>\n",
              "        const buttonEl =\n",
              "          document.querySelector('#df-67396001-9260-467d-b7ff-7f32059f3da3 button.colab-df-convert');\n",
              "        buttonEl.style.display =\n",
              "          google.colab.kernel.accessAllowed ? 'block' : 'none';\n",
              "\n",
              "        async function convertToInteractive(key) {\n",
              "          const element = document.querySelector('#df-67396001-9260-467d-b7ff-7f32059f3da3');\n",
              "          const dataTable =\n",
              "            await google.colab.kernel.invokeFunction('convertToInteractive',\n",
              "                                                     [key], {});\n",
              "          if (!dataTable) return;\n",
              "\n",
              "          const docLinkHtml = 'Like what you see? Visit the ' +\n",
              "            '<a target=\"_blank\" href=https://colab.research.google.com/notebooks/data_table.ipynb>data table notebook</a>'\n",
              "            + ' to learn more about interactive tables.';\n",
              "          element.innerHTML = '';\n",
              "          dataTable['output_type'] = 'display_data';\n",
              "          await google.colab.output.renderOutput(dataTable, element);\n",
              "          const docLink = document.createElement('div');\n",
              "          docLink.innerHTML = docLinkHtml;\n",
              "          element.appendChild(docLink);\n",
              "        }\n",
              "      </script>\n",
              "    </div>\n",
              "  </div>\n",
              "  "
            ],
            "text/plain": [
              "           Age  BusinessTravel  ...  YearsSinceLastPromotion  YearsWithCurrManager\n",
              "0     0.000926        0.000074  ...                 0.000037              0.000074\n",
              "1     0.001630        0.000074  ...                 0.000111              0.000222\n",
              "2     0.001000        0.000074  ...                 0.000259              0.000259\n",
              "3     0.001482        0.000037  ...                 0.000037              0.000444\n",
              "4     0.000889        0.000074  ...                 0.000037              0.000074\n",
              "...        ...             ...  ...                      ...                   ...\n",
              "1171  0.001259        0.000000  ...                 0.000037              0.000074\n",
              "1172  0.000704        0.000074  ...                 0.000000              0.000000\n",
              "1173  0.000704        0.000074  ...                 0.000000              0.000000\n",
              "1174  0.001148        0.000037  ...                 0.000074              0.000074\n",
              "1175  0.000852        0.000074  ...                 0.000037              0.000148\n",
              "\n",
              "[1176 rows x 34 columns]"
            ]
          },
          "metadata": {},
          "execution_count": 40
        }
      ],
      "source": [
        "column_maxes = X.max()\n",
        "X_max = column_maxes.max()\n",
        "column_mins = X.min()\n",
        "X_min = column_mins.min()\n",
        "normalized_X = (X - X_min) / (X_max - X_min)\n",
        "\n",
        "normalized_X"
      ],
      "id": "qaFXxQWIDEUV"
    },
    {
      "cell_type": "markdown",
      "metadata": {
        "id": "jtKvDsKnDEUV"
      },
      "source": [
        "##### This data normalization is just a demonstration of how data is normalised.\n",
        "##### Normalization doesn't have much impact on decision tree algorithms. Hence normalized data is not used in prediction models. "
      ],
      "id": "jtKvDsKnDEUV"
    },
    {
      "cell_type": "markdown",
      "metadata": {
        "id": "E9FLrH1mDEUV"
      },
      "source": [
        "## Data Scaling "
      ],
      "id": "E9FLrH1mDEUV"
    },
    {
      "cell_type": "code",
      "execution_count": 41,
      "metadata": {
        "id": "ikjRcKQRDEUV"
      },
      "outputs": [],
      "source": [
        "st_x= StandardScaler()    \n",
        "X = st_x.fit_transform(X)    "
      ],
      "id": "ikjRcKQRDEUV"
    },
    {
      "cell_type": "markdown",
      "metadata": {
        "id": "JinrN41tDEUW"
      },
      "source": [
        "# PHASE 2: ALGORTIHMS ON TRAINING DATA"
      ],
      "id": "JinrN41tDEUW"
    },
    {
      "cell_type": "markdown",
      "metadata": {
        "id": "ZnoPVYCnDEUW"
      },
      "source": [
        "# Train and Validation Division"
      ],
      "id": "ZnoPVYCnDEUW"
    },
    {
      "cell_type": "markdown",
      "metadata": {
        "id": "rg5PiU-rDEUW"
      },
      "source": [
        "#### test_size = 0.25 means entire dataset is divided into 2 sets - Train data = 75% and Test/Validation data = 25%"
      ],
      "id": "rg5PiU-rDEUW"
    },
    {
      "cell_type": "code",
      "execution_count": 42,
      "metadata": {
        "id": "MS1P7uutDEUW",
        "outputId": "e3124aea-ac19-4484-9bfc-f7223b072f49",
        "colab": {
          "base_uri": "https://localhost:8080/",
          "height": 182
        }
      },
      "outputs": [
        {
          "output_type": "error",
          "ename": "NameError",
          "evalue": "ignored",
          "traceback": [
            "\u001b[0;31m---------------------------------------------------------------------------\u001b[0m",
            "\u001b[0;31mNameError\u001b[0m                                 Traceback (most recent call last)",
            "\u001b[0;32m<ipython-input-42-b1c11fc2bb2b>\u001b[0m in \u001b[0;36m<module>\u001b[0;34m()\u001b[0m\n\u001b[1;32m      1\u001b[0m \u001b[0mX_train\u001b[0m\u001b[0;34m,\u001b[0m \u001b[0mX_val\u001b[0m\u001b[0;34m,\u001b[0m \u001b[0my_train\u001b[0m\u001b[0;34m,\u001b[0m \u001b[0my_test\u001b[0m \u001b[0;34m=\u001b[0m \u001b[0mtrain_test_split\u001b[0m\u001b[0;34m(\u001b[0m\u001b[0mX\u001b[0m\u001b[0;34m,\u001b[0m \u001b[0my\u001b[0m\u001b[0;34m,\u001b[0m \u001b[0mtest_size\u001b[0m \u001b[0;34m=\u001b[0m \u001b[0;36m0.25\u001b[0m\u001b[0;34m,\u001b[0m \u001b[0mrandom_state\u001b[0m \u001b[0;34m=\u001b[0m \u001b[0;36m1\u001b[0m\u001b[0;34m)\u001b[0m\u001b[0;34m\u001b[0m\u001b[0;34m\u001b[0m\u001b[0m\n\u001b[0;32m----> 2\u001b[0;31m \u001b[0mX_train\u001b[0m\u001b[0;34m.\u001b[0m\u001b[0mshape\u001b[0m\u001b[0;34m,\u001b[0m \u001b[0mX_test\u001b[0m\u001b[0;34m.\u001b[0m\u001b[0mshape\u001b[0m\u001b[0;34m\u001b[0m\u001b[0;34m\u001b[0m\u001b[0m\n\u001b[0m",
            "\u001b[0;31mNameError\u001b[0m: name 'X_test' is not defined"
          ]
        }
      ],
      "source": [
        "X_train, X_val, y_train, y_test = train_test_split(X, y, test_size = 0.25, random_state = 1)\n",
        "X_train.shape, X_test.shape"
      ],
      "id": "MS1P7uutDEUW"
    },
    {
      "cell_type": "markdown",
      "metadata": {
        "id": "JosQCOw7DEUW"
      },
      "source": [
        "# Different Algortihms "
      ],
      "id": "JosQCOw7DEUW"
    },
    {
      "cell_type": "markdown",
      "metadata": {
        "id": "VIw09yFuDEUW"
      },
      "source": [
        "### 1. Decision Tree Classifier"
      ],
      "id": "VIw09yFuDEUW"
    },
    {
      "cell_type": "code",
      "execution_count": null,
      "metadata": {
        "id": "B9ociy4XDEUW"
      },
      "outputs": [],
      "source": [
        "# Build and fit the model \n",
        "\n",
        "clf_gini = DecisionTreeClassifier(criterion='gini', random_state=0)\n",
        "clf_gini.fit(X_train, y_train)"
      ],
      "id": "B9ociy4XDEUW"
    },
    {
      "cell_type": "code",
      "execution_count": null,
      "metadata": {
        "id": "XqVsDQakDEUW"
      },
      "outputs": [],
      "source": [
        "# Predict \n",
        "\n",
        "y_pred_gini = clf_gini.predict(X_val)"
      ],
      "id": "XqVsDQakDEUW"
    },
    {
      "cell_type": "code",
      "execution_count": null,
      "metadata": {
        "id": "2bFgkYWFDEUX"
      },
      "outputs": [],
      "source": [
        "# Plot confusion matrix \n",
        "\n",
        "cm = confusion_matrix(y_test, y_pred_gini)\n",
        "plot_confusion_matrix(clf_gini, X_val, y_test)"
      ],
      "id": "2bFgkYWFDEUX"
    },
    {
      "cell_type": "code",
      "execution_count": null,
      "metadata": {
        "id": "fJ3A-s3YDEUX"
      },
      "outputs": [],
      "source": [
        "result = pd.crosstab(y_test, y_pred_gini, rownames=['Actual Result'], colnames=['Predicted Result'])\n",
        "print(\"Confusion Matrix:\\n\")\n",
        "print(result)\n",
        "result1 = classification_report(y_test, y_pred_gini)\n",
        "print(\"\\nClassification Report:\\n\",)\n",
        "print (result1)\n",
        "result2 = accuracy_score(y_test, y_pred_gini)\n",
        "print(\"Accuracy of the model:\",result2)"
      ],
      "id": "fJ3A-s3YDEUX"
    },
    {
      "cell_type": "code",
      "execution_count": null,
      "metadata": {
        "id": "25sb6R6xDEUX"
      },
      "outputs": [],
      "source": [
        "# Cross Validation using KFold\n",
        "\n",
        "scores = cross_validate(clf_gini, X_val, y_test,cv=KFold(n_splits=5))\n",
        "k=scores['test_score']\n",
        "print(\"K fold scores are:\", k)\n",
        "print(\"Average of k fold scores is:\", np.mean(k, axis = None))"
      ],
      "id": "25sb6R6xDEUX"
    },
    {
      "cell_type": "markdown",
      "metadata": {
        "id": "iq_UP6OcDEUX"
      },
      "source": [
        "## 2. Random Forest "
      ],
      "id": "iq_UP6OcDEUX"
    },
    {
      "cell_type": "markdown",
      "metadata": {
        "id": "0rUIDraEDEUX"
      },
      "source": [
        "### 2a. Random Forest with default Parameters "
      ],
      "id": "0rUIDraEDEUX"
    },
    {
      "cell_type": "code",
      "execution_count": 43,
      "metadata": {
        "id": "BCi6NCvDDEUX"
      },
      "outputs": [],
      "source": [
        "## Random Forest Trees with default parameters (i.e. 100 Decision Trees)\n",
        "\n",
        "rfc = RandomForestClassifier(random_state=0, class_weight='balanced')\n",
        "rfc.fit(X_train, y_train)\n",
        "y_pred = rfc.predict(X_val)"
      ],
      "id": "BCi6NCvDDEUX"
    },
    {
      "cell_type": "code",
      "execution_count": 44,
      "metadata": {
        "id": "mc8INniSDEUX",
        "outputId": "0a20fbcc-bc4f-46eb-c880-a0ce6f7721b8",
        "colab": {
          "base_uri": "https://localhost:8080/"
        }
      },
      "outputs": [
        {
          "output_type": "execute_result",
          "data": {
            "text/plain": [
              "<sklearn.metrics._plot.confusion_matrix.ConfusionMatrixDisplay at 0x7f047bf721d0>"
            ]
          },
          "metadata": {},
          "execution_count": 44
        }
      ],
      "source": [
        "cm = confusion_matrix(y_test, y_pred)\n",
        "plot_confusion_matrix(rfc, X_val, y_test)"
      ],
      "id": "mc8INniSDEUX"
    },
    {
      "cell_type": "code",
      "execution_count": 45,
      "metadata": {
        "scrolled": true,
        "id": "bIKshqRYDEUY",
        "outputId": "36da41ee-692a-4cfd-c705-ee3162a15de9",
        "colab": {
          "base_uri": "https://localhost:8080/"
        }
      },
      "outputs": [
        {
          "output_type": "stream",
          "name": "stdout",
          "text": [
            "Confusion Matrix:\n",
            "\n",
            "Predicted Result    0  1\n",
            "Actual Result           \n",
            "0                 250  0\n",
            "1                  38  6\n",
            "\n",
            "Classification Report:\n",
            "\n",
            "              precision    recall  f1-score   support\n",
            "\n",
            "           0       0.87      1.00      0.93       250\n",
            "           1       1.00      0.14      0.24        44\n",
            "\n",
            "    accuracy                           0.87       294\n",
            "   macro avg       0.93      0.57      0.58       294\n",
            "weighted avg       0.89      0.87      0.83       294\n",
            "\n",
            "Accuracy of the model: 0.8707482993197279\n"
          ]
        }
      ],
      "source": [
        "result = pd.crosstab(y_test, y_pred, rownames=['Actual Result'], colnames=['Predicted Result'])\n",
        "print(\"Confusion Matrix:\\n\")\n",
        "print(result)\n",
        "result1 = classification_report(y_test, y_pred)\n",
        "print(\"\\nClassification Report:\\n\",)\n",
        "print (result1)\n",
        "result2 = accuracy_score(y_test, y_pred)\n",
        "print(\"Accuracy of the model:\",result2)"
      ],
      "id": "bIKshqRYDEUY"
    },
    {
      "cell_type": "code",
      "execution_count": 46,
      "metadata": {
        "id": "J1iAb5O5DEUY",
        "outputId": "c9491fc8-c8d5-4847-ff95-5f59872e9ad1",
        "colab": {
          "base_uri": "https://localhost:8080/"
        }
      },
      "outputs": [
        {
          "output_type": "execute_result",
          "data": {
            "text/plain": [
              "0.8261973042004906"
            ]
          },
          "metadata": {},
          "execution_count": 46
        }
      ],
      "source": [
        "from sklearn.metrics import f1_score\n",
        "f1_score(y_test, y_pred, average='weighted')"
      ],
      "id": "J1iAb5O5DEUY"
    },
    {
      "cell_type": "code",
      "execution_count": 47,
      "metadata": {
        "id": "aJnPcO-RDEUY",
        "outputId": "5f301327-f155-4220-b2f9-18252f18950f",
        "colab": {
          "base_uri": "https://localhost:8080/"
        }
      },
      "outputs": [
        {
          "output_type": "stream",
          "name": "stdout",
          "text": [
            "K fold scores are: [0.88135593 0.81355932 0.84745763 0.84745763 0.87931034]\n",
            "Average of k fold scores is: 0.8538281706604325\n"
          ]
        }
      ],
      "source": [
        "# Cross Validation using KFold \n",
        "\n",
        "scores = cross_validate(rfc, X_val, y_test,cv=KFold(n_splits=5))\n",
        "k=scores['test_score']\n",
        "print(\"K fold scores are:\", k)\n",
        "print(\"Average of k fold scores is:\", np.mean(k, axis = None))"
      ],
      "id": "aJnPcO-RDEUY"
    },
    {
      "cell_type": "markdown",
      "metadata": {
        "id": "0oD8EbplDEUY"
      },
      "source": [
        "### 2b. Random Forest with Parameter Tuning"
      ],
      "id": "0oD8EbplDEUY"
    },
    {
      "cell_type": "markdown",
      "metadata": {
        "id": "B5hK4e-NDEUY"
      },
      "source": [
        "#### Grid Search Cross Validation to find best parameters "
      ],
      "id": "B5hK4e-NDEUY"
    },
    {
      "cell_type": "code",
      "execution_count": null,
      "metadata": {
        "id": "QzzhH7LsDEUY"
      },
      "outputs": [],
      "source": [
        "## Might take a while\n",
        "\n",
        "start = timeit.default_timer()\n",
        "\n",
        "rfc_best = RandomForestClassifier()\n",
        "parameters = {\n",
        "    \"n_estimators\":[250, 500],\n",
        "    \"max_depth\":[8, 16, None],\n",
        "    \"max_features\": ['auto']\n",
        "    }\n",
        "\n",
        "from sklearn.model_selection import GridSearchCV\n",
        "cv = GridSearchCV(rfc_best,parameters,cv=5, scoring='f1')      # scoring = 'roc_auc', scoring = 'accuracy'\n",
        "cv.fit(X_train,y_train.values.ravel())\n",
        "\n",
        "def display(results):\n",
        "    print(f'Best parameters are: {results.best_params_}')\n",
        "    print(\"\\n\")\n",
        "    mean_score = results.cv_results_['mean_test_score']\n",
        "    std_score = results.cv_results_['std_test_score']\n",
        "    params = results.cv_results_['params']\n",
        "    for mean,std,params in zip(mean_score,std_score,params):\n",
        "        print(f'{round(mean,3)} + or -{round(std,3)} for the {params}')\n",
        "\n",
        "stop = timeit.default_timer()\n",
        "\n",
        "print('Time taken to perform Gridsearch: ', stop - start)        \n",
        "\n",
        "display(cv)"
      ],
      "id": "QzzhH7LsDEUY"
    },
    {
      "cell_type": "markdown",
      "metadata": {
        "id": "Uoc3wrEtDEUZ"
      },
      "source": [
        "##### GridSearch Algorithm gives best parameters using the combinations of the given set of parameters. It also cross validates the accuracy and avarage accuracy for each combination is dispalyed. "
      ],
      "id": "Uoc3wrEtDEUZ"
    },
    {
      "cell_type": "markdown",
      "metadata": {
        "id": "LEwrMoAcDEUZ"
      },
      "source": [
        "##### In this case best parameters are: \n",
        "##### n_estimators = ___\n",
        "##### max_depth = ____\n",
        "##### max_features = _____"
      ],
      "id": "LEwrMoAcDEUZ"
    },
    {
      "cell_type": "code",
      "execution_count": null,
      "metadata": {
        "id": "DPhd2NrYDEUZ"
      },
      "outputs": [],
      "source": [
        "## Random Forest Trees with Best Parameters\n",
        "\n",
        "rfc_best = RandomForestClassifier(n_estimators = 250, max_depth = 8, max_features = 'auto', random_state=0)\n",
        "\n",
        "start = timeit.default_timer()\n",
        "\n",
        "rfc_best.fit(X_train, y_train)\n",
        "\n",
        "stop = timeit.default_timer()\n",
        "\n",
        "print('Time taken to perform Random Forest Classifier: ', stop - start) \n",
        "\n",
        "y_pred_best = rfc_best.predict(X_val)"
      ],
      "id": "DPhd2NrYDEUZ"
    },
    {
      "cell_type": "code",
      "execution_count": null,
      "metadata": {
        "id": "zbgii0_aDEUZ"
      },
      "outputs": [],
      "source": [
        "## Confusion Matrix \n",
        "\n",
        "cm = confusion_matrix(y_test, y_pred_best)\n",
        "plot_confusion_matrix(rfc_best, X_test, y_test)"
      ],
      "id": "zbgii0_aDEUZ"
    },
    {
      "cell_type": "code",
      "execution_count": null,
      "metadata": {
        "id": "rZ52x5y7DEUZ"
      },
      "outputs": [],
      "source": [
        "result = pd.crosstab(y_test, y_pred_best, rownames=['Actual Result'], colnames=['Predicted Result'])\n",
        "print(\"Confusion Matrix:\\n\")\n",
        "print(result)\n",
        "result1 = classification_report(y_test, y_pred_best)\n",
        "print(\"\\nClassification Report:\\n\",)\n",
        "print (result1)\n",
        "result2 = accuracy_score(y_test, y_pred_best)\n",
        "print(\"Accuracy of the model:\",result2)"
      ],
      "id": "rZ52x5y7DEUZ"
    },
    {
      "cell_type": "code",
      "execution_count": null,
      "metadata": {
        "id": "zHWDD5CYDEUa"
      },
      "outputs": [],
      "source": [
        "from sklearn.metrics import f1_score\n",
        "f1_score(y_test, y_pred_best, average='weighted')"
      ],
      "id": "zHWDD5CYDEUa"
    },
    {
      "cell_type": "code",
      "execution_count": null,
      "metadata": {
        "id": "xWsUUPLADEUa"
      },
      "outputs": [],
      "source": [
        "# Cross Validation using KFold \n",
        "\n",
        "scores = cross_validate(rfc_best, X_val, y_test,cv=KFold(n_splits=5))\n",
        "k=scores['test_score']\n",
        "print(\"K fold scores are:\", k)\n",
        "print(\"Average of k fold scores is:\", np.mean(k, axis = None))"
      ],
      "id": "xWsUUPLADEUa"
    },
    {
      "cell_type": "markdown",
      "metadata": {
        "id": "VyfEiENSDEUa"
      },
      "source": [
        "## Method 2 of Feature Selection -  Feature Scores\n",
        "\n"
      ],
      "id": "VyfEiENSDEUa"
    },
    {
      "cell_type": "code",
      "execution_count": null,
      "metadata": {
        "id": "he4ctDbEDEUa"
      },
      "outputs": [],
      "source": [
        "feature_scores = pd.Series(rfc_best.feature_importances_, index=X_train.columns).sort_values(ascending=False)\n",
        "feature_scores"
      ],
      "id": "he4ctDbEDEUa"
    },
    {
      "cell_type": "code",
      "execution_count": null,
      "metadata": {
        "scrolled": true,
        "id": "WNCUjeA6DEUa"
      },
      "outputs": [],
      "source": [
        "## Plot Important Features \n",
        "\n",
        "feature_imp = pd.DataFrame(sorted(zip(rfc_best.feature_importances_,X.columns)), columns=['Value','Feature'])\n",
        "\n",
        "plt.figure(figsize=(20, 10))\n",
        "sns.barplot(x=\"Value\", y=\"Feature\", data = feature_imp.sort_values(by=\"Value\", ascending=False)[:25], color = 'blue');"
      ],
      "id": "WNCUjeA6DEUa"
    },
    {
      "cell_type": "markdown",
      "metadata": {
        "id": "sR1iYaXbDEUa"
      },
      "source": [
        "### 2c. Random Forest using SMOTE (For Imbalanced target variables) (Optional)"
      ],
      "id": "sR1iYaXbDEUa"
    },
    {
      "cell_type": "markdown",
      "metadata": {
        "id": "jyphx6fVDEUa"
      },
      "source": [
        "#### Sample code for SMOTE demonstration"
      ],
      "id": "jyphx6fVDEUa"
    },
    {
      "cell_type": "code",
      "execution_count": null,
      "metadata": {
        "id": "PB0mmSjMDEUb"
      },
      "outputs": [],
      "source": [
        "from imblearn.over_sampling import SMOTE\n",
        "from imblearn.pipeline import Pipeline\n",
        "\n",
        "smote = SMOTE(sampling_strategy='not majority')"
      ],
      "id": "PB0mmSjMDEUb"
    },
    {
      "cell_type": "code",
      "execution_count": null,
      "metadata": {
        "id": "4Fu6iEwgDEUb"
      },
      "outputs": [],
      "source": [
        "rfc_smote = RandomForestClassifier(random_state=0, max_depth = 16, n_estimators = 500)"
      ],
      "id": "4Fu6iEwgDEUb"
    },
    {
      "cell_type": "code",
      "execution_count": null,
      "metadata": {
        "id": "F0QgqHQLDEUb"
      },
      "outputs": [],
      "source": [
        "clf_smote = Pipeline(steps = [('sampling', smote),('classifier',rfc_smote)])"
      ],
      "id": "F0QgqHQLDEUb"
    },
    {
      "cell_type": "code",
      "execution_count": null,
      "metadata": {
        "id": "6xDJQs8zDEUb"
      },
      "outputs": [],
      "source": [
        "clf_smote.fit(X_train, y_train)"
      ],
      "id": "6xDJQs8zDEUb"
    },
    {
      "cell_type": "code",
      "execution_count": null,
      "metadata": {
        "id": "FMGYKr5cDEUb"
      },
      "outputs": [],
      "source": [
        "y_pred_smote = clf_smote.predict(X_val)"
      ],
      "id": "FMGYKr5cDEUb"
    },
    {
      "cell_type": "code",
      "execution_count": null,
      "metadata": {
        "id": "BPA8KR8KDEUb"
      },
      "outputs": [],
      "source": [
        "cm = confusion_matrix(y_test, y_pred_smote)\n",
        "plot_confusion_matrix(clf_smote, X_val, y_test)"
      ],
      "id": "BPA8KR8KDEUb"
    },
    {
      "cell_type": "code",
      "execution_count": null,
      "metadata": {
        "id": "eVA_XHwwDEUc"
      },
      "outputs": [],
      "source": [
        "result = pd.crosstab(y_test, y_pred_smote, rownames=['Actual Result'], colnames=['Predicted Result'])\n",
        "print(\"Confusion Matrix:\\n\")\n",
        "print(result)\n",
        "result1 = classification_report(y_test, y_pred_smote)\n",
        "print(\"\\nClassification Report:\\n\",)\n",
        "print (result1)\n",
        "result2 = accuracy_score(y_test, y_pred_smote)\n",
        "print(\"Accuracy of the model:\",result2)"
      ],
      "id": "eVA_XHwwDEUc"
    },
    {
      "cell_type": "code",
      "execution_count": null,
      "metadata": {
        "id": "ksovn8uVDEUc"
      },
      "outputs": [],
      "source": [
        "# Cross Validation using KFold \n",
        "\n",
        "scores = cross_validate(clf_smote, X_val, y_test,cv=KFold(n_splits=5))\n",
        "k=scores['test_score']\n",
        "print(\"K fold scores are:\", k)\n",
        "print(\"Average of k fold scores is:\", np.mean(k, axis = None))"
      ],
      "id": "ksovn8uVDEUc"
    },
    {
      "cell_type": "markdown",
      "metadata": {
        "id": "gdnytjlnDEUc"
      },
      "source": [
        "## Boosting Algorithms "
      ],
      "id": "gdnytjlnDEUc"
    },
    {
      "cell_type": "markdown",
      "metadata": {
        "id": "4GEE-wInDEUc"
      },
      "source": [
        "## 3. AdaBoostClassifier"
      ],
      "id": "4GEE-wInDEUc"
    },
    {
      "cell_type": "code",
      "execution_count": null,
      "metadata": {
        "id": "6cvxOB_eDEUc"
      },
      "outputs": [],
      "source": [
        "clf_adaboost = AdaBoostClassifier(random_state=0)\n",
        "clf_adaboost.fit(X_train, y_train)"
      ],
      "id": "6cvxOB_eDEUc"
    },
    {
      "cell_type": "code",
      "execution_count": null,
      "metadata": {
        "id": "rALmRmVdDEUc"
      },
      "outputs": [],
      "source": [
        "y_pred_adaboost = clf_adaboost.predict(X_val)"
      ],
      "id": "rALmRmVdDEUc"
    },
    {
      "cell_type": "code",
      "execution_count": null,
      "metadata": {
        "id": "Aa44yQFsDEUd"
      },
      "outputs": [],
      "source": [
        "cm = confusion_matrix(y_test, y_pred_adaboost)\n",
        "plot_confusion_matrix(clf_adaboost, X_val, y_test)"
      ],
      "id": "Aa44yQFsDEUd"
    },
    {
      "cell_type": "code",
      "execution_count": null,
      "metadata": {
        "id": "iupW-FvEDEUd"
      },
      "outputs": [],
      "source": [
        "result = pd.crosstab(y_test, y_pred_adaboost, rownames=['Actual Result'], colnames=['Predicted Result'])\n",
        "print(\"Confusion Matrix:\\n\")\n",
        "print(result)\n",
        "result1 = classification_report(y_test, y_pred_adaboost)\n",
        "print(\"\\nClassification Report:\\n\",)\n",
        "print (result1)\n",
        "result2 = accuracy_score(y_test, y_pred_adaboost)\n",
        "print(\"Accuracy of the model:\",result2)"
      ],
      "id": "iupW-FvEDEUd"
    },
    {
      "cell_type": "code",
      "execution_count": null,
      "metadata": {
        "id": "6GcIo-4EDEUd"
      },
      "outputs": [],
      "source": [
        "# Cross Validation using KFold \n",
        "\n",
        "scores = cross_validate(clf_adaboost, X_val, y_test,cv=KFold(n_splits=5))\n",
        "k=scores['test_score']\n",
        "print(\"K fold scores are:\", k)\n",
        "print(\"Average of k fold scores is:\", np.mean(k, axis = None))"
      ],
      "id": "6GcIo-4EDEUd"
    },
    {
      "cell_type": "markdown",
      "metadata": {
        "id": "N57RZNsIDEUd"
      },
      "source": [
        "## 4. Gradient Boosting "
      ],
      "id": "N57RZNsIDEUd"
    },
    {
      "cell_type": "code",
      "execution_count": null,
      "metadata": {
        "id": "YNq5qan3DEUe"
      },
      "outputs": [],
      "source": [
        "clf_grboost = GradientBoostingClassifier(random_state=0)\n",
        "clf_grboost.fit(X_train, y_train)"
      ],
      "id": "YNq5qan3DEUe"
    },
    {
      "cell_type": "code",
      "execution_count": null,
      "metadata": {
        "id": "2O5m-6u3DEUe"
      },
      "outputs": [],
      "source": [
        "y_pred_grboost = clf_grboost.predict(X_val)"
      ],
      "id": "2O5m-6u3DEUe"
    },
    {
      "cell_type": "code",
      "execution_count": null,
      "metadata": {
        "id": "bX2mGzIBDEUe"
      },
      "outputs": [],
      "source": [
        "cm = confusion_matrix(y_test, y_pred_grboost)\n",
        "plot_confusion_matrix(clf_grboost, X_val, y_test)\n",
        "print('Confusion matrix\\n\\n', cm)"
      ],
      "id": "bX2mGzIBDEUe"
    },
    {
      "cell_type": "code",
      "execution_count": null,
      "metadata": {
        "id": "SasFjGfZDEUe"
      },
      "outputs": [],
      "source": [
        "result = pd.crosstab(y_test, y_pred_grboost, rownames=['Actual Result'], colnames=['Predicted Result'])\n",
        "print(\"Confusion Matrix:\\n\")\n",
        "print(result)\n",
        "result1 = classification_report(y_test, y_pred_grboost)\n",
        "print(\"\\nClassification Report:\\n\",)\n",
        "print (result1)\n",
        "result2 = accuracy_score(y_test, y_pred_grboost)\n",
        "print(\"Accuracy of the model:\",result2)"
      ],
      "id": "SasFjGfZDEUe"
    },
    {
      "cell_type": "code",
      "execution_count": null,
      "metadata": {
        "id": "b3q0cNNTDEUe"
      },
      "outputs": [],
      "source": [
        "# Cross Validation using KFold \n",
        "\n",
        "scores = cross_validate(clf_grboost, X_val, y_test,cv=KFold(n_splits=5))\n",
        "k=scores['test_score']\n",
        "print(\"K fold scores are:\", k)\n",
        "print(\"Average of k fold scores is:\", np.mean(k, axis = None))"
      ],
      "id": "b3q0cNNTDEUe"
    },
    {
      "cell_type": "markdown",
      "metadata": {
        "id": "_7auPGSFDEUe"
      },
      "source": [
        "### Gradient Boosting with Parameter Tuning"
      ],
      "id": "_7auPGSFDEUe"
    },
    {
      "cell_type": "code",
      "execution_count": null,
      "metadata": {
        "id": "sIdSAD97DEUe"
      },
      "outputs": [],
      "source": [
        "clf_grboost_best = GradientBoostingClassifier(random_state=0)\n",
        "parameters = {\n",
        "    \"n_estimators\":[100, 250, 500],\n",
        "    \"max_depth\":[8, 16, None],\n",
        "    \"max_features\": [0.1, 0.25, 0.5, 1.0]\n",
        "      }\n",
        "\n",
        "from sklearn.model_selection import GridSearchCV\n",
        "cv = GridSearchCV(clf_grboost_best, parameters,cv=5)\n",
        "cv.fit(X_train,y_train.values.ravel())\n",
        "\n",
        "def display(results):\n",
        "    print(f'Best parameters are: {results.best_params_}')\n",
        "    print(\"\\n\")\n",
        "    mean_score = results.cv_results_['mean_test_score']\n",
        "    std_score = results.cv_results_['std_test_score']\n",
        "    params = results.cv_results_['params']\n",
        "    for mean,std,params in zip(mean_score,std_score,params):\n",
        "        print(f'{round(mean,3)} + or -{round(std,3)} for the {params}')\n",
        "        \n",
        "display(cv)"
      ],
      "id": "sIdSAD97DEUe"
    },
    {
      "cell_type": "markdown",
      "metadata": {
        "id": "uy1CDEHaDEUf"
      },
      "source": [
        "#### Gradient Boosting with best parameters "
      ],
      "id": "uy1CDEHaDEUf"
    },
    {
      "cell_type": "code",
      "execution_count": null,
      "metadata": {
        "id": "iZuJLfIlDEUf"
      },
      "outputs": [],
      "source": [
        "clf_grboost_best = GradientBoostingClassifier(random_state=0)\n",
        "clf_grboost_best.fit(X_train, y_train)"
      ],
      "id": "iZuJLfIlDEUf"
    },
    {
      "cell_type": "code",
      "execution_count": null,
      "metadata": {
        "id": "IMsabjLUDEUf"
      },
      "outputs": [],
      "source": [
        "y_pred_grboost_best = clf_grboost_best.predict(X_val)"
      ],
      "id": "IMsabjLUDEUf"
    },
    {
      "cell_type": "code",
      "execution_count": null,
      "metadata": {
        "id": "-rlmAivcDEUf"
      },
      "outputs": [],
      "source": [
        "cm = confusion_matrix(y_test, y_pred_grboost_best)\n",
        "plot_confusion_matrix(clf_grboost_best, X_val, y_test)"
      ],
      "id": "-rlmAivcDEUf"
    },
    {
      "cell_type": "code",
      "execution_count": null,
      "metadata": {
        "id": "lF4h2YrIDEUf"
      },
      "outputs": [],
      "source": [
        "result = pd.crosstab(y_test, y_pred_grboost_best, rownames=['Actual Result'], colnames=['Predicted Result'])\n",
        "print(\"Confusion Matrix:\\n\")\n",
        "print(result)\n",
        "result1 = classification_report(y_test, y_pred_grboost_best)\n",
        "print(\"\\nClassification Report:\\n\",)\n",
        "print (result1)\n",
        "result2 = accuracy_score(y_test, y_pred_grboost_best)\n",
        "print(\"Accuracy of the model:\",result2)"
      ],
      "id": "lF4h2YrIDEUf"
    },
    {
      "cell_type": "code",
      "execution_count": null,
      "metadata": {
        "id": "cgMJFgS4DEUf"
      },
      "outputs": [],
      "source": [
        "# Cross Validation using KFold \n",
        "\n",
        "scores = cross_validate(clf_grboost_best, X_val, y_test,cv=KFold(n_splits=5))\n",
        "k=scores['test_score']\n",
        "print(\"K fold scores are:\", k)\n",
        "print(\"Average of k fold scores is:\", np.mean(k, axis = None))"
      ],
      "id": "cgMJFgS4DEUf"
    },
    {
      "cell_type": "markdown",
      "metadata": {
        "id": "ocHW4Us5DEUf"
      },
      "source": [
        "## 5. XGBoost "
      ],
      "id": "ocHW4Us5DEUf"
    },
    {
      "cell_type": "code",
      "execution_count": null,
      "metadata": {
        "id": "a04JDr_-DEUf"
      },
      "outputs": [],
      "source": [
        "clf_xgb = XGBClassifier()\n",
        "clf_xgb.fit(X_train, y_train)"
      ],
      "id": "a04JDr_-DEUf"
    },
    {
      "cell_type": "code",
      "execution_count": null,
      "metadata": {
        "id": "oxshZQ8yDEUg"
      },
      "outputs": [],
      "source": [
        "y_pred_xgb = clf_xgb.predict(X_val)"
      ],
      "id": "oxshZQ8yDEUg"
    },
    {
      "cell_type": "code",
      "execution_count": null,
      "metadata": {
        "id": "yP0XUgQ6DEUg"
      },
      "outputs": [],
      "source": [
        "cm = confusion_matrix(y_test, y_pred_xgb)\n",
        "plot_confusion_matrix(clf_xgb,X_val,y_test)\n",
        "print('Confusion matrix\\n\\n', cm)"
      ],
      "id": "yP0XUgQ6DEUg"
    },
    {
      "cell_type": "code",
      "execution_count": null,
      "metadata": {
        "id": "Qp7d2so0DEUg"
      },
      "outputs": [],
      "source": [
        "result = pd.crosstab(y_test, y_pred_xgb, rownames=['Actual Result'], colnames=['Predicted Result'])\n",
        "print(\"Confusion Matrix:\\n\")\n",
        "print(result)\n",
        "result1 = classification_report(y_test, y_pred_xgb)\n",
        "print(\"\\nClassification Report:\\n\",)\n",
        "print (result1)\n",
        "result2 = accuracy_score(y_test, y_pred_xgb)\n",
        "print(\"Accuracy of the model:\",result2)"
      ],
      "id": "Qp7d2so0DEUg"
    },
    {
      "cell_type": "code",
      "execution_count": null,
      "metadata": {
        "id": "lM_eNgfLDEUg"
      },
      "outputs": [],
      "source": [
        "scores = cross_validate(clf_xgb, X_val, y_test,cv=KFold(n_splits=5))\n",
        "k=scores['test_score']\n",
        "print(\"K fold scores are:\", k)\n",
        "print(\"Average of k fold scores is:\", np.mean(k, axis = None))"
      ],
      "id": "lM_eNgfLDEUg"
    },
    {
      "cell_type": "markdown",
      "metadata": {
        "id": "HIq21cpgDEUh"
      },
      "source": [
        "### XGBoost with parameter tuning "
      ],
      "id": "HIq21cpgDEUh"
    },
    {
      "cell_type": "code",
      "execution_count": null,
      "metadata": {
        "id": "Dp336b3pDEUh"
      },
      "outputs": [],
      "source": [
        "clf_xgboost_best = XGBClassifier(random_state=0)\n",
        "parameters = {\n",
        "    \"n_estimators\":[100, 250, 500],\n",
        "    \"max_depth\":[4, 5, 6],\n",
        "    \"max_features\": [0.1, 0.25, 0.5, 1.0],\n",
        "    \"learning_rate\": [0.1, 0.3, 0.5],\n",
        "    \"gamma\": [0, 0.5, 1, 5]\n",
        "      }\n",
        "\n",
        "from sklearn.model_selection import GridSearchCV\n",
        "cv = GridSearchCV(clf_xgboost_best, parameters,cv=5, scoring='f1')\n",
        "cv.fit(X_train,y_train.values.ravel())\n",
        "\n",
        "\n",
        "def display(results):\n",
        "    print(f'Best parameters are: {results.best_params_}')\n",
        "    print(\"\\n\")\n",
        "    mean_score = results.cv_results_['mean_test_score']\n",
        "    std_score = results.cv_results_['std_test_score']\n",
        "    params = results.cv_results_['params']\n",
        "    for mean,std,params in zip(mean_score,std_score,params):\n",
        "        print(f'{round(mean,3)} + or -{round(std,3)} for the {params}')\n",
        "        \n",
        "display(cv)"
      ],
      "id": "Dp336b3pDEUh"
    },
    {
      "cell_type": "code",
      "execution_count": null,
      "metadata": {
        "id": "QrHikkFuDEUh"
      },
      "outputs": [],
      "source": [
        "clf_xgboost_best = XGBClassifier(random_state=0,\n",
        "                                learning_rate = 0.3,\n",
        "                                max_depth = 4,\n",
        "                                max_features = 0.1,\n",
        "                                n_estimators = 500)\n",
        "clf_xgboost_best.fit(X_train, y_train)"
      ],
      "id": "QrHikkFuDEUh"
    },
    {
      "cell_type": "code",
      "execution_count": null,
      "metadata": {
        "id": "tGFWzC93DEUh"
      },
      "outputs": [],
      "source": [
        "y_pred_xgboost_best = clf_xgboost_best.predict(X_val)"
      ],
      "id": "tGFWzC93DEUh"
    },
    {
      "cell_type": "code",
      "execution_count": null,
      "metadata": {
        "id": "8pxs9UxgDEUi"
      },
      "outputs": [],
      "source": [
        "cm = confusion_matrix(y_test, y_pred_xgboost_best)\n",
        "plot_confusion_matrix(clf_xgboost_best, X_val, y_test)"
      ],
      "id": "8pxs9UxgDEUi"
    },
    {
      "cell_type": "code",
      "execution_count": null,
      "metadata": {
        "id": "nmE5ds0lDEUi"
      },
      "outputs": [],
      "source": [
        "result = pd.crosstab(y_test, y_pred_xgboost_best, rownames=['Actual Result'], colnames=['Predicted Result'])\n",
        "print(\"Confusion Matrix:\\n\")\n",
        "print(result)\n",
        "result1 = classification_report(y_test, y_pred_xgboost_best)\n",
        "print(\"\\nClassification Report:\\n\",)\n",
        "print (result1)\n",
        "result2 = accuracy_score(y_test, y_pred_xgboost_best)\n",
        "print(\"Accuracy of the model:\",result2)"
      ],
      "id": "nmE5ds0lDEUi"
    },
    {
      "cell_type": "code",
      "execution_count": null,
      "metadata": {
        "id": "QWCjPqoQDEUi"
      },
      "outputs": [],
      "source": [
        "# Cross Validation using KFold \n",
        "\n",
        "scores = cross_validate(clf_xgboost_best, X_val, y_test,cv=KFold(n_splits=5))\n",
        "k=scores['test_score']\n",
        "print(\"K fold scores are:\", k)\n",
        "print(\"Average of k fold scores is:\", np.mean(k, axis = None))"
      ],
      "id": "QWCjPqoQDEUi"
    },
    {
      "cell_type": "markdown",
      "metadata": {
        "id": "lKXDbXN9DEUi"
      },
      "source": [
        "## 6. LightGBM "
      ],
      "id": "lKXDbXN9DEUi"
    },
    {
      "cell_type": "code",
      "execution_count": null,
      "metadata": {
        "id": "ii0Q-eetDEUi"
      },
      "outputs": [],
      "source": [
        "clf_lgbm = LGBMClassifier()\n",
        "clf_lgbm.fit(X_train, y_train)"
      ],
      "id": "ii0Q-eetDEUi"
    },
    {
      "cell_type": "code",
      "execution_count": null,
      "metadata": {
        "id": "zgCHLF5UDEUi"
      },
      "outputs": [],
      "source": [
        "y_pred_lgbm= clf_lgbm.predict(X_val)"
      ],
      "id": "zgCHLF5UDEUi"
    },
    {
      "cell_type": "code",
      "execution_count": null,
      "metadata": {
        "id": "MMy2oD-GDEUi"
      },
      "outputs": [],
      "source": [
        "cm = confusion_matrix(y_test, y_pred_lgbm)\n",
        "plot_confusion_matrix(clf_lgbm,X_val,y_test)\n",
        "print('Confusion matrix\\n\\n', cm)"
      ],
      "id": "MMy2oD-GDEUi"
    },
    {
      "cell_type": "code",
      "execution_count": null,
      "metadata": {
        "id": "ct_sRborDEUj"
      },
      "outputs": [],
      "source": [
        "result = pd.crosstab(y_test, y_pred_lgbm, rownames=['Actual Result'], colnames=['Predicted Result'])\n",
        "print(\"Confusion Matrix:\\n\")\n",
        "print(result)\n",
        "result1 = classification_report(y_test, y_pred_lgbm)\n",
        "print(\"\\nClassification Report:\\n\",)\n",
        "print (result1)\n",
        "result2 = accuracy_score(y_test, y_pred_lgbm)\n",
        "print(\"Accuracy of the model:\",result2)"
      ],
      "id": "ct_sRborDEUj"
    },
    {
      "cell_type": "code",
      "execution_count": null,
      "metadata": {
        "id": "6eHjf-qfDEUj"
      },
      "outputs": [],
      "source": [
        "scores = cross_validate(clf_lgbm, X_val, y_test,cv=KFold(n_splits=5))\n",
        "k=scores['test_score']\n",
        "print(\"K fold scores are:\", k)\n",
        "print(\"Average of k fold scores is:\", np.mean(k, axis = None))"
      ],
      "id": "6eHjf-qfDEUj"
    },
    {
      "cell_type": "markdown",
      "metadata": {
        "id": "PpIwCwZ8DEUj"
      },
      "source": [
        "## 7. Catboost"
      ],
      "id": "PpIwCwZ8DEUj"
    },
    {
      "cell_type": "code",
      "execution_count": null,
      "metadata": {
        "id": "AwxhoP6BDEUj"
      },
      "outputs": [],
      "source": [
        "clf_catboost = CatBoostClassifier(random_state=0, class_weights = [0.15 , 0.85])      \n",
        "clf_catboost.fit(X_train, y_train)\n",
        "\n",
        "\n",
        "\n",
        "## For imbalanced data use class_weights = [ a , b ] where a aand b are class_weights - genereally between 0 to 1. \n",
        "                                                     # Give more weight to the class with fewer rows "
      ],
      "id": "AwxhoP6BDEUj"
    },
    {
      "cell_type": "code",
      "execution_count": null,
      "metadata": {
        "id": "X6W3TAsSDEUj"
      },
      "outputs": [],
      "source": [
        "y_pred_catboost = clf_catboost.predict(X_val)"
      ],
      "id": "X6W3TAsSDEUj"
    },
    {
      "cell_type": "code",
      "execution_count": null,
      "metadata": {
        "id": "dB7xIjJnDEUj"
      },
      "outputs": [],
      "source": [
        "cm = confusion_matrix(y_test, y_pred_catboost)\n",
        "plot_confusion_matrix(clf_catboost,X_val,y_test)\n",
        "print('Confusion matrix\\n\\n', cm)"
      ],
      "id": "dB7xIjJnDEUj"
    },
    {
      "cell_type": "code",
      "execution_count": null,
      "metadata": {
        "id": "MJwdYUsHDEUj"
      },
      "outputs": [],
      "source": [
        "result1 = classification_report(y_test, y_pred_catboost)\n",
        "print(\"\\nClassification Report:\\n\",)\n",
        "print (result1)\n",
        "result2 = accuracy_score(y_test, y_pred_catboost)\n",
        "print(\"Accuracy of the model:\",result2)"
      ],
      "id": "MJwdYUsHDEUj"
    },
    {
      "cell_type": "code",
      "execution_count": null,
      "metadata": {
        "id": "myr-JW-SDEUk"
      },
      "outputs": [],
      "source": [
        "scores = cross_validate(clf_catboost, X_val, y_test,cv=KFold(n_splits=5))\n",
        "k=scores['test_score']\n",
        "print(\"K fold scores are:\", k)\n",
        "print(\"Average of k fold scores is:\", np.mean(k, axis = None))"
      ],
      "id": "myr-JW-SDEUk"
    },
    {
      "cell_type": "markdown",
      "metadata": {
        "id": "-n8bTy98DEUk"
      },
      "source": [
        "## 8. Bagging"
      ],
      "id": "-n8bTy98DEUk"
    },
    {
      "cell_type": "code",
      "execution_count": null,
      "metadata": {
        "id": "TlRfzaRxDEUk"
      },
      "outputs": [],
      "source": [
        "clf_bagging = BaggingClassifier(random_state=0)\n",
        "clf_bagging.fit(X_train, y_train)"
      ],
      "id": "TlRfzaRxDEUk"
    },
    {
      "cell_type": "code",
      "execution_count": null,
      "metadata": {
        "id": "SHhNCz0oDEUk"
      },
      "outputs": [],
      "source": [
        "y_pred_bagging = clf_bagging.predict(X_val)"
      ],
      "id": "SHhNCz0oDEUk"
    },
    {
      "cell_type": "code",
      "execution_count": null,
      "metadata": {
        "id": "7puSU4Y0DEUk"
      },
      "outputs": [],
      "source": [
        "cm = confusion_matrix(y_test, y_pred_bagging)\n",
        "plot_confusion_matrix(clf_bagging,X_val,y_test)\n",
        "print('Confusion matrix\\n\\n', cm)"
      ],
      "id": "7puSU4Y0DEUk"
    },
    {
      "cell_type": "code",
      "execution_count": null,
      "metadata": {
        "id": "C_l9ooe8DEUk"
      },
      "outputs": [],
      "source": [
        "result = pd.crosstab(y_test, y_pred_bagging, rownames=['Actual Result'], colnames=['Predicted Result'])\n",
        "print(\"Confusion Matrix:\\n\")\n",
        "print(result)\n",
        "result1 = classification_report(y_test, y_pred_bagging)\n",
        "print(\"\\nClassification Report:\\n\",)\n",
        "print (result1)\n",
        "result2 = accuracy_score(y_test, y_pred_bagging)\n",
        "print(\"Accuracy of the model:\",result2)"
      ],
      "id": "C_l9ooe8DEUk"
    },
    {
      "cell_type": "code",
      "execution_count": null,
      "metadata": {
        "id": "Qee2hY90DEUk"
      },
      "outputs": [],
      "source": [
        "# Cross Validation using KFold \n",
        "\n",
        "scores = cross_validate(clf_bagging, X_val, y_test,cv=KFold(n_splits=5))\n",
        "k=scores['test_score']\n",
        "print(\"K fold scores are:\", k)\n",
        "print(\"Average of k fold scores is:\", np.mean(k, axis = None))"
      ],
      "id": "Qee2hY90DEUk"
    },
    {
      "cell_type": "markdown",
      "metadata": {
        "id": "BWv-lkO8DEUk"
      },
      "source": [
        "## 9. Logistic Regression"
      ],
      "id": "BWv-lkO8DEUk"
    },
    {
      "cell_type": "code",
      "execution_count": null,
      "metadata": {
        "id": "xUlHP_6eDEUl"
      },
      "outputs": [],
      "source": [
        "start = timeit.default_timer()\n",
        "\n",
        "lr = LogisticRegression(class_weight = 'balanced')\n",
        "lr.fit(X_train, y_train)\n",
        "\n",
        "stop = timeit.default_timer()\n",
        "\n",
        "print('Time: ', stop - start) \n",
        "\n",
        "preds = lr.predict(X_val)"
      ],
      "id": "xUlHP_6eDEUl"
    },
    {
      "cell_type": "code",
      "execution_count": null,
      "metadata": {
        "id": "Au4T-sXsDEUl"
      },
      "outputs": [],
      "source": [
        "pd.DataFrame(confusion_matrix(y_test, preds), columns=['Predicted 0', \"Predicted 1\"], index=['Actual 0', 'Actual 0'])"
      ],
      "id": "Au4T-sXsDEUl"
    },
    {
      "cell_type": "code",
      "execution_count": null,
      "metadata": {
        "id": "kc04lnBQDEUl"
      },
      "outputs": [],
      "source": [
        "result = pd.crosstab(y_test, preds, rownames=['Actual Result'], colnames=['Predicted Result'])\n",
        "print(\"Confusion Matrix:\\n\")\n",
        "print(result)\n",
        "result1 = classification_report(y_test, preds)\n",
        "print(\"\\nClassification Report:\\n\",)\n",
        "print (result1)\n",
        "result2 = accuracy_score(y_test, preds)\n",
        "print(\"Accuracy of the model:\",result2)"
      ],
      "id": "kc04lnBQDEUl"
    },
    {
      "cell_type": "code",
      "execution_count": null,
      "metadata": {
        "id": "AHE_C2WfDEUl"
      },
      "outputs": [],
      "source": [
        "tn, fp, fn, tp = confusion_matrix(y_test, preds).ravel()\n",
        "print(f'True Positives: {tp}')\n",
        "print(f'False Positives: {fp}')\n",
        "print(f'True Negatives: {tn}')\n",
        "print(f'False Negatives: {fn}')"
      ],
      "id": "AHE_C2WfDEUl"
    },
    {
      "cell_type": "code",
      "execution_count": null,
      "metadata": {
        "id": "PsmZcGXoDEUl"
      },
      "outputs": [],
      "source": [
        "probas = lr.predict_proba(X_val)[:, 1]"
      ],
      "id": "PsmZcGXoDEUl"
    },
    {
      "cell_type": "code",
      "execution_count": null,
      "metadata": {
        "id": "RPwGyf1GDEUl"
      },
      "outputs": [],
      "source": [
        "probas"
      ],
      "id": "RPwGyf1GDEUl"
    },
    {
      "cell_type": "code",
      "execution_count": null,
      "metadata": {
        "id": "lkxHw9sHDEUl"
      },
      "outputs": [],
      "source": [
        "def get_preds(threshold, probabilities):\n",
        "    return [1 if prob > threshold else 0 for prob in probabilities]"
      ],
      "id": "lkxHw9sHDEUl"
    },
    {
      "cell_type": "code",
      "execution_count": null,
      "metadata": {
        "id": "_xZdZ5f8DEUl"
      },
      "outputs": [],
      "source": [
        "roc_values = []\n",
        "for thresh in np.linspace(0, 1, 100):\n",
        "    preds = get_preds(thresh, probas)\n",
        "    tn, fp, fn, tp = confusion_matrix(y_test, preds).ravel()\n",
        "    tpr = tp/(tp+fn)\n",
        "    fpr = fp/(fp+tn)\n",
        "    roc_values.append([tpr, fpr])\n",
        "tpr_values, fpr_values = zip(*roc_values)"
      ],
      "id": "_xZdZ5f8DEUl"
    },
    {
      "cell_type": "code",
      "execution_count": null,
      "metadata": {
        "id": "6JBv-YWnDEUm"
      },
      "outputs": [],
      "source": [
        "fig, ax = plt.subplots(figsize=(10,7))\n",
        "ax.plot(fpr_values, tpr_values)\n",
        "ax.plot(np.linspace(0, 1, 100),\n",
        "         np.linspace(0, 1, 100),\n",
        "         label='baseline',\n",
        "         linestyle='--')\n",
        "plt.title('Receiver Operating Characteristic Curve', fontsize=18)\n",
        "plt.ylabel('TPR', fontsize=16)\n",
        "plt.xlabel('FPR', fontsize=16)\n",
        "plt.legend(fontsize=12);"
      ],
      "id": "6JBv-YWnDEUm"
    },
    {
      "cell_type": "code",
      "execution_count": null,
      "metadata": {
        "id": "U_gfzASvDEUm"
      },
      "outputs": [],
      "source": [
        "roc_auc_score(y_test, lr.predict_proba(X_val)[:, 1])"
      ],
      "id": "U_gfzASvDEUm"
    },
    {
      "cell_type": "markdown",
      "metadata": {
        "id": "Tp4hH3y4DEUm"
      },
      "source": [
        "# PHASE 3: ALGORITHMS ON TESTING DATA"
      ],
      "id": "Tp4hH3y4DEUm"
    },
    {
      "cell_type": "code",
      "execution_count": null,
      "metadata": {
        "id": "ZyxUjJWUDEUm"
      },
      "outputs": [],
      "source": [
        "# df2 = pd.read_csv(r\"F:\\Shaastra Workshop\\Data Sprint 56 HR Analytics\\Attrition_testing_data.csv\")\n",
        "df2 = pd.read_csv(r\"https://raw.githubusercontent.com/gudiseva/IIT_Madras_Shaastra/main/Attrition_testing_data.csv\")\n",
        "df2"
      ],
      "id": "ZyxUjJWUDEUm"
    },
    {
      "cell_type": "markdown",
      "metadata": {
        "id": "qMCMWFbCDEUm"
      },
      "source": [
        "## Preprocessing of Testing Data (Exactly same as Training Data)\n",
        "\n",
        "\n",
        "### 1. Check column drops \n",
        "### 2. Check missing values\n",
        "### 3. Check encoding \n",
        "### 4. Check scaling \n",
        "### 5. Check anything else"
      ],
      "id": "qMCMWFbCDEUm"
    },
    {
      "cell_type": "code",
      "execution_count": null,
      "metadata": {
        "id": "pKxiku5ODEUm"
      },
      "outputs": [],
      "source": [
        "objList = df2.select_dtypes(include = \"object\").columns\n",
        "print (objList)"
      ],
      "id": "pKxiku5ODEUm"
    },
    {
      "cell_type": "code",
      "execution_count": null,
      "metadata": {
        "id": "ojmrShx6DEUn"
      },
      "outputs": [],
      "source": [
        "## Method 1: Label Encoder\n",
        "#Label Encoding for object to numeric conversion\n",
        "\n",
        "le = LabelEncoder()\n",
        "\n",
        "for feat in objList:\n",
        "    df2[feat] = le.fit_transform(df2[feat].astype(str))\n",
        "\n",
        "print (df2.info())"
      ],
      "id": "ojmrShx6DEUn"
    },
    {
      "cell_type": "markdown",
      "metadata": {
        "id": "wP-GRKCCDEUn"
      },
      "source": [
        "# Final Data for Testing model"
      ],
      "id": "wP-GRKCCDEUn"
    },
    {
      "cell_type": "code",
      "execution_count": null,
      "metadata": {
        "id": "7tMF0pSHDEUn"
      },
      "outputs": [],
      "source": [
        "X_train = X\n",
        "y_train = y\n",
        "print (X_train.shape, y_train.shape)\n",
        "print (df2.shape)                      ## X_test is replaced by df2\n",
        "\n",
        "\n",
        "## Check if number of columns in X_train and df2 are equal "
      ],
      "id": "7tMF0pSHDEUn"
    },
    {
      "cell_type": "markdown",
      "metadata": {
        "id": "kEaA-2IJDEUn"
      },
      "source": [
        "# Use your best algorithm \n",
        "\n",
        "### 1. Copy paste your algorithm in following block\n",
        "### 2. Replace X_test to df2\n",
        "### 3. Change the prediction file name to test_prediction \n",
        "\n",
        "\n",
        "### Note: Final line should look like test_prediction = model_name.predict(df2)"
      ],
      "id": "kEaA-2IJDEUn"
    },
    {
      "cell_type": "code",
      "execution_count": null,
      "metadata": {
        "id": "6qpZ0QisDEUn"
      },
      "outputs": [],
      "source": [
        "## Random Forest Trees with default parameters (i.e. 100 Decision Trees)\n",
        "\n",
        "rfc = RandomForestClassifier(random_state=0)\n",
        "rfc.fit(X_train, y_train)\n",
        "\n",
        "\n",
        "test_prediction = rfc.predict(df2)"
      ],
      "id": "6qpZ0QisDEUn"
    },
    {
      "cell_type": "markdown",
      "metadata": {
        "id": "zhkOEUguDEUn"
      },
      "source": [
        "# Preparing Prediction File for downloading "
      ],
      "id": "zhkOEUguDEUn"
    },
    {
      "cell_type": "code",
      "execution_count": null,
      "metadata": {
        "id": "2VpVDhVzDEUn"
      },
      "outputs": [],
      "source": [
        "from pandas import DataFrame\n",
        "df3 = DataFrame(test_prediction, columns=['Attrition'])      ## Change column name as per the requirement of the submission file\n",
        "df3"
      ],
      "id": "2VpVDhVzDEUn"
    },
    {
      "cell_type": "code",
      "execution_count": null,
      "metadata": {
        "id": "zq8igRpRDEUo"
      },
      "outputs": [],
      "source": [
        "test_prediction"
      ],
      "id": "zq8igRpRDEUo"
    },
    {
      "cell_type": "code",
      "execution_count": null,
      "metadata": {
        "id": "S8lOrcYIDEUo"
      },
      "outputs": [],
      "source": [
        "y_id = df2['EmployeeNumber'].to_numpy()      ## Converting into an array \n",
        "y_id"
      ],
      "id": "S8lOrcYIDEUo"
    },
    {
      "cell_type": "code",
      "execution_count": null,
      "metadata": {
        "id": "hDp_SNB_DEUo"
      },
      "outputs": [],
      "source": [
        "Id = DataFrame(y_id, columns = ['Id'], index = None)       ## Converting into a dataframe\n",
        "Id"
      ],
      "id": "hDp_SNB_DEUo"
    },
    {
      "cell_type": "code",
      "execution_count": null,
      "metadata": {
        "id": "rW037zpADEUo"
      },
      "outputs": [],
      "source": [
        "result = Id.join(df3)     ### Joining test unique id with predictions "
      ],
      "id": "rW037zpADEUo"
    },
    {
      "cell_type": "code",
      "execution_count": null,
      "metadata": {
        "id": "zewCNV2-DEUo"
      },
      "outputs": [],
      "source": [
        "result"
      ],
      "id": "zewCNV2-DEUo"
    },
    {
      "cell_type": "markdown",
      "metadata": {
        "id": "SMBjCAuHDEUo"
      },
      "source": [
        "# Downloading submission file "
      ],
      "id": "SMBjCAuHDEUo"
    },
    {
      "cell_type": "code",
      "execution_count": null,
      "metadata": {
        "id": "9I5A_sxYDEUo"
      },
      "outputs": [],
      "source": [
        "### Save the file \n",
        "### Remember to change the file name \n",
        "\n",
        "result.to_csv(r'F:\\Shaastra Workshop\\Data Sprint 56 HR Analytics\\prediction_2.csv', index = False)   \n",
        "\n",
        "## 'index = False' removes first column with auto generated index ids"
      ],
      "id": "9I5A_sxYDEUo"
    },
    {
      "cell_type": "markdown",
      "metadata": {
        "id": "TTuDXppRDEUo"
      },
      "source": [
        "## Compare your Results "
      ],
      "id": "TTuDXppRDEUo"
    },
    {
      "cell_type": "markdown",
      "metadata": {
        "id": "fi8jtCiuDEUp"
      },
      "source": [
        "### The best model with respect to accuracy: ___________ with accuracy of ___________ %\n",
        "\n",
        "### Write the accuracy of the model:\n",
        "\n",
        "### Model:                                              Accuracy  \n",
        "\n",
        "### 1. XGBoost :                                    \n",
        "### 2. Gradient Boosting :                   \n",
        "### 3. Light GBM :                                  \n",
        "### 4. CatBoost :                                 \n",
        "### 5. Random Forest :                          \n",
        "### 6. Bagging :                                      \n",
        "### 7. Decision Trees :                           \n",
        "### 8. Adaboost :   \n",
        "### 9. Logistic Regression:"
      ],
      "id": "fi8jtCiuDEUp"
    },
    {
      "cell_type": "markdown",
      "metadata": {
        "id": "aIvtU1CdDEUp"
      },
      "source": [
        "## End of code"
      ],
      "id": "aIvtU1CdDEUp"
    }
  ],
  "metadata": {
    "kernelspec": {
      "display_name": "Python 3",
      "language": "python",
      "name": "python3"
    },
    "language_info": {
      "codemirror_mode": {
        "name": "ipython",
        "version": 3
      },
      "file_extension": ".py",
      "mimetype": "text/x-python",
      "name": "python",
      "nbconvert_exporter": "python",
      "pygments_lexer": "ipython3",
      "version": "3.7.6"
    },
    "colab": {
      "name": "Shaastra ML - HR Analytics Attrition Rate.ipynb",
      "provenance": []
    }
  },
  "nbformat": 4,
  "nbformat_minor": 5
}